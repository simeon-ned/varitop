{
 "cells": [
  {
   "cell_type": "code",
   "execution_count": 1,
   "metadata": {},
   "outputs": [],
   "source": [
    "\"\"\"Temporary fix for importing modules from parent directory\"\"\"\n",
    "\n",
    "import os\n",
    "import sys\n",
    "\n",
    "module_path = os.path.abspath(os.path.join(\"..\"))\n",
    "if module_path not in sys.path:\n",
    "    sys.path.append(module_path)"
   ]
  },
  {
   "cell_type": "code",
   "execution_count": 2,
   "metadata": {},
   "outputs": [],
   "source": [
    "from varitop.misc import euler_rule, qconj, q2rm, quat_prod\n",
    "from varitop.integrator import DelIntegrator as DI"
   ]
  },
  {
   "cell_type": "code",
   "execution_count": 3,
   "metadata": {},
   "outputs": [],
   "source": [
    "import numpy as np\n",
    "from time import sleep"
   ]
  },
  {
   "cell_type": "code",
   "execution_count": 4,
   "metadata": {},
   "outputs": [],
   "source": [
    "%%capture\n",
    "!pip3 install robot_descriptions\n",
    "from robot_descriptions.skydio_x2_mj_description import MJCF_PATH\n",
    "from robot_descriptions.skydio_x2_description import URDF_PATH"
   ]
  },
  {
   "cell_type": "code",
   "execution_count": 5,
   "metadata": {},
   "outputs": [
    {
     "name": "stdout",
     "output_type": "stream",
     "text": [
      "Process render is starting!\n"
     ]
    }
   ],
   "source": [
    "from mujoco_simulator.model_builder import ModelBuilder\n",
    "from mujoco_simulator.simulator import MujocoRender\n",
    "model_wrapper = ModelBuilder(MJCF_PATH)\n",
    "model_wrapper.add_arena()\n",
    "model_wrapper.build()\n",
    "ren = MujocoRender(model=model_wrapper, \n",
    "                   start=True, \n",
    "                   convention='pin')\n",
    "Q_INIT = np.array([0, 0, 1.0, 0, 0, 0,1])\n",
    "ren.set_state(Q_INIT)"
   ]
  },
  {
   "cell_type": "code",
   "execution_count": 6,
   "metadata": {},
   "outputs": [],
   "source": [
    "from darli.model import Functional\n",
    "from darli.backend import CasadiBackend, JointType\n",
    "from darli.backend.liecasadi.so3 import SO3\n",
    "from darli.state_space import StateSpace\n",
    "import casadi as cs\n",
    "\n",
    "model = Functional(CasadiBackend(URDF_PATH))\n",
    "# TODO: add selector\n",
    "selector = np.array([[0.0, 0.0, 0.0, 0.0],\n",
    "                     [0.0, 0.0, 0.0, 0.0],\n",
    "                     [1.0, 1.0, 1.0, 1.0],\n",
    "                     [-0.18, 0.18, 0.18, -0.18],\n",
    "                     [0.14, 0.14, -0.14, -0.14],\n",
    "                     [-0.0201, 0.0201, 0.0201, -0.0201]])\n",
    "\n",
    "model.update_selector(selector)"
   ]
  },
  {
   "cell_type": "code",
   "execution_count": 7,
   "metadata": {},
   "outputs": [],
   "source": [
    "di = DI()\n",
    "di.nq = model.nq\n",
    "di.nv = model.nv\n",
    "di.nu = 4\n",
    "di.free_body = True\n",
    "di.rule = euler_rule\n",
    "di.lagrangian = model.lagrangian"
   ]
  },
  {
   "cell_type": "code",
   "execution_count": 8,
   "metadata": {},
   "outputs": [],
   "source": [
    "def define_force():\n",
    "    q = cs.SX.sym(\"q\", di.nq)\n",
    "    dq = cs.SX.sym(\"dq\", di.nq)\n",
    "    u = cs.SX.sym(\"u\", 4)\n",
    "\n",
    "    f = selector @ u\n",
    "    fr = cs.vcat([f[3:], 0])\n",
    "    ft = f[:3]\n",
    "    \n",
    "    return cs.Function(\n",
    "            \"f\",\n",
    "            [q, dq, u],\n",
    "            [cs.vcat([ft, 2 * quat_prod(q[3:], fr)])],\n",
    "        )\n",
    "f = define_force()"
   ]
  },
  {
   "cell_type": "code",
   "execution_count": 9,
   "metadata": {},
   "outputs": [],
   "source": [
    "def define_constraint():\n",
    "    q = cs.SX.sym(\"q\", di.nq)\n",
    "    dq = cs.SX.sym(\"dq\", di.nq)\n",
    "    u = cs.SX.sym(\"u\", di.nu)\n",
    "\n",
    "    return cs.Function(\"phi0\", [q], [q[3:].T @ q[3:] - 1])\n",
    "\n",
    "phi0 = define_constraint()"
   ]
  },
  {
   "cell_type": "code",
   "execution_count": 10,
   "metadata": {},
   "outputs": [],
   "source": [
    "di.add_generalized_forces([f])\n",
    "di.add_dynamics_constraints([phi0])"
   ]
  },
  {
   "cell_type": "code",
   "execution_count": 11,
   "metadata": {},
   "outputs": [
    {
     "data": {
      "text/plain": [
       "Function(del:(q-1[7],q[7],q+1[7],dt,lambda,u[4])->(DEL Residual[8]) SXFunction)"
      ]
     },
     "execution_count": 11,
     "metadata": {},
     "output_type": "execute_result"
    }
   ],
   "source": [
    "del_residual = di.get_residual()\n",
    "del_residual"
   ]
  },
  {
   "cell_type": "markdown",
   "metadata": {},
   "source": [
    "Define the variables in tangent space and get the configuration via exponential:"
   ]
  },
  {
   "cell_type": "code",
   "execution_count": 12,
   "metadata": {},
   "outputs": [],
   "source": [
    "\n",
    "ns = 40\n",
    "\n",
    "opti_problem = cs.Opti()\n",
    "tf = opti_problem.parameter(1)\n",
    "dt = tf / ns\n",
    "\n",
    "state = opti_problem.variable(model.nq + model.nv, ns+1)\n",
    "q = state[:model.nq, :]\n",
    "v = state[model.nq:, :]\n",
    "u = opti_problem.variable(model.nu, ns)\n",
    "lmbdas = opti_problem.variable(1, ns)\n",
    "\n",
    "q0 = opti_problem.parameter(model.nq)\n",
    "qf = opti_problem.parameter(model.nq)"
   ]
  },
  {
   "cell_type": "code",
   "execution_count": 13,
   "metadata": {},
   "outputs": [],
   "source": [
    "solver = 'var'"
   ]
  },
  {
   "cell_type": "code",
   "execution_count": 14,
   "metadata": {},
   "outputs": [],
   "source": [
    "\n",
    "position_weight = opti_problem.parameter(1)\n",
    "# orientation_weight = opti_problem.parameter(1)\n",
    "acceleration_weight = opti_problem.parameter(1)\n",
    "velocity_weight = opti_problem.parameter(1)\n",
    "control_weight = opti_problem.parameter(1)\n",
    "control_max = opti_problem.parameter(model.nu)\n",
    "\n",
    "fd = model.forward_dynamics\n",
    "\n",
    "cost = 0 \n",
    "for i in range(1, ns):\n",
    "    if solver == 'var':\n",
    "        opti_problem.subject_to(del_residual(q[:, i - 1], q[:, i], q[:, i + 1], dt, lmbdas[:, i - 1], u[:, i - 1]) == 0)\n",
    "    else:\n",
    "        dv_i = fd(q[:,i], v[:,i], u[:, i])\n",
    "        opti_problem.subject_to(v[:, i+1] == v[:,i] + dt*dv_i)\n",
    "        opti_problem.subject_to(q[:,i+1] == model.backend.integrate_configuration(q[:,i], v[:,i]*dt))\n",
    "    \n",
    "    \n",
    "    cost += position_weight*cs.sumsqr(q[:3,i] - qf[:3])*dt\n",
    "    # so3_error = SO3(xyzw=q[3:,i]).distance(SO3(xyzw = qf[3:]))**2\n",
    "    # cost += orientation_weight*so3_error*dt\n",
    "    cost += control_weight*cs.sumsqr(u[:,i])*dt\n",
    "    cost += velocity_weight*cs.sumsqr(v[:,i])*dt\n",
    "    # cost += acceleration_weight*cs.sumsqr(dv_i)*dt\n",
    "    opti_problem.subject_to(opti_problem.bounded(np.zeros(model.nu), u[:, i], control_max))\n",
    "    opti_problem.subject_to(q[2, i] >= 0.4)\n",
    "    \n",
    "opti_problem.subject_to(v[:,0] == np.zeros(model.nv))\n",
    "opti_problem.subject_to(v[:, -1] == np.zeros(model.nv))\n",
    "opti_problem.subject_to(q[:, 0] == q0)\n",
    "opti_problem.subject_to(q[:, -1] == qf)\n",
    "\n",
    "opti_problem.minimize(cost)\n",
    "opti_problem.solver('ipopt')"
   ]
  },
  {
   "cell_type": "code",
   "execution_count": 15,
   "metadata": {},
   "outputs": [],
   "source": [
    "np.random.seed(42)"
   ]
  },
  {
   "cell_type": "code",
   "execution_count": 16,
   "metadata": {},
   "outputs": [],
   "source": [
    "Q_INIT = np.array([0, 0, 1.5, 0,0,0, 1])\n",
    "quat_random = np.random.rand(4)\n",
    "quat_random /= np.linalg.norm(quat_random)\n",
    "Q_INIT[3:] = quat_random\n",
    "Q_FINAL = np.array([0, 0., 2.5, 0, 0, 0, 1])\n",
    "Q_FINAL[:3] += np.random.randn(3)\n",
    "\n",
    "t_final = 3\n",
    "\n",
    "\n",
    "opti_problem.set_value(control_max, 50*np.ones(model.nu) )\n",
    "opti_problem.set_value(q0, Q_INIT)\n",
    "opti_problem.set_value(qf, Q_FINAL)\n",
    "opti_problem.set_value(tf[0], t_final)\n",
    "\n",
    "opti_problem.set_value(position_weight[0], 5)\n",
    "# opti_problem.set_value(orientation_weight[0], 0)\n",
    "opti_problem.set_value(velocity_weight[0], 10)\n",
    "opti_problem.set_value(acceleration_weight[0], 5)\n",
    "opti_problem.set_value(control_weight[0], 5)\n",
    "opti_problem.set_initial(q[3:,:], np.array([Q_INIT[3:]]*(ns+1)).T)\n",
    "opti_problem.set_initial(q[:3,:], np.linspace(Q_INIT[:3], Q_FINAL[:3], ns+1).T)\n",
    "\n",
    "ren.set_state(Q_INIT)\n",
    "ren.markers[ns+1](position=Q_FINAL[:3],\n",
    "                color=[1, 0, 0, 0.5],\n",
    "                size=0.04)\n",
    "ren.markers[ns+2](position=Q_INIT[:3],\n",
    "                color=[0, 1, 0, 0.5],\n",
    "                size=0.04)\n"
   ]
  },
  {
   "cell_type": "code",
   "execution_count": 17,
   "metadata": {},
   "outputs": [
    {
     "name": "stdout",
     "output_type": "stream",
     "text": [
      "\n",
      "******************************************************************************\n",
      "This program contains Ipopt, a library for large-scale nonlinear optimization.\n",
      " Ipopt is released as open source code under the Eclipse Public License (EPL).\n",
      "         For more information visit https://github.com/coin-or/Ipopt\n",
      "******************************************************************************\n",
      "\n",
      "This is Ipopt version 3.14.11, running with linear solver MUMPS 5.4.1.\n",
      "\n",
      "Number of nonzeros in equality constraint Jacobian...:     6149\n",
      "Number of nonzeros in inequality constraint Jacobian.:      195\n",
      "Number of nonzeros in Lagrangian Hessian.............:     4413\n",
      "\n",
      "Total number of variables............................:      733\n",
      "                     variables with only lower bounds:        0\n",
      "                variables with lower and upper bounds:        0\n",
      "                     variables with only upper bounds:        0\n",
      "Total number of equality constraints.................:      338\n",
      "Total number of inequality constraints...............:      195\n",
      "        inequality constraints with only lower bounds:       39\n",
      "   inequality constraints with lower and upper bounds:      156\n",
      "        inequality constraints with only upper bounds:        0\n",
      "\n",
      "iter    objective    inf_pr   inf_du lg(mu)  ||d||  lg(rg) alpha_du alpha_pr  ls\n",
      "   0  3.2552626e+01 9.75e-01 8.13e-01  -1.0 0.00e+00    -  0.00e+00 0.00e+00   0\n",
      "   1  1.9903378e+01 7.76e-01 1.63e+14  -1.0 6.19e+01  -2.0 1.17e-01 2.50e-01f  3\n",
      "   2  2.0057318e+01 7.31e-01 3.12e+18  -1.0 9.36e+05  -2.5 1.33e-06 1.20e-06h  1\n",
      "   3  2.7715917e+02 1.10e+00 5.37e+08  -1.0 4.54e+01  -2.5 7.70e-02 1.00e+00h  1\n",
      "   4  2.3898945e+02 2.54e+00 5.37e+08  -1.0 7.97e+01  -3.0 4.83e-01 5.00e-01f  2\n",
      "   5  2.2949248e+02 4.02e+00 5.37e+08  -1.0 3.56e+00  -1.3 7.91e-01 5.00e-01f  2\n",
      "   6  2.2585828e+02 1.27e+00 3.76e+00  -1.0 1.99e+00  -1.3 1.00e+00 1.00e+00f  1\n",
      "   7  2.2549525e+02 2.86e+00 5.60e+00  -1.0 2.17e+00  -1.4 1.00e+00 5.00e-01h  2\n",
      "   8  2.2524302e+02 2.34e+00 7.04e+00  -1.0 3.47e+00  -1.4 1.00e+00 5.00e-01h  2\n",
      "   9  2.2480594e+02 7.47e+00 2.24e+01  -1.0 2.42e+00  -1.5 1.00e+00 1.00e+00h  1\n",
      "iter    objective    inf_pr   inf_du lg(mu)  ||d||  lg(rg) alpha_du alpha_pr  ls\n",
      "  10  2.2472383e+02 1.12e+00 2.48e+00  -1.0 4.90e-01  -0.6 1.00e+00 1.00e+00h  1\n",
      "  11  2.2402548e+02 5.20e-01 3.73e-01  -1.0 2.61e+00  -1.6 1.00e+00 1.00e+00h  1\n",
      "  12  2.1814053e+02 5.20e-01 8.80e-01  -1.7 2.06e+01  -2.5 1.00e+00 1.00e+00f  1\n",
      "  13  2.1776743e+02 5.20e-01 3.57e+00  -1.7 1.51e+01  -2.6 1.00e+00 1.01e-01h  1\n",
      "  14  2.1756589e+02 5.20e-01 3.57e-02  -1.7 1.38e+00  -2.6 1.00e+00 1.00e+00h  1\n",
      "  15  2.1751699e+02 5.20e-01 7.52e-03  -1.7 1.04e+00  -3.6 1.00e+00 1.00e+00h  1\n",
      "  16  2.1751740e+02 1.02e+00 8.84e-03  -1.7 2.11e+00  -4.5 1.00e+00 1.00e+00h  1\n",
      "  17  2.1751736e+02 5.20e-01 1.28e-03  -1.7 7.76e-01  -4.6 1.00e+00 1.00e+00h  1\n",
      "  18  2.1751717e+02 6.61e+00 1.64e-02  -1.7 3.42e+00  -5.5 1.00e+00 1.00e+00h  1\n",
      "  19  2.1751713e+02 3.44e+01 7.85e-02  -1.7 1.06e+01  -6.5 1.00e+00 1.00e+00h  1\n",
      "iter    objective    inf_pr   inf_du lg(mu)  ||d||  lg(rg) alpha_du alpha_pr  ls\n",
      "  20  2.1751717e+02 3.33e+01 7.59e-02  -1.7 2.18e+01  -7.4 1.00e+00 3.12e-02h  6\n",
      "  21  2.1751717e+02 3.32e+01 7.56e-02  -1.7 2.13e+01  -8.4 1.00e+00 3.91e-03h  9\n",
      "  22  2.1751717e+02 3.31e+01 7.55e-02  -1.7 2.13e+01  -9.3 1.00e+00 1.95e-03h 10\n",
      "  23  2.1751717e+02 3.31e+01 7.54e-02  -1.7 2.13e+01 -10.3 1.00e+00 9.77e-04h 11\n",
      "  24  2.1751717e+02 3.31e+01 7.54e-02  -1.7 2.12e+01 -11.3 1.00e+00 2.44e-04h 13\n",
      "  25  2.1751931e+02 3.32e+01 1.15e-01  -1.7 2.12e+01 -12.2 1.00e+00 1.00e+00h  1\n",
      "  26  2.1751691e+02 6.09e-01 1.12e-01  -1.7 2.18e+01  -4.8 1.00e+00 1.00e+00h  1\n",
      "  27  2.1751690e+02 5.20e-01 1.60e-03  -1.7 4.30e+00  -5.8 1.00e+00 1.00e+00h  1\n",
      "  28  2.1751685e+02 1.56e+01 2.86e-02  -1.7 9.21e+00  -6.7 1.00e+00 1.00e+00h  1\n",
      "  29  2.1751684e+02 5.20e-01 9.34e-04  -1.7 6.20e+00  -7.7 1.00e+00 1.00e+00h  1\n",
      "iter    objective    inf_pr   inf_du lg(mu)  ||d||  lg(rg) alpha_du alpha_pr  ls\n",
      "  30  2.1751680e+02 6.24e+01 9.17e-02  -1.7 2.10e+01  -8.7 1.00e+00 1.00e+00h  1\n",
      "  31  2.1751682e+02 3.80e+00 5.68e-03  -1.7 2.11e+00  -9.6 1.00e+00 1.00e+00h  1\n",
      "  32  2.1751677e+02 1.21e+02 1.96e-01  -1.7 3.37e+01 -10.6 1.00e+00 1.00e+00h  1\n",
      "  33  2.1751679e+02 1.92e+01 2.93e-02  -1.7 8.75e+00 -10.6 1.00e+00 1.00e+00h  1\n",
      "  34  2.1751678e+02 5.20e-01 1.83e-04  -1.7 1.98e+00  -9.8 1.00e+00 1.00e+00h  1\n",
      "  35  2.1751673e+02 8.88e+02 1.40e+00  -1.7 1.00e+02  -9.8 1.00e+00 1.00e+00h  1\n",
      "  36  2.1751675e+02 1.83e+01 2.85e-02  -1.7 2.18e+00 -10.8 1.00e+00 1.00e+00h  1\n",
      "  37  2.1751675e+02 5.28e+01 8.00e-02  -1.7 4.00e+01 -10.8 1.00e+00 1.00e+00h  1\n",
      "  38  2.1751674e+02 5.66e+02 9.32e-01  -1.7 1.69e+04  -9.1 1.00e+00 7.81e-03h  8\n",
      "  39  2.1751674e+02 4.93e+02 8.12e-01  -1.7 5.65e+01 -10.0 1.00e+00 1.25e-01h  4\n",
      "iter    objective    inf_pr   inf_du lg(mu)  ||d||  lg(rg) alpha_du alpha_pr  ls\n",
      "  40  2.1751675e+02 4.77e+02 7.86e-01  -1.7 6.66e+01 -11.0 1.00e+00 3.12e-02h  6\n",
      "  41  2.1751675e+02 4.62e+02 7.62e-01  -1.7 6.93e+01 -11.0 1.00e+00 3.12e-02h  6\n",
      "  42  2.1751675e+02 4.62e+02 7.61e-01  -1.7 7.21e+01 -12.0 1.00e+00 9.77e-04h 11\n",
      "  43  2.1751675e+02 4.62e+02 7.61e-01  -1.7 7.22e+01 -12.9 1.00e+00 2.44e-04h 13\n",
      "  44  2.1751679e+02 1.46e+02 2.33e-01  -1.7 7.22e+01 -12.1 1.00e+00 1.00e+00h  1\n",
      "  45  2.1751675e+02 1.77e+02 2.87e-01  -1.7 1.77e+02 -13.0 1.00e+00 1.00e+00h  1\n",
      "  46  2.1751677e+02 7.77e+00 1.24e-02  -1.7 8.07e+01 -10.4 1.00e+00 1.00e+00h  1\n",
      "  47  2.1751674e+02 3.88e+00 2.39e-02  -1.7 2.11e+01 -10.4 1.00e+00 1.00e+00h  1\n",
      "  48  2.1751674e+02 2.48e+00 4.83e-03  -1.7 1.41e+01  -8.7 1.00e+00 1.00e+00h  1\n",
      "  49  2.1751674e+02 2.57e+01 4.11e-02  -1.7 4.31e+01  -9.6 1.00e+00 1.00e+00h  1\n",
      "iter    objective    inf_pr   inf_du lg(mu)  ||d||  lg(rg) alpha_du alpha_pr  ls\n",
      "  50  2.1751673e+02 1.36e+02 2.19e-01  -1.7 1.03e+02 -10.6 1.00e+00 1.00e+00h  1\n",
      "  51  2.1751673e+02 4.79e+00 7.54e-03  -1.7 4.46e+01 -11.5 1.00e+00 1.00e+00h  1\n",
      "  52  2.1751673e+02 9.78e+02 1.55e+00  -1.7 2.77e+02 -11.6 1.00e+00 1.00e+00h  1\n",
      "  53  2.1751673e+02 7.36e+02 1.16e+00  -1.7 1.76e+01 -12.5 1.00e+00 2.50e-01h  3\n",
      "  54  2.1751673e+02 3.47e+01 5.51e-02  -1.7 2.00e+01  -9.9 1.00e+00 1.00e+00h  1\n",
      "  55  2.1751673e+02 1.04e+00 3.13e-03  -1.7 1.90e+01  -9.9 1.00e+00 1.00e+00h  1\n",
      "  56  2.1751673e+02 9.72e+01 1.55e-01  -1.7 1.19e+02 -10.9 1.00e+00 1.00e+00h  1\n",
      "  57  2.1751673e+02 3.46e+01 5.69e-02  -1.7 9.87e+01 -11.8 1.00e+00 1.00e+00h  1\n",
      "  58  2.1751673e+02 3.45e+01 5.69e-02  -1.7 2.92e+03 -12.8 1.00e+00 4.88e-04h 12\n",
      "  59  2.1751673e+02 5.75e+00 9.66e-03  -1.7 2.10e+02 -10.1 1.00e+00 1.00e+00h  1\n",
      "iter    objective    inf_pr   inf_du lg(mu)  ||d||  lg(rg) alpha_du alpha_pr  ls\n",
      "  60  2.1751673e+02 2.58e+01 4.17e-02  -1.7 1.33e+02 -11.1 1.00e+00 5.00e-01h  2\n",
      "  61  2.1751673e+02 4.01e+00 6.45e-03  -1.7 3.42e+01 -10.2 1.00e+00 1.00e+00h  1\n",
      "  62  2.1751673e+02 5.20e-01 1.27e-04  -1.7 5.16e+00  -9.4 1.00e+00 1.00e+00h  1\n",
      "  63  2.1751673e+02 5.20e-01 2.40e-04  -1.7 5.76e+00  -9.4 1.00e+00 1.00e+00h  1\n",
      "  64  2.1751673e+02 5.20e-01 2.94e-04  -1.7 6.40e+00  -9.5 1.00e+00 1.00e+00h  1\n",
      "  65  2.1751673e+02 5.20e-01 3.58e-04  -1.7 7.08e+00  -9.5 1.00e+00 1.00e+00h  1\n",
      "  66  2.1751673e+02 5.20e-01 6.54e-06  -1.7 1.00e+00  -8.7 1.00e+00 1.00e+00h  1\n",
      "  67  2.1751673e+02 5.20e-01 5.64e-04  -1.7 8.87e+00  -9.6 1.00e+00 1.00e+00h  1\n",
      "  68  2.1751673e+02 5.20e-01 6.77e-04  -1.7 9.81e+00  -9.7 1.00e+00 1.00e+00h  1\n",
      "  69  2.1751673e+02 5.20e-01 8.15e-04  -1.7 1.08e+01  -9.7 1.00e+00 1.00e+00h  1\n",
      "iter    objective    inf_pr   inf_du lg(mu)  ||d||  lg(rg) alpha_du alpha_pr  ls\n",
      "  70  2.1751673e+02 6.15e-01 9.86e-04  -1.7 1.20e+01  -9.8 1.00e+00 1.00e+00h  1\n",
      "  71  2.1751673e+02 7.36e-01 1.18e-03  -1.7 1.31e+01  -9.9 1.00e+00 1.00e+00h  1\n",
      "  72  2.1751673e+02 5.20e-01 1.98e-05  -1.7 1.85e+00  -9.0 1.00e+00 1.00e+00h  1\n",
      "  73  2.1751673e+02 5.20e-01 5.37e+08  -1.7 2.07e+00  -9.1 1.00e+00 1.00e+00H  1\n",
      "  74  2.1751673e+02 5.20e-01 5.37e+08  -1.7 2.32e+00  -9.1 1.00e+00 1.00e+00H  1\n",
      "  75  2.1751673e+02 5.20e-01 5.37e+08  -1.7 8.70e-01  -8.7 1.00e+00 1.00e+00H  1\n",
      "  76  2.1751673e+02 5.20e-01 5.37e+08  -1.7 2.60e+00  -9.2 1.00e+00 1.00e+00H  1\n",
      "  77  2.1751673e+02 2.18e+00 3.49e-03  -1.7 2.25e+01 -10.1 1.00e+00 1.00e+00h  1\n",
      "  78  2.1751673e+02 5.20e-01 4.89e-05  -1.7 3.16e+00  -9.3 1.00e+00 1.00e+00h  1\n",
      "  79  2.1751673e+02 5.20e-01 1.07e+09  -1.7 3.53e+00  -9.3 1.00e+00 1.00e+00H  1\n",
      "iter    objective    inf_pr   inf_du lg(mu)  ||d||  lg(rg) alpha_du alpha_pr  ls\n",
      "  80  2.1751673e+02 5.20e-01 5.37e+08  -1.7 3.94e+00  -9.4 1.00e+00 1.00e+00H  1\n",
      "  81  2.1751673e+02 5.20e-01 5.37e+08  -1.7 4.40e+00  -9.4 1.00e+00 1.00e+00s 22\n",
      "  82r 2.1751673e+02 5.20e-01 9.99e+02  -0.3 0.00e+00  -6.8 0.00e+00 0.00e+00R  1\n",
      "  83r 2.1779832e+02 3.47e-01 9.92e+02  -0.3 2.82e+02    -  5.45e-02 3.90e-03f  1\n",
      "  84r 2.1782566e+02 3.45e-01 9.92e+02  -0.3 3.31e+01    -  9.10e-02 4.80e-03f  1\n",
      "  85r 2.1846219e+02 3.42e-01 9.64e+02  -0.3 3.18e+01    -  1.32e-03 2.79e-02f  1\n",
      "  86r 2.1851965e+02 3.40e-01 9.50e+02  -0.3 2.95e+01    -  6.15e-01 5.44e-03f  1\n",
      "  87r 2.4068774e+02 1.16e-01 3.84e+02  -0.3 4.11e+01    -  1.59e-02 6.76e-01f  1\n",
      "  88  2.3569860e+02 1.09e-01 1.67e+01  -1.7 1.45e+02  -7.2 1.00e+00 6.72e-02f  1\n",
      "  89  2.1748676e+02 3.38e-02 3.03e+03  -1.7 6.48e+00  -7.7 1.00e+00 1.00e+00f  1\n",
      "iter    objective    inf_pr   inf_du lg(mu)  ||d||  lg(rg) alpha_du alpha_pr  ls\n",
      "  90  2.1749748e+02 9.79e-04 9.45e-01  -1.7 2.56e-01  -8.2 1.00e+00 1.00e+00h  1\n",
      "  91  2.1749742e+02 4.08e-05 1.48e+04  -1.7 7.62e-01  -8.7 1.00e+00 1.00e+00H  1\n",
      "  92  2.1739184e+02 2.26e-02 1.94e+02  -2.5 2.27e+00  -9.1 1.00e+00 1.00e+00f  1\n",
      "  93  2.1739184e+02 5.33e-06 6.00e+05  -3.8 3.52e-09  14.2 1.00e+00 1.00e+00h  1\n",
      "  94  2.1739184e+02 5.14e-06 3.15e+05  -3.8 7.32e-09  13.8 1.00e+00 5.00e-01h  2\n",
      "  95  2.1739184e+02 3.69e-06 7.56e+05  -5.7 4.00e-08  13.3 1.00e+00 1.00e+00h  1\n",
      "  96  2.1739184e+02 1.03e-06 1.09e+07  -5.7 1.85e-07  12.8 1.00e+00 1.00e+00h  1\n",
      "  97  2.1739184e+02 5.92e-07 1.42e+07  -5.7 2.06e-10  16.8 1.00e+00 1.00e+00h  1\n",
      "  98  2.1739184e+02 1.20e-06 4.56e+07  -5.7 1.98e-09  16.4 1.00e+00 1.00e+00h  1\n",
      "  99  2.1739184e+02 1.74e-07 1.15e+10  -5.7 2.19e-09  15.9 1.00e+00 1.00e+00H  1\n",
      "iter    objective    inf_pr   inf_du lg(mu)  ||d||  lg(rg) alpha_du alpha_pr  ls\n",
      " 100  2.1739184e+02 2.90e-07 2.33e+10  -5.7 2.23e-09  19.0 1.00e+00 1.00e+00h  1\n",
      " 101  2.1739184e+02 5.67e-07 1.55e+10  -5.7 2.23e-09  18.5 1.00e+00 2.50e-01h  3\n",
      " 102  2.1739184e+02 4.27e-07 4.47e+12  -5.7 1.67e-09  18.1 1.00e+00 1.00e+00H  1\n",
      " 103  2.1739184e+02 3.81e-07 3.91e+12  -5.7 3.05e-11  17.6 1.00e+00 1.25e-01h  4\n",
      "WARNING: Problem in step computation; switching to emergency mode.\n",
      " 104r 2.1739184e+02 3.81e-07 9.95e+02  -5.7 0.00e+00  19.8 0.00e+00 0.00e+00R  1\n",
      " 105r 2.1739188e+02 5.37e-07 4.57e-04  -5.7 1.94e-02  -4.0 1.00e+00 4.80e-03f  1\n",
      " 106r 2.1746201e+02 1.16e-06 3.81e-06  -5.7 5.24e-01    -  9.92e-01 1.00e+00h  1\n",
      " 107r 2.1740860e+02 9.33e-07 1.83e-06  -8.6 4.07e-01    -  1.00e+00 1.00e+00h  1\n",
      " 108r 2.1740865e+02 2.70e-07 1.06e-08  -8.6 3.18e-04  -4.5 1.00e+00 1.00e+00h  1\n",
      " 109r 2.1740887e+02 5.81e-07 7.69e-09  -8.6 6.92e-04  -5.0 1.00e+00 1.00e+00h  1\n",
      "iter    objective    inf_pr   inf_du lg(mu)  ||d||  lg(rg) alpha_du alpha_pr  ls\n",
      " 110r 2.1742555e+02 4.56e-07 1.37e-10  -8.6 1.23e-01    -  1.00e+00 1.00e+00h  1\n",
      " 111r 2.1742596e+02 2.80e-07 3.25e-09  -8.6 8.79e-04  -5.4 1.00e+00 1.00e+00h  1\n",
      " 112r 2.1742671e+02 9.19e-07 3.13e-09  -8.6 2.53e-03  -5.9 1.00e+00 1.00e+00h  1\n",
      " 113r 2.1743119e+02 1.13e-06 2.46e-09  -8.6 1.80e-02  -6.9 1.00e+00 1.00e+00h  1\n",
      " 114r 2.1743904e+02 8.00e-07 1.53e-09  -8.6 3.35e-02  -7.3 1.00e+00 1.00e+00h  1\n",
      " 115r 2.1744827e+02 9.97e-07 7.25e-10  -8.6 4.76e-02  -7.8 1.00e+00 1.00e+00h  1\n",
      " 116r 2.1745774e+02 7.52e-07 9.51e-10  -8.6 1.27e-01    -  1.00e+00 1.00e+00h  1\n",
      " 117r 2.1745827e+02 9.69e-07 1.23e-11  -8.6 2.72e-03  -8.3 1.00e+00 1.00e+00h  1\n",
      " 118r 2.1745834e+02 7.73e-07 9.45e-11  -8.6 5.52e-04  -7.9 1.00e+00 1.00e+00H  1\n",
      " 119r 2.1745838e+02 3.61e-07 9.25e-11  -8.6 3.84e-04  -8.0 1.00e+00 1.00e+00h  1\n",
      "iter    objective    inf_pr   inf_du lg(mu)  ||d||  lg(rg) alpha_du alpha_pr  ls\n",
      " 120r 2.1745839e+02 2.03e-07 3.46e-12  -8.6 1.21e-04  -7.5 1.00e+00 1.00e+00h  1\n",
      " 121r 2.1745843e+02 2.80e-07 3.16e-10  -8.6 1.16e-03    -  1.00e+00 1.00e+00H  1\n",
      " 122r 2.1745843e+02 2.26e-07 1.05e-09  -8.6 1.02e-04    -  1.00e+00 1.00e+00H  1\n",
      " 123r 2.1745843e+02 3.35e-07 1.05e-09  -8.6 9.56e-06  -8.5 1.00e+00 7.63e-06h 18\n",
      " 124r 2.1745843e+02 1.50e-07 1.05e-09  -8.6 1.91e-05  -8.5 1.00e+00 1.22e-04h 14\n",
      " 125  2.1745843e+02 1.50e-07 3.75e+06  -5.7 1.54e-13  20.2 1.00e+00 1.00e+00h  1\n",
      " 126  2.1745843e+02 6.81e-08 6.79e+06  -5.7 5.91e-11  19.8 1.00e+00 1.95e-03h 10\n",
      " 127  2.1745843e+02 6.81e-08 6.79e+06  -5.7 3.46e-13  19.3 1.00e+00 1.25e-01h  4\n",
      " 128  2.1745843e+02 6.81e-08 6.79e+06  -5.7 1.04e-12  18.8 1.00e+00 3.12e-02h  6\n",
      " 129  2.1745843e+02 6.81e-08 6.79e+06  -5.7 3.12e-12  18.3 1.00e+00 1.56e-02h  7\n",
      "iter    objective    inf_pr   inf_du lg(mu)  ||d||  lg(rg) alpha_du alpha_pr  ls\n",
      " 130  2.1745843e+02 6.81e-08 6.82e+06  -5.7 5.59e-11  17.9 1.00e+00 9.77e-04h 11\n",
      " 131  2.1745843e+02 4.72e-07 7.66e+06  -5.7 5.59e-11  17.4 1.00e+00 1.25e-01h  4\n",
      " 132  2.1745843e+02 3.00e-07 7.66e+06  -5.7 9.50e-11  16.9 1.00e+00 1.56e-02h  7\n",
      " 133  2.1745843e+02 3.50e-07 7.66e+06  -5.7 2.85e-10  16.4 1.00e+00 2.44e-04h 13\n",
      " 134  2.1745843e+02 3.70e-07 7.66e+06  -5.7 8.55e-10  16.0 1.00e+00 1.22e-04h 14\n",
      " 135  2.1745843e+02 5.25e-07 7.66e+06  -5.7 2.56e-09  15.5 1.00e+00 1.00e+00h  1\n",
      " 136  2.1745843e+02 7.34e-07 7.66e+06  -5.7 7.69e-09  15.0 1.00e+00 1.00e+00h  1\n",
      " 137  2.1745843e+02 8.41e-07 7.66e+06  -5.7 2.31e-08  14.5 1.00e+00 1.00e+00h  1\n",
      " 138  2.1745843e+02 5.51e-07 7.66e+06  -5.7 6.92e-08  14.0 1.00e+00 1.00e+00h  1\n",
      " 139  2.1745843e+02 4.79e-07 7.66e+06  -5.7 2.08e-07  13.6 1.00e+00 1.00e+00h  1\n",
      "iter    objective    inf_pr   inf_du lg(mu)  ||d||  lg(rg) alpha_du alpha_pr  ls\n",
      " 140  2.1745843e+02 6.07e-07 7.66e+06  -5.7 6.23e-07  13.1 1.00e+00 1.00e+00h  1\n",
      " 141  2.1745843e+02 3.59e-07 7.66e+06  -5.7 1.87e-06  12.6 1.00e+00 1.00e+00h  1\n",
      " 142  2.1745843e+02 2.29e-07 7.66e+06  -5.7 5.61e-06  12.1 1.00e+00 6.25e-02h  5\n",
      " 143  2.1745843e+02 1.91e-07 7.66e+06  -5.7 1.68e-05  11.7 1.00e+00 9.77e-04h 11\n",
      " 144  2.1745843e+02 6.95e-07 4.80e+05  -5.7 3.17e-06  11.2 1.00e+00 1.00e+00s 22\n",
      " 145  2.1745843e+02 1.24e-06 1.88e+03  -5.7 3.71e-08  10.7 1.00e+00 1.00e+00s 22\n",
      " 146  2.1745843e+02 7.09e-07 1.88e+03  -5.7 1.11e-07  10.2 1.00e+00 1.00e+00s 22\n",
      " 147  2.1745843e+02 1.16e-06 1.88e+03  -5.7 3.34e-07   9.7 1.00e+00 0.00e+00S 22\n",
      " 148  2.1745843e+02 7.34e-07 1.88e+03  -5.7 1.00e-06   9.3 1.00e+00 1.00e+00h  1\n",
      " 149  2.1745843e+02 6.65e-07 1.88e+03  -5.7 3.01e-06   8.8 1.00e+00 1.00e+00h  1\n",
      "iter    objective    inf_pr   inf_du lg(mu)  ||d||  lg(rg) alpha_du alpha_pr  ls\n",
      " 150  2.1745843e+02 8.55e-07 8.88e+02  -5.7 4.27e-06   8.3 1.00e+00 1.00e+00h  1\n",
      " 151  2.1745843e+02 3.28e-07 8.87e+02  -5.7 1.28e-05   7.8 1.00e+00 1.00e+00h  1\n",
      " 152  2.1745843e+02 1.98e-06 1.13e+02  -5.7 4.88e-06   7.4 1.00e+00 1.00e+00h  1\n",
      " 153  2.1745843e+02 1.53e-05 7.33e+13  -5.7 7.71e-06   6.9 1.00e+00 1.00e+00h  1\n",
      " 154  2.1745843e+02 5.72e-07 1.28e+17  -5.7 9.94e-07   6.4 1.00e+00 1.00e+00h  1\n",
      " 155  2.1745783e+02 4.78e-02 1.17e+34  -5.7 2.96e+01   5.9 1.00e+00 4.88e-04f 12\n",
      " 156r 2.1745783e+02 4.78e-02 9.99e+02  -1.3 0.00e+00   5.5 0.00e+00 4.73e-07R  3\n",
      " 157r 2.1770896e+02 1.20e-02 1.17e+01  -1.3 1.80e+03    -  1.00e+00 9.91e-04f  1\n",
      " 158r 2.2311486e+02 5.86e-04 5.33e-01  -1.3 7.34e+00    -  9.55e-01 9.84e-01f  1\n",
      " 159r 2.2006634e+02 2.77e-07 1.94e-02  -2.0 6.88e+00    -  1.00e+00 1.00e+00f  1\n",
      "iter    objective    inf_pr   inf_du lg(mu)  ||d||  lg(rg) alpha_du alpha_pr  ls\n",
      " 160r 2.1832245e+02 6.97e-07 8.77e-03  -4.5 9.90e+00    -  9.80e-01 1.00e+00f  1\n",
      " 161r 2.1831793e+02 7.84e-07 9.29e-07  -4.5 9.29e-03  -4.0 1.00e+00 1.00e+00h  1\n",
      " 162r 2.1773375e+02 3.63e-07 1.44e-04  -6.8 4.08e+00    -  1.00e+00 1.00e+00f  1\n",
      " 163r 2.1773078e+02 4.96e-07 1.96e-07  -6.8 5.88e-03  -4.5 1.00e+00 1.00e+00h  1\n",
      " 164r 2.1772433e+02 6.59e-07 6.06e-06  -9.0 1.86e-02  -5.0 1.00e+00 1.00e+00h  1\n",
      " 165r 2.1746930e+02 6.13e-06 1.31e-07  -9.0 1.82e+00    -  1.00e+00 1.00e+00h  1\n",
      " 166r 2.1749143e+02 8.96e-07 9.01e-09  -9.0 1.60e-01    -  1.00e+00 1.00e+00h  1\n",
      " 167r 2.1749139e+02 9.19e-07 1.07e-10  -9.0 8.66e-05  -5.9 1.00e+00 1.00e+00h  1\n",
      " 168r 2.1749132e+02 1.38e-06 1.06e-10  -9.0 2.57e-04  -6.4 1.00e+00 1.00e+00h  1\n",
      " 169r 2.1748746e+02 3.98e-07 1.82e-08  -9.0 2.79e-02    -  1.00e+00 1.00e+00h  1\n",
      "iter    objective    inf_pr   inf_du lg(mu)  ||d||  lg(rg) alpha_du alpha_pr  ls\n",
      " 170r 2.1748746e+02 3.35e-07 1.37e-08  -9.0 2.48e-05  -7.3 1.00e+00 2.50e-01h  3\n",
      " 171r 2.1748749e+02 2.30e-07 1.43e-08  -9.0 1.58e-03    -  1.00e+00 1.00e+00H  1\n",
      "Restoration phase converged to a point with small primal infeasibility.\n",
      "\n",
      "Number of Iterations....: 171\n",
      "\n",
      "                                   (scaled)                 (unscaled)\n",
      "Objective...............:   2.1748748978747795e+02    2.1748748978747795e+02\n",
      "Dual infeasibility......:   2.7547310800477094e+00    2.7547310800477094e+00\n",
      "Constraint violation....:   2.3020041600404009e-07    2.3020041600404009e-07\n",
      "Variable bound violation:   0.0000000000000000e+00    0.0000000000000000e+00\n",
      "Complementarity.........:   9.0909090909090931e-10    9.0909090909090931e-10\n",
      "Overall NLP error.......:   2.7547310800477094e+00    2.7547310800477094e+00\n",
      "\n",
      "\n",
      "Number of objective function evaluations             = 528\n",
      "Number of objective gradient evaluations             = 134\n",
      "Number of equality constraint evaluations            = 536\n",
      "Number of inequality constraint evaluations          = 536\n",
      "Number of equality constraint Jacobian evaluations   = 176\n",
      "Number of inequality constraint Jacobian evaluations = 176\n",
      "Number of Lagrangian Hessian evaluations             = 172\n",
      "Total seconds in IPOPT                               = 1.728\n",
      "\n",
      "EXIT: Restoration Failed!\n",
      "      solver  :   t_proc      (avg)   t_wall      (avg)    n_eval\n",
      "       nlp_f  |   9.01ms ( 17.06us)   8.88ms ( 16.82us)       528\n",
      "       nlp_g  |  30.87ms ( 57.60us)  28.31ms ( 52.82us)       536\n",
      "  nlp_grad_f  |   4.88ms ( 36.18us)   4.17ms ( 30.92us)       135\n",
      "  nlp_hess_l  | 525.41ms (  3.11ms) 511.33ms (  3.03ms)       169\n",
      "   nlp_jac_g  | 419.13ms (  2.37ms) 367.50ms (  2.08ms)       177\n",
      "       total  |   1.86 s (  1.86 s)   1.73 s (  1.73 s)         1\n",
      "Error in Opti::solve [OptiNode] at .../casadi/core/optistack.cpp:157:\n",
      ".../casadi/core/optistack_internal.cpp:998: Assertion \"return_success(accept_limit)\" failed:\n",
      "Solver failed. You may use opti.debug.value to investigate the latest values of variables. return_status is 'Restoration_Failed'\n"
     ]
    }
   ],
   "source": [
    "try:\n",
    "    sol = opti_problem.solve()\n",
    "    q_opt = opti_problem.value(q)\n",
    "    v_opt = opti_problem.value(v)\n",
    "    u_opt = opti_problem.value(u)\n",
    "except Exception as e:\n",
    "    q_opt = opti_problem.debug.value(q)\n",
    "    v_opt = opti_problem.debug.value(v)\n",
    "    u_opt = opti_problem.debug.value(u)\n",
    "    print(e)"
   ]
  },
  {
   "cell_type": "code",
   "execution_count": 18,
   "metadata": {},
   "outputs": [],
   "source": [
    "ren.set_state(Q_INIT)"
   ]
  },
  {
   "cell_type": "code",
   "execution_count": 19,
   "metadata": {},
   "outputs": [],
   "source": [
    "for i in range(ns+1):\n",
    "    ren.set_state(q_opt[:, i])\n",
    "\n",
    "    for j in range(i):\n",
    "        ren.markers[j](position=q_opt[:3, j],\n",
    "                       color=[0, 0, 1, 0.5],\n",
    "                       size=j*0.02/ns + 0.01)\n",
    "\n",
    "    ren.markers[ns+1](position=Q_FINAL[:3],\n",
    "                      color=[1, 0, 0, 0.5],\n",
    "                      size=0.04)\n",
    "    ren.markers[ns+2](position=Q_INIT[:3],\n",
    "                    color=[0, 1, 0, 0.5],\n",
    "                    size=0.04)\n",
    "    sleep(t_final/ns)"
   ]
  },
  {
   "cell_type": "code",
   "execution_count": 20,
   "metadata": {},
   "outputs": [
    {
     "data": {
      "image/png": "[encoded data removed]",
      "text/plain": [
       "<Figure size 640x480 with 1 Axes>"
      ]
     },
     "metadata": {},
     "output_type": "display_data"
    },
    {
     "data": {
      "image/png": "[encoded data removed]",
      "text/plain": [
       "<Figure size 640x480 with 1 Axes>"
      ]
     },
     "metadata": {},
     "output_type": "display_data"
    }
   ],
   "source": [
    "import matplotlib.pyplot as plt\n",
    "plt.plot(q_opt[:3,:].T)\n",
    "plt.show()\n",
    "\n",
    "plt.plot(q_opt[3:7,:].T)\n",
    "plt.show()\n"
   ]
  },
  {
   "cell_type": "code",
   "execution_count": 21,
   "metadata": {},
   "outputs": [
    {
     "data": {
      "image/png": "[encoded data removed]",
      "text/plain": [
       "<Figure size 640x480 with 1 Axes>"
      ]
     },
     "metadata": {},
     "output_type": "display_data"
    },
    {
     "data": {
      "image/png": "[encoded data removed]",
      "text/plain": [
       "<Figure size 640x480 with 1 Axes>"
      ]
     },
     "metadata": {},
     "output_type": "display_data"
    }
   ],
   "source": [
    "plt.plot(v_opt[:3,:].T)\n",
    "plt.show()\n",
    "\n",
    "plt.plot(v_opt[3:,:].T)\n",
    "plt.show()\n"
   ]
  },
  {
   "cell_type": "code",
   "execution_count": 22,
   "metadata": {},
   "outputs": [
    {
     "data": {
      "image/png": "[encoded data removed]",
      "text/plain": [
       "<Figure size 640x480 with 1 Axes>"
      ]
     },
     "metadata": {},
     "output_type": "display_data"
    }
   ],
   "source": [
    "\n",
    "plt.plot(u_opt.T)\n",
    "plt.show()"
   ]
  },
  {
   "cell_type": "code",
   "execution_count": 23,
   "metadata": {},
   "outputs": [
    {
     "data": {
      "text/plain": [
       "array([1.00000000e+00, 1.89525903e+03, 1.00000000e+00, 1.00000000e+00,\n",
       "       1.00000000e+00, 1.00000000e+00, 1.00000000e+00, 1.00000000e+00,\n",
       "       1.00000000e+00, 1.00000000e+00, 1.00000000e+00, 1.00000000e+00,\n",
       "       1.00000000e+00, 1.00000000e+00, 1.00000000e+00, 1.00000000e+00,\n",
       "       1.00000000e+00, 1.00000000e+00, 1.00000000e+00, 1.00000000e+00,\n",
       "       1.00000000e+00, 1.00000000e+00, 1.00000000e+00, 1.00000000e+00,\n",
       "       1.00000000e+00, 1.00000000e+00, 1.00000000e+00, 1.00000000e+00,\n",
       "       1.00000000e+00, 1.00000000e+00, 1.00000000e+00, 1.00000000e+00,\n",
       "       1.00000000e+00, 1.00000000e+00, 1.00000000e+00, 1.00000000e+00,\n",
       "       1.00000000e+00, 1.00000000e+00, 1.00000000e+00, 1.00000000e+00,\n",
       "       1.00000000e+00])"
      ]
     },
     "execution_count": 23,
     "metadata": {},
     "output_type": "execute_result"
    }
   ],
   "source": [
    "np.linalg.norm(q_opt[3:7,:].T, axis = 1)"
   ]
  }
 ],
 "metadata": {
  "kernelspec": {
   "display_name": "base",
   "language": "python",
   "name": "python3"
  },
  "language_info": {
   "codemirror_mode": {
    "name": "ipython",
    "version": 3
   },
   "file_extension": ".py",
   "mimetype": "text/x-python",
   "name": "python",
   "nbconvert_exporter": "python",
   "pygments_lexer": "ipython3",
   "version": "3.10.0"
  },
  "orig_nbformat": 4
 },
 "nbformat": 4,
 "nbformat_minor": 2
}
