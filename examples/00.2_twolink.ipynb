{
 "cells": [
  {
   "cell_type": "code",
   "execution_count": 16,
   "metadata": {},
   "outputs": [],
   "source": [
    "\"\"\"Temporary fix for importing modules from parent directory\"\"\"\n",
    "import os\n",
    "import sys\n",
    "\n",
    "module_path = os.path.abspath(os.path.join(\"..\"))\n",
    "if module_path not in sys.path:\n",
    "    sys.path.append(module_path)"
   ]
  },
  {
   "cell_type": "code",
   "execution_count": 17,
   "metadata": {},
   "outputs": [],
   "source": [
    "from varitop.misc import euler_rule\n",
    "from varitop.integrator import DelIntegrator as DI\n",
    "from varitop.model import DarliModel\n",
    "\n",
    "from matplotlib import pyplot as plt\n",
    "from tqdm import tqdm\n",
    "import casadi as cs\n",
    "import numpy as np"
   ]
  },
  {
   "cell_type": "code",
   "execution_count": 18,
   "metadata": {},
   "outputs": [],
   "source": [
    "urdf_path = '../assets/urdf/2link_robot.urdf'\n",
    "t0, tf, steps = 0.0, 3.0, 200\n",
    "dt = (tf - t0) / steps"
   ]
  },
  {
   "cell_type": "code",
   "execution_count": 19,
   "metadata": {},
   "outputs": [],
   "source": [
    "di = DI()\n",
    "di.model = DarliModel(urdf_path)\n",
    "di.rule = euler_rule"
   ]
  },
  {
   "cell_type": "code",
   "execution_count": 20,
   "metadata": {},
   "outputs": [],
   "source": [
    "q = cs.MX.sym('q', di.nq)\n",
    "dq = cs.MX.sym('dq', di.nq)\n",
    "u = cs.MX.sym('u', di.nu)\n",
    "f = cs.Function('f', [q, dq, u], [u])\n",
    "\n",
    "di.add_generalized_forces([f])"
   ]
  },
  {
   "cell_type": "code",
   "execution_count": 54,
   "metadata": {},
   "outputs": [],
   "source": [
    "q_0 = np.array([0, 0])\n",
    "us = np.full((steps, di.nu), [5, 3])"
   ]
  },
  {
   "cell_type": "code",
   "execution_count": 55,
   "metadata": {},
   "outputs": [
    {
     "name": "stderr",
     "output_type": "stream",
     "text": [
      "100%|██████████| 198/198 [00:00<00:00, 646.96it/s]\n"
     ]
    }
   ],
   "source": [
    "qs_sol = np.zeros((steps, 2))\n",
    "qs_sol[0] = q_0\n",
    "qs_sol[1] = q_0\n",
    "\n",
    "for i in tqdm(range(2, steps)):\n",
    "    q0 = qs_sol[i - 2]\n",
    "    q1 = qs_sol[i - 1]\n",
    "\n",
    "    qs_sol[i] = di.step(q0, q1, dt, us[i])"
   ]
  },
  {
   "cell_type": "code",
   "execution_count": 56,
   "metadata": {},
   "outputs": [
    {
     "data": {
      "image/png": "[encoded data removed]",
      "text/plain": [
       "<Figure size 640x480 with 1 Axes>"
      ]
     },
     "metadata": {},
     "output_type": "display_data"
    }
   ],
   "source": [
    "from matplotlib.animation import FuncAnimation\n",
    "\n",
    "fig, ax = plt.subplots()\n",
    "ax.set_aspect(\"equal\")\n",
    "\n",
    "ax.set_xlim(-2.2, 2.2)\n",
    "ax.set_ylim(-2.2, 2.2)\n",
    "\n",
    "ln1 = ax.plot([], [], \"r-\", lw=2)[0]\n",
    "ln2 = ax.plot([], [], \"b-\", lw=2)[0]\n",
    "\n",
    "\n",
    "def update(frame):\n",
    "    # Rotate the basis vectors\n",
    "    phi1 = qs_sol[frame, 0]\n",
    "    phi2 = qs_sol[frame, 1]\n",
    "\n",
    "    A = np.array([-np.sin(phi1), -np.cos(phi1)])\n",
    "    B = np.array([-np.sin(phi1) - np.sin(phi2), -np.cos(phi1) - np.cos(phi2)])\n",
    "\n",
    "    global ln1, ln2\n",
    "    ln1.set_data([0, A[0]], [0, A[1]])\n",
    "    ln2.set_data([A[0], B[0]], [A[1], B[1]])\n",
    "\n",
    "\n",
    "# Create the animation\n",
    "animation = FuncAnimation(fig, update, frames=len(qs_sol), interval=tf * 1000 / steps)\n",
    "\n",
    "# Save the animation as a GIF using Pillow writer\n",
    "animation.save(\"evolution_history_l2.gif\")\n",
    "\n",
    "# Display the animation\n",
    "plt.show()"
   ]
  },
  {
   "cell_type": "code",
   "execution_count": null,
   "metadata": {},
   "outputs": [],
   "source": []
  }
 ],
 "metadata": {
  "kernelspec": {
   "display_name": "Python 3",
   "language": "python",
   "name": "python3"
  },
  "language_info": {
   "codemirror_mode": {
    "name": "ipython",
    "version": 3
   },
   "file_extension": ".py",
   "mimetype": "text/x-python",
   "name": "python",
   "nbconvert_exporter": "python",
   "pygments_lexer": "ipython3",
   "version": "3.10.13"
  }
 },
 "nbformat": 4,
 "nbformat_minor": 2
}
