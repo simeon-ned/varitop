{
 "cells": [
  {
   "cell_type": "markdown",
   "metadata": {},
   "source": [
    "# Skydio X2 Quadrotor\n",
    "\n",
    "This notebook is focused on trajectory planning for quadrotor."
   ]
  },
  {
   "cell_type": "markdown",
   "metadata": {},
   "source": [
    "## Imports"
   ]
  },
  {
   "cell_type": "code",
   "execution_count": 1,
   "metadata": {},
   "outputs": [],
   "source": [
    "\"\"\"Temporary fix for importing modules from parent directory\"\"\"\n",
    "\n",
    "import os\n",
    "import sys\n",
    "\n",
    "module_path = os.path.abspath(os.path.join(\"..\"))\n",
    "if module_path not in sys.path:\n",
    "    sys.path.append(module_path)"
   ]
  },
  {
   "cell_type": "code",
   "execution_count": 2,
   "metadata": {},
   "outputs": [],
   "source": [
    "from varitop.misc import euler_rule, qconj, q2rm, quat_prod\n",
    "from varitop.integrator import DelIntegrator as DI\n",
    "from varitop.opti import Varitop"
   ]
  },
  {
   "cell_type": "code",
   "execution_count": 3,
   "metadata": {},
   "outputs": [],
   "source": [
    "import numpy as np\n",
    "from time import sleep"
   ]
  },
  {
   "cell_type": "code",
   "execution_count": 4,
   "metadata": {},
   "outputs": [],
   "source": [
    "%%capture\n",
    "!pip3 install robot_descriptions\n",
    "from robot_descriptions.skydio_x2_mj_description import MJCF_PATH\n",
    "from robot_descriptions.skydio_x2_description import URDF_PATH"
   ]
  },
  {
   "cell_type": "code",
   "execution_count": 5,
   "metadata": {},
   "outputs": [],
   "source": [
    "from mujoco_simulator.model_builder import ModelBuilder\n",
    "from mujoco_simulator.simulator import MujocoRender"
   ]
  },
  {
   "cell_type": "code",
   "execution_count": null,
   "metadata": {},
   "outputs": [],
   "source": [
    "from darli.model import Functional\n",
    "from darli.backend import CasadiBackend, JointType\n",
    "from darli.backend.liecasadi.so3 import SO3\n",
    "from darli.state_space import StateSpace\n",
    "import casadi as cs"
   ]
  },
  {
   "cell_type": "markdown",
   "metadata": {},
   "source": [
    "## Dynamics"
   ]
  },
  {
   "cell_type": "code",
   "execution_count": 7,
   "metadata": {},
   "outputs": [],
   "source": [
    "model = Functional(CasadiBackend(URDF_PATH))\n",
    "\n",
    "selector = np.array([[0.0, 0.0, 0.0, 0.0],\n",
    "                     [0.0, 0.0, 0.0, 0.0],\n",
    "                     [1.0, 1.0, 1.0, 1.0],\n",
    "                     [-0.18, 0.18, 0.18, -0.18],\n",
    "                     [0.14, 0.14, -0.14, -0.14],\n",
    "                     [-0.0201, 0.0201, 0.0201, -0.0201]])\n",
    "\n",
    "model.update_selector(selector)"
   ]
  },
  {
   "cell_type": "markdown",
   "metadata": {},
   "source": [
    "Using the symbolical representation of the lagrangian\n",
    "from the darli framework to build residuals"
   ]
  },
  {
   "cell_type": "code",
   "execution_count": 8,
   "metadata": {},
   "outputs": [],
   "source": [
    "di = DI(\n",
    "    nq = model.nq,\n",
    "    nu = 4,\n",
    "    free_body = True,\n",
    "    selector = selector,\n",
    "    lagrangian=model.lagrangian,\n",
    ")"
   ]
  },
  {
   "cell_type": "markdown",
   "metadata": {},
   "source": [
    "Unit quaternion constraint is required to satisfy the rotation quaternion"
   ]
  },
  {
   "cell_type": "code",
   "execution_count": 9,
   "metadata": {},
   "outputs": [],
   "source": [
    "di.add_constraint(di.q[3:].T @ di.q[3:] - 1)"
   ]
  },
  {
   "cell_type": "markdown",
   "metadata": {},
   "source": [
    "## Optimization Problem"
   ]
  },
  {
   "cell_type": "markdown",
   "metadata": {},
   "source": [
    "40 nodes to optimize over DEL Integrator"
   ]
  },
  {
   "cell_type": "code",
   "execution_count": 10,
   "metadata": {},
   "outputs": [],
   "source": [
    "vp = Varitop(integrator=di, nsteps=40)"
   ]
  },
  {
   "cell_type": "code",
   "execution_count": 11,
   "metadata": {},
   "outputs": [],
   "source": [
    "tf = vp.parameter(1)\n",
    "dt = tf / vp.ns\n",
    "vp.dt = dt"
   ]
  },
  {
   "cell_type": "code",
   "execution_count": 12,
   "metadata": {},
   "outputs": [],
   "source": [
    "q0 = vp.parameter(model.nq)\n",
    "qf = vp.parameter(model.nq)"
   ]
  },
  {
   "cell_type": "code",
   "execution_count": 13,
   "metadata": {},
   "outputs": [],
   "source": [
    "position_weight = vp.parameter(1)\n",
    "acceleration_weight = vp.parameter(1)\n",
    "velocity_weight = vp.parameter(1)\n",
    "control_weight = vp.parameter(1)\n",
    "control_max = vp.parameter(model.nu)"
   ]
  },
  {
   "cell_type": "code",
   "execution_count": 18,
   "metadata": {},
   "outputs": [],
   "source": [
    "q = vp.q\n",
    "u = vp.u\n",
    "ns = vp.ns\n",
    "dt = vp.dt"
   ]
  },
  {
   "cell_type": "markdown",
   "metadata": {},
   "source": [
    "Cost function is comprised of two terms:\n",
    "1. $x, y, z$ coordinates of the body should be equal to target\n",
    "2. $|u|^2$\n",
    "\n",
    "Flexibility of the indexing feature allows to specify\n",
    "those constraints for each node separately"
   ]
  },
  {
   "cell_type": "code",
   "execution_count": 15,
   "metadata": {},
   "outputs": [],
   "source": [
    "cost = 0 \n",
    "for i in range(1, vp.ns):\n",
    "    cost += position_weight*cs.sumsqr(q[:3,i] - qf[:3])*dt\n",
    "    cost += control_weight*cs.sumsqr(u[:,i])*dt"
   ]
  },
  {
   "cell_type": "code",
   "execution_count": 17,
   "metadata": {},
   "outputs": [],
   "source": [
    "vp.set_cost(cost)"
   ]
  },
  {
   "cell_type": "markdown",
   "metadata": {},
   "source": [
    "Several constraints added to the system:\n",
    "1. Minimal height is $q_z \\geq 0.4$\n",
    "2. $u_i \\in \\mathbb{U}$ i.e. control is within admissable bounds\n",
    "3. Initial configuration is parametrized\n",
    "4. Final configuration is parametrized"
   ]
  },
  {
   "cell_type": "code",
   "execution_count": 16,
   "metadata": {},
   "outputs": [],
   "source": [
    "for i in range(1, vp.ns):\n",
    "    vp.bounded(np.zeros(model.nu), u[:, i], control_max)\n",
    "    vp.subject_to(q[2, i] >= 0.4)\n",
    "    \n",
    "vp.set_initial_configuration(q0)\n",
    "vp.set_terminal_configuration(qf)"
   ]
  },
  {
   "cell_type": "markdown",
   "metadata": {},
   "source": [
    "## Solution\n",
    "\n",
    "Initial values for all parameters are specified"
   ]
  },
  {
   "cell_type": "code",
   "execution_count": 18,
   "metadata": {},
   "outputs": [],
   "source": [
    "Q_INIT = np.array([0, 0, 1.5, 0,0,0, 1])\n",
    "quat_random = np.random.rand(4)\n",
    "quat_random /= np.linalg.norm(quat_random)\n",
    "Q_INIT[3:] = quat_random\n",
    "Q_FINAL = np.array([0, 0., 2.5, 0, 0, 0, 1])\n",
    "Q_FINAL[:3] += np.random.randn(3)\n",
    "\n",
    "t_final = 3\n",
    "\n",
    "vp.set_parameter(tf, t_final)\n",
    "vp.set_parameter(control_max, 50*np.ones(model.nu) )\n",
    "vp.set_parameter(q0, Q_INIT)\n",
    "vp.set_parameter(qf, Q_FINAL)\n",
    "\n",
    "vp.set_parameter(position_weight[0], 5)\n",
    "vp.set_parameter(velocity_weight[0], 10)\n",
    "vp.set_parameter(acceleration_weight[0], 5)\n",
    "vp.set_parameter(control_weight[0], 5)\n",
    "\n",
    "vp.set_initial(q[3:,:], np.array([Q_INIT[3:]]*(vp.ns+1)).T)\n",
    "vp.set_initial(q[:3,:], np.linspace(Q_INIT[:3], Q_FINAL[:3], vp.ns+1).T)\n",
    "\n",
    "ren.set_state(Q_INIT)\n",
    "ren.markers[vp.ns+1](position=Q_FINAL[:3],\n",
    "                color=[1, 0, 0, 0.5],\n",
    "                size=0.04)\n",
    "ren.markers[vp.ns+2](position=Q_INIT[:3],\n",
    "                color=[0, 1, 0, 0.5],\n",
    "                size=0.04)\n"
   ]
  },
  {
   "cell_type": "code",
   "execution_count": 19,
   "metadata": {},
   "outputs": [
    {
     "name": "stdout",
     "output_type": "stream",
     "text": [
      "\n",
      "******************************************************************************\n",
      "This program contains Ipopt, a library for large-scale nonlinear optimization.\n",
      " Ipopt is released as open source code under the Eclipse Public License (EPL).\n",
      "         For more information visit https://github.com/coin-or/Ipopt\n",
      "******************************************************************************\n",
      "\n",
      "This is Ipopt version 3.14.11, running with linear solver MUMPS 5.4.1.\n",
      "\n",
      "Number of nonzeros in equality constraint Jacobian...:     6137\n",
      "Number of nonzeros in inequality constraint Jacobian.:      195\n",
      "Number of nonzeros in Lagrangian Hessian.............:     4179\n",
      "\n",
      "Total number of variables............................:      487\n",
      "                     variables with only lower bounds:        0\n",
      "                variables with lower and upper bounds:        0\n",
      "                     variables with only upper bounds:        0\n",
      "Total number of equality constraints.................:      365\n",
      "Total number of inequality constraints...............:      195\n",
      "        inequality constraints with only lower bounds:       39\n",
      "   inequality constraints with lower and upper bounds:      156\n",
      "        inequality constraints with only upper bounds:        0\n",
      "\n",
      "iter    objective    inf_pr   inf_du lg(mu)  ||d||  lg(rg) alpha_du alpha_pr  ls\n",
      "   0  2.1011542e+01 9.75e-01 1.02e+00  -1.0 0.00e+00    -  0.00e+00 0.00e+00   0\n",
      "   1  1.6581445e+02 1.55e+00 8.00e+06  -1.0 1.04e+01  -2.0 9.63e-02 5.00e-01h  2\n",
      "   2  3.4055618e+02 4.35e-01 8.49e+06  -1.0 2.92e+00  -0.7 1.32e-01 1.00e+00h  1\n",
      "   3  3.0186214e+02 7.25e-02 6.05e+05  -1.0 1.15e+00  -1.1 7.03e-01 1.00e+00f  1\n",
      "   4  3.0036296e+02 2.46e-02 6.59e+04  -1.0 3.93e-01  -1.6 9.97e-01 1.00e+00f  1\n",
      "   5  3.0044611e+02 8.64e-02 1.91e+03  -1.0 4.36e-01  -2.1 1.00e+00 1.00e+00h  1\n",
      "   6  3.0044193e+02 4.71e-02 1.25e+02  -1.0 5.45e-01  -2.6 1.00e+00 1.00e+00h  1\n",
      "   7  2.9991482e+02 2.59e-02 6.86e+00  -2.5 4.08e-01  -3.1 1.00e+00 1.00e+00f  1\n",
      "   8  2.9986231e+02 1.28e-02 8.28e-02  -3.8 3.03e-01  -3.5 1.00e+00 1.00e+00h  1\n",
      "   9  2.9985847e+02 8.07e-03 4.76e-02  -3.8 2.40e-01  -4.0 1.00e+00 1.00e+00h  1\n",
      "iter    objective    inf_pr   inf_du lg(mu)  ||d||  lg(rg) alpha_du alpha_pr  ls\n",
      "  10  2.9985780e+02 3.13e-03 1.99e-02  -3.8 1.60e-01  -4.5 1.00e+00 1.00e+00h  1\n",
      "  11  2.9985764e+02 5.19e-04 3.41e-03  -3.8 6.78e-02  -5.0 1.00e+00 1.00e+00h  1\n",
      "  12  2.9985760e+02 3.06e-04 2.00e-03  -5.7 4.90e-02  -5.4 1.00e+00 1.00e+00h  1\n",
      "  13  2.9985759e+02 4.19e-05 2.78e-04  -5.7 1.87e-02  -5.9 1.00e+00 1.00e+00h  1\n",
      "  14  2.9985759e+02 8.32e-07 5.53e-06  -5.7 2.64e-03  -6.4 1.00e+00 1.00e+00h  1\n",
      "  15  2.9985759e+02 1.49e-07 9.83e-07  -8.6 1.08e-03  -6.9 1.00e+00 1.00e+00h  1\n",
      "  16  2.9985759e+02 1.51e-11 7.45e-09  -8.6 1.12e-05  -7.4 1.00e+00 1.00e+00h  1\n",
      "\n",
      "Number of Iterations....: 16\n",
      "\n",
      "                                   (scaled)                 (unscaled)\n",
      "Objective...............:   2.9985758643625030e+02    2.9985758643625030e+02\n",
      "Dual infeasibility......:   7.4505805969238281e-09    7.4505805969238281e-09\n",
      "Constraint violation....:   1.5098572565819257e-11    1.5098572565819257e-11\n",
      "Variable bound violation:   0.0000000000000000e+00    0.0000000000000000e+00\n",
      "Complementarity.........:   2.5074427973349662e-09    2.5074427973349662e-09\n",
      "Overall NLP error.......:   2.5074427973349662e-09    7.4505805969238281e-09\n",
      "\n",
      "\n",
      "Number of objective function evaluations             = 19\n",
      "Number of objective gradient evaluations             = 17\n",
      "Number of equality constraint evaluations            = 19\n",
      "Number of inequality constraint evaluations          = 19\n",
      "Number of equality constraint Jacobian evaluations   = 17\n",
      "Number of inequality constraint Jacobian evaluations = 17\n",
      "Number of Lagrangian Hessian evaluations             = 16\n",
      "Total seconds in IPOPT                               = 0.134\n",
      "\n",
      "EXIT: Optimal Solution Found.\n",
      "      solver  :   t_proc      (avg)   t_wall      (avg)    n_eval\n",
      "       nlp_f  | 373.00us ( 19.63us) 283.49us ( 14.92us)        19\n",
      "       nlp_g  |   1.87ms ( 98.53us)   1.27ms ( 66.85us)        19\n",
      "  nlp_grad_f  | 777.00us ( 43.17us) 418.22us ( 23.23us)        18\n",
      "  nlp_hess_l  |  69.58ms (  4.35ms)  54.59ms (  3.41ms)        16\n",
      "   nlp_jac_g  |  59.80ms (  3.32ms)  39.79ms (  2.21ms)        18\n",
      "       total  | 208.41ms (208.41ms) 135.28ms (135.28ms)         1\n"
     ]
    }
   ],
   "source": [
    "\n",
    "sol = vp.solve()\n",
    "q_opt = vp.value(vp.q)\n",
    "u_opt = vp.value(vp.u)"
   ]
  },
  {
   "cell_type": "markdown",
   "metadata": {},
   "source": [
    "# Visualisation"
   ]
  },
  {
   "cell_type": "code",
   "execution_count": 20,
   "metadata": {},
   "outputs": [],
   "source": [
    "ns = vp.ns"
   ]
  },
  {
   "cell_type": "code",
   "execution_count": 6,
   "metadata": {},
   "outputs": [
    {
     "name": "stdout",
     "output_type": "stream",
     "text": [
      "Process render is starting!\n"
     ]
    }
   ],
   "source": [
    "model_wrapper = ModelBuilder(MJCF_PATH)\n",
    "model_wrapper.add_arena()\n",
    "model_wrapper.build()\n",
    "ren = MujocoRender(model=model_wrapper, \n",
    "                   start=True, \n",
    "                   convention='pin')\n",
    "Q_INIT = np.array([0, 0, 1.0, 0, 0, 0,1])\n",
    "ren.set_state(Q_INIT)"
   ]
  },
  {
   "cell_type": "code",
   "execution_count": 22,
   "metadata": {},
   "outputs": [],
   "source": [
    "for i in range(ns+1):\n",
    "    ren.set_state(q_opt[:, i])\n",
    "\n",
    "    for j in range(i):\n",
    "        ren.markers[j](position=q_opt[:3, j],\n",
    "                       color=[0, 0, 1, 0.5],\n",
    "                       size=j*0.02/ns + 0.01)\n",
    "\n",
    "    ren.markers[ns+1](position=Q_FINAL[:3],\n",
    "                      color=[1, 0, 0, 0.5],\n",
    "                      size=0.04)\n",
    "    ren.markers[ns+2](position=Q_INIT[:3],\n",
    "                    color=[0, 1, 0, 0.5],\n",
    "                    size=0.04)\n",
    "    sleep(t_final/ns)"
   ]
  },
  {
   "cell_type": "code",
   "execution_count": 23,
   "metadata": {},
   "outputs": [
    {
     "data": {
      "image/png": "[encoded data removed]",
      "text/plain": [
       "<Figure size 640x480 with 1 Axes>"
      ]
     },
     "metadata": {},
     "output_type": "display_data"
    },
    {
     "data": {
      "image/png": "[encoded data removed]",
      "text/plain": [
       "<Figure size 640x480 with 1 Axes>"
      ]
     },
     "metadata": {},
     "output_type": "display_data"
    }
   ],
   "source": [
    "import matplotlib.pyplot as plt\n",
    "plt.plot(q_opt[:3,:].T)\n",
    "plt.show()\n",
    "\n",
    "plt.plot(q_opt[3:7,:].T)\n",
    "plt.show()\n"
   ]
  },
  {
   "cell_type": "code",
   "execution_count": 24,
   "metadata": {},
   "outputs": [
    {
     "data": {
      "image/png": "[encoded data removed]",
      "text/plain": [
       "<Figure size 640x480 with 1 Axes>"
      ]
     },
     "metadata": {},
     "output_type": "display_data"
    }
   ],
   "source": [
    "\n",
    "plt.plot(u_opt.T)\n",
    "plt.show()"
   ]
  },
  {
   "cell_type": "code",
   "execution_count": 25,
   "metadata": {},
   "outputs": [
    {
     "data": {
      "text/plain": [
       "(7, 41)"
      ]
     },
     "execution_count": 25,
     "metadata": {},
     "output_type": "execute_result"
    }
   ],
   "source": [
    "q_opt.shape"
   ]
  },
  {
   "cell_type": "code",
   "execution_count": 26,
   "metadata": {},
   "outputs": [
    {
     "data": {
      "image/png": "[encoded data removed]",
      "text/plain": [
       "<Figure size 640x480 with 1 Axes>"
      ]
     },
     "metadata": {},
     "output_type": "display_data"
    }
   ],
   "source": [
    "plt.plot(np.linalg.norm(q_opt[3:7, :].T, axis=1))\n",
    "plt.show()"
   ]
  },
  {
   "cell_type": "code",
   "execution_count": 27,
   "metadata": {},
   "outputs": [
    {
     "data": {
      "text/plain": [
       "array([1.        , 6.71236855, 1.        , 1.        , 1.        ,\n",
       "       1.        , 1.        , 1.        , 1.        , 1.        ,\n",
       "       1.        , 1.        , 1.        , 1.        , 1.        ,\n",
       "       1.        , 1.        , 1.        , 1.        , 1.        ,\n",
       "       1.        , 1.        , 1.        , 1.        , 1.        ,\n",
       "       1.        , 1.        , 1.        , 1.        , 1.        ,\n",
       "       1.        , 1.        , 1.        , 1.        , 1.        ,\n",
       "       1.        , 1.        , 1.        , 1.        , 1.        ,\n",
       "       1.        ])"
      ]
     },
     "execution_count": 27,
     "metadata": {},
     "output_type": "execute_result"
    }
   ],
   "source": [
    "np.linalg.norm(q_opt[3:7,:].T, axis = 1)"
   ]
  }
 ],
 "metadata": {
  "kernelspec": {
   "display_name": "base",
   "language": "python",
   "name": "python3"
  },
  "language_info": {
   "codemirror_mode": {
    "name": "ipython",
    "version": 3
   },
   "file_extension": ".py",
   "mimetype": "text/x-python",
   "name": "python",
   "nbconvert_exporter": "python",
   "pygments_lexer": "ipython3",
   "version": "3.10.0"
  },
  "orig_nbformat": 4
 },
 "nbformat": 4,
 "nbformat_minor": 2
}
