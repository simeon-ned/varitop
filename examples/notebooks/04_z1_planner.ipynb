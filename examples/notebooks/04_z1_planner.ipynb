{
 "cells": [
  {
   "cell_type": "markdown",
   "metadata": {},
   "source": [
    "# Z1 Manipulator Arm\n",
    "\n",
    "Trajectory Planning using varitop"
   ]
  },
  {
   "cell_type": "markdown",
   "metadata": {},
   "source": [
    "## Imports"
   ]
  },
  {
   "cell_type": "code",
   "execution_count": 1,
   "metadata": {},
   "outputs": [],
   "source": [
    "\"\"\"Temporary fix for importing modules from parent directory\"\"\"\n",
    "\n",
    "import os\n",
    "import sys\n",
    "\n",
    "module_path = os.path.abspath(os.path.join(\"..\"))\n",
    "if module_path not in sys.path:\n",
    "    sys.path.append(module_path)"
   ]
  },
  {
   "cell_type": "code",
   "execution_count": 2,
   "metadata": {},
   "outputs": [],
   "source": [
    "from varitop.integrator import DelIntegrator as DI\n",
    "from varitop.opti import Varitop"
   ]
  },
  {
   "cell_type": "code",
   "execution_count": 3,
   "metadata": {},
   "outputs": [],
   "source": [
    "import matplotlib.pyplot as plt\n",
    "import casadi as cs\n",
    "import numpy as np"
   ]
  },
  {
   "cell_type": "code",
   "execution_count": 4,
   "metadata": {},
   "outputs": [],
   "source": [
    "from darli.model import Functional\n",
    "from darli.backend import CasadiBackend"
   ]
  },
  {
   "cell_type": "code",
   "execution_count": 5,
   "metadata": {},
   "outputs": [],
   "source": [
    "from mujoco_simulator.model_builder import ModelBuilder\n",
    "from mujoco_simulator.simulator import MujocoRender"
   ]
  },
  {
   "cell_type": "code",
   "execution_count": 6,
   "metadata": {},
   "outputs": [],
   "source": [
    "from robot_descriptions import z1_description"
   ]
  },
  {
   "cell_type": "markdown",
   "metadata": {},
   "source": [
    "## Variational Integrator\n",
    "\n",
    "Dynamics is specified as symbolical representation of the lagrangian of the model"
   ]
  },
  {
   "cell_type": "code",
   "execution_count": null,
   "metadata": {},
   "outputs": [],
   "source": [
    "darli_model = Functional(CasadiBackend(z1_description.URDF_PATH))\n",
    "darli_model.add_body({'ee': 'link06'})"
   ]
  },
  {
   "cell_type": "code",
   "execution_count": null,
   "metadata": {},
   "outputs": [],
   "source": [
    "nq = darli_model.nq\n",
    "nv = darli_model.nv\n",
    "nu = darli_model.nu"
   ]
  },
  {
   "cell_type": "code",
   "execution_count": 8,
   "metadata": {},
   "outputs": [],
   "source": [
    "di = DI(\n",
    "    nq = nq,\n",
    "    nu = nu,\n",
    "    lagrangian = darli_model.lagrangian,\n",
    ")"
   ]
  },
  {
   "cell_type": "markdown",
   "metadata": {},
   "source": [
    "Actuation is added to the dynamics as a function of the control"
   ]
  },
  {
   "cell_type": "code",
   "execution_count": 9,
   "metadata": {},
   "outputs": [],
   "source": [
    "di.add_force(di.u)"
   ]
  },
  {
   "cell_type": "markdown",
   "metadata": {},
   "source": [
    "## Optimal Control Problem  "
   ]
  },
  {
   "cell_type": "markdown",
   "metadata": {},
   "source": [
    "Time intervals (nodes):"
   ]
  },
  {
   "cell_type": "code",
   "execution_count": 10,
   "metadata": {},
   "outputs": [],
   "source": [
    "ns = 150  # number of shooting nodes\n",
    "tf = 1.5  # [s]\n",
    "dt = tf/ns"
   ]
  },
  {
   "cell_type": "markdown",
   "metadata": {},
   "source": [
    "Create problem instance, configuration and control variables:"
   ]
  },
  {
   "cell_type": "code",
   "execution_count": 11,
   "metadata": {},
   "outputs": [],
   "source": [
    "vp = Varitop(\n",
    "    integrator=di,\n",
    "    nsteps=ns,\n",
    "    dt=dt,\n",
    ")"
   ]
  },
  {
   "cell_type": "markdown",
   "metadata": {},
   "source": [
    "Create parametric initial and final points (joint and cartesian spaces):"
   ]
  },
  {
   "cell_type": "code",
   "execution_count": 12,
   "metadata": {},
   "outputs": [],
   "source": [
    "initial_configuration = vp.parameter(6)\n",
    "desired_pos = vp.parameter(3)"
   ]
  },
  {
   "cell_type": "markdown",
   "metadata": {},
   "source": [
    "Set of constraints is specified:\n",
    "\n",
    "1. Initial configuration is enforced\n",
    "2. Initial velocity is zero\n",
    "3. Final position of the end-effector, described symbolicaly is specified\n",
    "4. Terminal velocity is zero"
   ]
  },
  {
   "cell_type": "code",
   "execution_count": 13,
   "metadata": {},
   "outputs": [],
   "source": [
    "q = vp.q\n",
    "u = vp.u"
   ]
  },
  {
   "cell_type": "code",
   "execution_count": 16,
   "metadata": {},
   "outputs": [],
   "source": [
    "# initial point (joint space)\n",
    "vp.subject_to(q[:, 0] == initial_configuration)\n",
    "# vp.set_initial_configuration(initial_configuration)\n",
    "vp.subject_to(q[:, 0] == q[:, 1])\n",
    "# Terminal point (cartesian space)\n",
    "vp.subject_to(darli_model.body('ee').position(q[:, -1]) == desired_pos)\n",
    "vp.subject_to(q[:, -1] == q[:, -2])"
   ]
  },
  {
   "cell_type": "markdown",
   "metadata": {},
   "source": [
    "Intermidiate costs are composed as such:\n",
    "\n",
    "1. $10^{-2}|q|^2$\n",
    "2. $5\\cdot 10^{-2}\\;|\\dot{q}|^2$\n",
    "3. $5 \\cdot 10^{-3}\\; |u|^2$\n",
    " \n",
    "Terminal cost is defined as:\n",
    "\n",
    "1. $5\\cdot10^{-2}\\;|q|^2$\n",
    "2. $10^{-2}\\;|\\dot{q}|^2$"
   ]
  },
  {
   "cell_type": "code",
   "execution_count": 17,
   "metadata": {},
   "outputs": [],
   "source": [
    "# cost\n",
    "cost = 0 \n",
    "\n",
    "# stage cost \n",
    "for i in range(ns-1):\n",
    "    cost += 1e-2*cs.sumsqr(q[:, i])*dt\n",
    "    cost += 5e-2*cs.sumsqr((q[:, i + 1] - q[:, i])/dt)*dt\n",
    "    cost += 5e-3*cs.sumsqr(u[:, i])*dt\n",
    "    \n",
    "# Terminal cost \n",
    "cost += 5e-2*cs.sumsqr(q[:, -1])\n",
    "cost += 10e-2*cs.sumsqr((q[:, -1] - q[:, -2])/dt)\n",
    "\n",
    "vp.set_cost(cost)"
   ]
  },
  {
   "cell_type": "markdown",
   "metadata": {},
   "source": [
    "Moreover, inequatlity constraints are introduced:\n",
    "\n",
    "1. $v_{\\text{min}} \\leq v \\leq v_{\\text{max}}$\n",
    "1. $u_{\\text{min}} \\leq u \\leq u_{\\text{max}}$"
   ]
  },
  {
   "cell_type": "code",
   "execution_count": 18,
   "metadata": {},
   "outputs": [],
   "source": [
    "# Limits \n",
    "# joint limits \n",
    "vp.bounded(darli_model.q_min, q, darli_model.q_max)\n",
    "# velocity limits\n",
    "v_max = 1.5\n",
    "qdot_lims = np.full((nv), v_max)\n",
    "vp.bounded(-qdot_lims,(q[:, 1:] - q[:, :-1])/dt,  qdot_lims)\n",
    "# torque limits\n",
    "u_max = 5\n",
    "u_lims = np.full((nu), u_max) \n",
    "vp.bounded(-u_max, u,  u_max)"
   ]
  },
  {
   "cell_type": "markdown",
   "metadata": {},
   "source": [
    "Define numerical values for the parameters and solve:"
   ]
  },
  {
   "cell_type": "code",
   "execution_count": 19,
   "metadata": {},
   "outputs": [],
   "source": [
    "vp.set_parameter(initial_configuration,np.zeros(6))\n",
    "vp.set_parameter(desired_pos,[0.2, 0.2, 0.36])"
   ]
  },
  {
   "cell_type": "code",
   "execution_count": 20,
   "metadata": {},
   "outputs": [
    {
     "name": "stdout",
     "output_type": "stream",
     "text": [
      "\n",
      "******************************************************************************\n",
      "This program contains Ipopt, a library for large-scale nonlinear optimization.\n",
      " Ipopt is released as open source code under the Eclipse Public License (EPL).\n",
      "         For more information visit https://github.com/coin-or/Ipopt\n",
      "******************************************************************************\n",
      "\n",
      "This is Ipopt version 3.14.11, running with linear solver MUMPS 5.4.1.\n",
      "\n",
      "Number of nonzeros in equality constraint Jacobian...:    17030\n",
      "Number of nonzeros in inequality constraint Jacobian.:     3606\n",
      "Number of nonzeros in Lagrangian Hessian.............:     9465\n",
      "\n",
      "Total number of variables............................:     1806\n",
      "                     variables with only lower bounds:        0\n",
      "                variables with lower and upper bounds:        0\n",
      "                     variables with only upper bounds:        0\n",
      "Total number of equality constraints.................:      915\n",
      "Total number of inequality constraints...............:     2706\n",
      "        inequality constraints with only lower bounds:        0\n",
      "   inequality constraints with lower and upper bounds:     2706\n",
      "        inequality constraints with only upper bounds:        0\n",
      "\n",
      "iter    objective    inf_pr   inf_du lg(mu)  ||d||  lg(rg) alpha_du alpha_pr  ls\n",
      "   0  0.0000000e+00 2.13e-01 0.00e+00  -1.0 0.00e+00    -  0.00e+00 0.00e+00   0\n",
      "   1  3.6892159e-04 2.11e-01 3.12e+00  -1.0 3.33e+01    -  4.07e-03 8.19e-03f  1\n",
      "   2  7.2046290e-02 1.84e-01 5.49e+02  -1.0 2.63e+01    -  8.84e-03 1.22e-01f  1\n",
      "   3  1.9066723e-01 1.61e-01 7.20e+02  -1.0 7.57e+00    -  1.36e-02 1.24e-01f  1\n",
      "   4  3.1585115e-01 1.66e-01 1.04e+03  -1.0 9.60e+00    -  6.21e-02 1.90e-01f  1\n",
      "   5  4.7167888e-01 9.93e-02 1.15e+03  -1.0 3.47e+00   0.0 7.10e-02 7.36e-01h  1\n",
      "   6  4.8652944e-01 8.66e-02 9.29e+02  -1.0 1.53e+00   0.4 5.99e-01 1.25e-01h  1\n",
      "   7  5.0549860e-01 7.02e-02 5.31e+02  -1.0 1.61e+00   0.9 8.72e-01 1.84e-01h  1\n",
      "   8  5.1945760e-01 6.10e-02 4.00e+02  -1.0 2.83e+00   0.4 2.14e-01 1.30e-01h  1\n",
      "   9  5.4635417e-01 3.92e-02 1.40e+03  -1.0 1.33e+00   0.8 1.00e+00 3.48e-01h  1\n",
      "iter    objective    inf_pr   inf_du lg(mu)  ||d||  lg(rg) alpha_du alpha_pr  ls\n",
      "  10  5.8818449e-01 9.92e-03 5.01e+02  -1.0 1.02e+00   0.3 6.02e-01 7.26e-01h  1\n",
      "  11  6.0096731e-01 2.80e-04 9.86e+02  -1.0 3.58e-01  -0.2 5.50e-01 9.90e-01f  1\n",
      "  12  5.8063257e-01 8.15e-04 2.40e+04  -1.0 7.68e-01    -  5.62e-01 9.96e-01f  1\n",
      "  13  5.6251617e-01 2.75e-03 3.12e+06  -1.0 7.79e-01    -  4.34e-01 1.00e+00f  1\n",
      "  14  5.6344292e-01 9.91e-04 2.45e+06  -1.0 9.94e-01    -  6.77e-01 1.00e+00f  1\n",
      "  15  5.7274761e-01 5.43e-04 2.04e+00  -1.0 8.02e-01    -  1.00e+00 1.00e+00f  1\n",
      "  16  5.7168460e-01 2.79e-06 3.64e+05  -3.8 5.64e-02    -  9.64e-01 1.00e+00h  1\n",
      "  17  5.6407665e-01 1.44e-04 2.68e+04  -3.8 2.32e-01    -  9.26e-01 1.00e+00h  1\n",
      "  18  5.4536640e-01 9.57e-04 9.49e-03  -3.8 1.00e+00    -  1.00e+00 1.00e+00h  1\n",
      "  19  5.4359246e-01 4.51e-05 2.61e-04  -3.8 5.32e-01    -  1.00e+00 1.00e+00h  1\n",
      "iter    objective    inf_pr   inf_du lg(mu)  ||d||  lg(rg) alpha_du alpha_pr  ls\n",
      "  20  5.4110468e-01 3.94e-05 3.40e+03  -5.7 6.18e-01    -  7.71e-01 1.00e+00h  1\n",
      "  21  5.4010639e-01 2.98e-05 4.47e+02  -5.7 4.34e-01    -  8.69e-01 1.00e+00h  1\n",
      "  22  5.3972124e-01 1.13e-05 1.89e-05  -5.7 2.35e-01    -  1.00e+00 1.00e+00h  1\n",
      "  23  5.3962126e-01 5.19e-07 1.98e-06  -5.7 1.01e-01    -  1.00e+00 1.00e+00h  1\n",
      "  24  5.3955225e-01 6.57e-07 2.54e+01  -8.6 1.03e-01    -  8.62e-01 1.00e+00h  1\n",
      "  25  5.3953824e-01 1.22e-07 4.26e+00  -8.6 3.54e-02    -  8.32e-01 9.56e-01h  1\n",
      "  26  5.3953550e-01 2.27e-08 3.64e-01  -8.6 1.65e-02    -  9.15e-01 9.88e-01f  1\n",
      "  27  5.3953519e-01 4.01e-09 4.14e-08  -8.6 7.70e-03    -  1.00e+00 1.00e+00f  1\n",
      "  28  5.3953517e-01 1.79e-10 2.69e-09  -8.6 3.23e-03    -  1.00e+00 1.00e+00h  1\n",
      "\n",
      "Number of Iterations....: 28\n",
      "\n",
      "                                   (scaled)                 (unscaled)\n",
      "Objective...............:   5.3953516505541033e-01    5.3953516505541033e-01\n",
      "Dual infeasibility......:   2.6933150267319239e-09    2.6933150267319239e-09\n",
      "Constraint violation....:   1.7912490241078771e-10    1.7912490241078771e-10\n",
      "Variable bound violation:   0.0000000000000000e+00    0.0000000000000000e+00\n",
      "Complementarity.........:   4.1732272721376247e-09    4.1732272721376247e-09\n",
      "Overall NLP error.......:   4.1732272721376247e-09    4.1732272721376247e-09\n",
      "\n",
      "\n",
      "Number of objective function evaluations             = 29\n",
      "Number of objective gradient evaluations             = 29\n",
      "Number of equality constraint evaluations            = 29\n",
      "Number of inequality constraint evaluations          = 29\n",
      "Number of equality constraint Jacobian evaluations   = 29\n",
      "Number of inequality constraint Jacobian evaluations = 29\n",
      "Number of Lagrangian Hessian evaluations             = 28\n",
      "Total seconds in IPOPT                               = 3.882\n",
      "\n",
      "EXIT: Optimal Solution Found.\n",
      "      solver  :   t_proc      (avg)   t_wall      (avg)    n_eval\n",
      "       nlp_f  |   1.39ms ( 47.76us)   1.38ms ( 47.62us)        29\n",
      "       nlp_g  |  25.64ms (884.07us)  25.58ms (881.95us)        29\n",
      "  nlp_grad_f  |   2.22ms ( 73.93us)   2.22ms ( 74.08us)        30\n",
      "  nlp_hess_l  |   2.71 s ( 96.84ms)   2.71 s ( 96.79ms)        28\n",
      "   nlp_jac_g  | 858.98ms ( 28.63ms) 858.65ms ( 28.62ms)        30\n",
      "       total  |   3.89 s (  3.89 s)   3.89 s (  3.89 s)         1\n"
     ]
    }
   ],
   "source": [
    "sol = vp.solve()"
   ]
  },
  {
   "cell_type": "markdown",
   "metadata": {},
   "source": [
    "## Visualize"
   ]
  },
  {
   "cell_type": "code",
   "execution_count": 21,
   "metadata": {},
   "outputs": [],
   "source": [
    "q_opt = vp.value(q)\n",
    "u_opt = vp.value(u)\n",
    "# q_opt"
   ]
  },
  {
   "cell_type": "code",
   "execution_count": 22,
   "metadata": {},
   "outputs": [
    {
     "data": {
      "text/plain": [
       "(DM([0.2, 0.2, 0.36]), array([0.2 , 0.2 , 0.36]))"
      ]
     },
     "execution_count": 22,
     "metadata": {},
     "output_type": "execute_result"
    }
   ],
   "source": [
    "darli_model.body('ee').position(q_opt[:, -1]), vp.value(desired_pos)"
   ]
  },
  {
   "cell_type": "code",
   "execution_count": 23,
   "metadata": {},
   "outputs": [
    {
     "data": {
      "image/png": "[encoded data removed]",
      "text/plain": [
       "<Figure size 640x480 with 1 Axes>"
      ]
     },
     "metadata": {},
     "output_type": "display_data"
    }
   ],
   "source": [
    "t = np.linspace(0, tf, ns+1)\n",
    "\n",
    "plt.title(r'Angles in joints')\n",
    "plt.plot(t, q_opt.T)\n",
    "plt.grid(True)\n",
    "plt.ylabel(r'Angles $q(t)$ (rad)')\n",
    "plt.xlabel(r'Time $t$ (s)')\n",
    "plt.show()"
   ]
  },
  {
   "cell_type": "code",
   "execution_count": 24,
   "metadata": {},
   "outputs": [
    {
     "data": {
      "image/png": "[encoded data removed]",
      "text/plain": [
       "<Figure size 640x480 with 1 Axes>"
      ]
     },
     "metadata": {},
     "output_type": "display_data"
    }
   ],
   "source": [
    "\n",
    "plt.title(r'Torque in joints')\n",
    "plt.hlines(-u_max, 0, tf-dt, color = 'black', linestyle = '--', alpha = 0.8)\n",
    "plt.hlines(u_max, 0, tf-dt, color = 'black', linestyle = '--', alpha = 0.8)\n",
    "plt.plot(t[:-1], u_opt.T)\n",
    "plt.grid(True)\n",
    "plt.ylabel(r'Speed $\\dot{q}(t)$ (rad)')\n",
    "plt.xlabel(r'Time $t$ (s)')\n",
    "plt.show()"
   ]
  },
  {
   "cell_type": "code",
   "execution_count": null,
   "metadata": {},
   "outputs": [],
   "source": []
  }
 ],
 "metadata": {
  "kernelspec": {
   "display_name": "base",
   "language": "python",
   "name": "python3"
  },
  "language_info": {
   "codemirror_mode": {
    "name": "ipython",
    "version": 3
   },
   "file_extension": ".py",
   "mimetype": "text/x-python",
   "name": "python",
   "nbconvert_exporter": "python",
   "pygments_lexer": "ipython3",
   "version": "3.10.0"
  },
  "orig_nbformat": 4
 },
 "nbformat": 4,
 "nbformat_minor": 2
}
