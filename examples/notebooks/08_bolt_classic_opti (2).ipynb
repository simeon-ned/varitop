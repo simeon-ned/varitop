{
 "cells": [
  {
   "cell_type": "code",
   "execution_count": 1,
   "metadata": {},
   "outputs": [],
   "source": [
    "\"\"\"Temporary fix for importing modules from parent directory\"\"\"\n",
    "\n",
    "import os\n",
    "import sys\n",
    "\n",
    "module_path = os.path.abspath(os.path.join(\"../..\"))\n",
    "if module_path not in sys.path:\n",
    "    sys.path.append(module_path)"
   ]
  },
  {
   "cell_type": "code",
   "execution_count": 2,
   "metadata": {},
   "outputs": [],
   "source": [
    "import sys\n",
    "import numpy as np\n",
    "import casadi as cs\n",
    "import mediapy as media\n",
    "from tqdm import tqdm\n",
    "from time import sleep"
   ]
  },
  {
   "cell_type": "code",
   "execution_count": 3,
   "metadata": {},
   "outputs": [],
   "source": [
    "import pinocchio as pin\n",
    "import meshcat"
   ]
  },
  {
   "cell_type": "code",
   "execution_count": 4,
   "metadata": {},
   "outputs": [],
   "source": [
    "from robot_descriptions.bolt_description import URDF_PATH"
   ]
  },
  {
   "cell_type": "code",
   "execution_count": 5,
   "metadata": {},
   "outputs": [],
   "source": [
    "from darli.model import Model\n",
    "from darli.model.functional import Functional\n",
    "from darli.backend import CasadiBackend, Frame, JointType\n",
    "from darli.backend.liecasadi.so3 import SO3\n",
    "from darli.state_space import StateSpace\n",
    "from darli.robots import biped\n",
    "import casadi as cs"
   ]
  },
  {
   "cell_type": "code",
   "execution_count": 6,
   "metadata": {},
   "outputs": [],
   "source": [
    "pinmodel, gpinmodel, cpinmodel = pin.buildModelsFromUrdf(URDF_PATH, package_dirs='/home/m8/.cache/robot_descriptions', geometry_types=[pin.GeometryType.VISUAL, pin.GeometryType.COLLISION], root_joint=pin.JointModelFreeFlyer())"
   ]
  },
  {
   "cell_type": "code",
   "execution_count": 7,
   "metadata": {},
   "outputs": [
    {
     "data": {
      "text/plain": [
       "(13, 12)"
      ]
     },
     "execution_count": 7,
     "metadata": {},
     "output_type": "execute_result"
    }
   ],
   "source": [
    "pinmodel.nq, pinmodel.nv"
   ]
  },
  {
   "cell_type": "code",
   "execution_count": 8,
   "metadata": {},
   "outputs": [],
   "source": [
    "vis = pin.visualize.MeshcatVisualizer(pinmodel, gpinmodel, cpinmodel)"
   ]
  },
  {
   "cell_type": "code",
   "execution_count": 9,
   "metadata": {},
   "outputs": [
    {
     "name": "stdout",
     "output_type": "stream",
     "text": [
      "You can open the visualizer by visiting the following URL:\n",
      "http://127.0.0.1:7002/static/\n"
     ]
    }
   ],
   "source": [
    "vis.initViewer(loadModel=True)"
   ]
  },
  {
   "cell_type": "code",
   "execution_count": 10,
   "metadata": {},
   "outputs": [],
   "source": [
    "vis.display(pin.neutral(pinmodel))"
   ]
  },
  {
   "cell_type": "code",
   "execution_count": 11,
   "metadata": {},
   "outputs": [
    {
     "name": "stdout",
     "output_type": "stream",
     "text": [
      "/home/m8/.cache/robot_descriptions/example-robot-data/robots/bolt_description/robots/bolt.urdf\n"
     ]
    }
   ],
   "source": [
    "print(URDF_PATH)"
   ]
  },
  {
   "cell_type": "code",
   "execution_count": 12,
   "metadata": {},
   "outputs": [],
   "source": [
    "bodies_map={'torso': 'base_link', 'lf': 'FL_FOOT', 'rf': 'FR_FOOT'}\n",
    "foot_names = {'lf', 'rf'}\n",
    "\n",
    "stance_leg = 'lf'\n",
    "swing_leg = 'rf'\n",
    " \n",
    "darli_model = Functional(CasadiBackend(URDF_PATH, root_joint=JointType.FREE_FLYER))\n",
    "\n",
    "darli_model.add_body(bodies_map)\n",
    "for foot in foot_names:\n",
    "    body = darli_model.body(foot)\n",
    "    if foot == stance_leg:\n",
    "        body.add_contact(frame=Frame.LOCAL_WORLD_ALIGNED, contact_type=\"point\")\n",
    "        body.contact.add_cone(mu=1.0)\n",
    "\n",
    "darli_model.update_selector(passive_joints=range(6))"
   ]
  },
  {
   "cell_type": "code",
   "execution_count": 13,
   "metadata": {},
   "outputs": [],
   "source": [
    "\n",
    "ns = 60\n",
    "\n",
    "opti_problem = cs.Opti()\n",
    "tf = opti_problem.parameter(1)\n",
    "tf = 0.3\n",
    "dt = tf / ns\n",
    "\n",
    "state = opti_problem.variable(darli_model.nq + darli_model.nv, ns+1)\n",
    "q = state[:darli_model.nq, :]\n",
    "v = state[darli_model.nq:, :]\n",
    "u = opti_problem.variable(darli_model.nu, ns)\n",
    "stance_grw = opti_problem.variable(darli_model.body(stance_leg).contact.dim, ns)"
   ]
  },
  {
   "cell_type": "code",
   "execution_count": 14,
   "metadata": {},
   "outputs": [],
   "source": [
    "torso_pos = q[:3]\n",
    "torso_xyzw = q[3:7]"
   ]
  },
  {
   "cell_type": "code",
   "execution_count": 15,
   "metadata": {},
   "outputs": [],
   "source": [
    "Q_INIT = np.zeros(darli_model.nq)\n",
    "Q_INIT[2] = 0.45\n",
    "Q_INIT[6] = 1\n",
    "vis.display(Q_INIT)"
   ]
  },
  {
   "cell_type": "code",
   "execution_count": 16,
   "metadata": {},
   "outputs": [],
   "source": [
    "STEP_LENGTH = 0.28\n",
    "STEP_CLEAREANCE = 0.04"
   ]
  },
  {
   "cell_type": "code",
   "execution_count": 17,
   "metadata": {},
   "outputs": [],
   "source": [
    "\n",
    "for foot in foot_names:\n",
    "    INIT_FOOTS = np.array(darli_model.body(foot).position(Q_INIT)).copy()\n",
    "    foot_pos = darli_model.body(foot).position\n",
    "    foot_velocity = darli_model.body(foot).linear_velocity.world_aligned\n",
    "    for i in range(ns+1):\n",
    "        if foot == stance_leg:\n",
    "            opti_problem.subject_to(foot_pos(q[:,i]) == INIT_FOOTS)\n",
    "            cone = darli_model.body(stance_leg).contact.cone.linear()\n",
    "            if i < ns:\n",
    "                opti_problem.subject_to(cone@stance_grw[:,i] <= np.zeros(5))\n",
    "            \n",
    "    if foot == swing_leg:\n",
    "        # INTIAL FOOT POSITION\n",
    "        opti_problem.subject_to(foot_pos(q[:,0])[0] == INIT_FOOTS[0] - STEP_LENGTH/2)\n",
    "        opti_problem.subject_to(foot_pos(q[:,0])[1:] == INIT_FOOTS[1:])\n",
    "        opti_problem.subject_to(foot_velocity(q[:,0], v[:,0]) == np.zeros(3))\n",
    "        # FINAL FOOT POSITION\n",
    "        opti_problem.subject_to(foot_pos(q[:,-1])[0] == INIT_FOOTS[0] + STEP_LENGTH/2)\n",
    "        opti_problem.subject_to(foot_pos(q[:,-1])[1:] == INIT_FOOTS[1:])\n",
    "        opti_problem.subject_to(foot_velocity(q[:,-1], v[:,-1]) == np.zeros(3))\n",
    "        \n",
    "        opti_problem.subject_to(foot_pos(q[:,int(ns/2)])[2] >= INIT_FOOTS[2] + STEP_CLEAREANCE)"
   ]
  },
  {
   "cell_type": "markdown",
   "metadata": {},
   "source": [
    "<!-- TORSO CONSTRAINTS -->"
   ]
  },
  {
   "cell_type": "code",
   "execution_count": 18,
   "metadata": {},
   "outputs": [],
   "source": [
    "# Y is symmetric \n",
    "opti_problem.subject_to(q[1,0] == -q[1,-1])\n",
    "opti_problem.subject_to(v[1,0] == -v[1,-1])\n",
    "for i in range(ns):\n",
    "    # Z of torso is always bounded\n",
    "    opti_problem.subject_to(q[2,i] >= 0.3)\n",
    "    opti_problem.subject_to(q[2,i] <= 0.45)\n",
    "    # Torso have fixed orientation\n",
    "    opti_problem.subject_to(q[3:7,i] == np.array([0,0,0,1]))"
   ]
  },
  {
   "cell_type": "code",
   "execution_count": 19,
   "metadata": {},
   "outputs": [],
   "source": [
    "\n",
    "# position_weight = opti_problem.parameter(1)\n",
    "position_weight = 0.00001\n",
    "# orientation_weight = opti_problem.parameter(1)\n",
    "# # acceleration_weight = opti_problem.parameter(1)\n",
    "# velocity_weight = opti_problem.parameter(1)\n",
    "velocity_weight = 0.01\n",
    "control_weight = 0.0001\n",
    "force_weight = 0.00001\n",
    "\n",
    "# control_max = opti_problem.parameter(darli_model.nu)\n",
    "\n",
    "fd = darli_model.forward_dynamics\n",
    "cost = 0 \n",
    "for i in range(ns):\n",
    "    \n",
    "    dv_i = fd(q[:,i], v[:,i], u[:, i], stance_grw[:,i])\n",
    "    opti_problem.subject_to(v[:, i+1] == v[:,i] + dt*dv_i)\n",
    "    opti_problem.subject_to(q[:,i+1] == darli_model.backend.integrate_configuration(q[:,i], v[:,i]*dt))\n",
    "    # opti_problem.subject_to(q[3:7,i] == np.array([0,0,0,1]))\n",
    "    cost += position_weight*cs.sumsqr(q[7:,i])*dt\n",
    "    cost += velocity_weight*cs.sumsqr(v[:,i])*dt\n",
    "    cost += control_weight*cs.sumsqr(u[:,i])*dt\n",
    "    cost += force_weight*cs.sumsqr(stance_grw[:,i])*dt\n",
    "    # cost += acceleration_weight*cs.sumsqr(dv_i)*dt\n",
    "    # opti_problem.subject_to(opti_problem.bounded(np.zeros(darli_model.nu), u[:, i], control_max))\n",
    "    # opti_problem.subject_to(q[2, i] >= 0.4)"
   ]
  },
  {
   "cell_type": "code",
   "execution_count": 20,
   "metadata": {},
   "outputs": [],
   "source": [
    "\n",
    "opti_problem.minimize(cost)\n",
    "opti_problem.solver('ipopt')"
   ]
  },
  {
   "cell_type": "code",
   "execution_count": 21,
   "metadata": {},
   "outputs": [
    {
     "name": "stdout",
     "output_type": "stream",
     "text": [
      "\n",
      "******************************************************************************\n",
      "This program contains Ipopt, a library for large-scale nonlinear optimization.\n",
      " Ipopt is released as open source code under the Eclipse Public License (EPL).\n",
      "         For more information visit https://github.com/coin-or/Ipopt\n",
      "******************************************************************************\n",
      "\n",
      "This is Ipopt version 3.14.16, running with linear solver MUMPS 5.7.1.\n",
      "\n",
      "Number of nonzeros in equality constraint Jacobian...:    30604\n",
      "Number of nonzeros in inequality constraint Jacobian.:     1028\n",
      "Number of nonzeros in Lagrangian Hessian.............:    19135\n",
      "\n",
      "Total number of variables............................:     2065\n",
      "                     variables with only lower bounds:        0\n",
      "                variables with lower and upper bounds:        0\n",
      "                     variables with only upper bounds:        0\n",
      "Total number of equality constraints.................:     1937\n",
      "Total number of inequality constraints...............:      421\n",
      "        inequality constraints with only lower bounds:       61\n",
      "   inequality constraints with lower and upper bounds:        0\n",
      "        inequality constraints with only upper bounds:      360\n",
      "\n",
      "iter    objective    inf_pr   inf_du lg(mu)  ||d||  lg(rg) alpha_du alpha_pr  ls\n",
      "   0  0.0000000e+00 1.00e+00 1.00e+00  -1.0 0.00e+00    -  0.00e+00 0.00e+00   0\n",
      "   1  4.5698556e-01 2.19e+00 1.72e+02  -1.7 4.22e+03    -  1.07e-02 2.93e-02h  6\n",
      "   2  3.6711568e-01 2.23e+00 1.85e+02  -1.7 6.26e+02  -2.0 7.85e-02 7.82e-03h  1\n",
      "   3  3.6410789e-01 2.23e+00 1.85e+02  -1.7 1.48e+03  -2.5 1.26e-01 1.70e-04h  1\n",
      "   4  1.1564543e-01 4.73e+00 4.13e+02  -1.7 3.06e+03  -3.0 5.46e-03 1.18e-02f  1\n",
      "   5  1.0912051e-01 4.67e+00 4.07e+02  -1.7 5.11e+01  -0.7 2.20e-03 1.24e-02f  1\n",
      "   6  1.0641773e-01 4.25e+00 2.27e+03  -1.7 1.37e+02  -1.2 4.72e-03 1.39e-01f  1\n",
      "   7  1.0762102e-01 4.24e+00 2.26e+03  -1.7 2.42e+02  -1.7 1.49e-02 2.49e-03h  1\n",
      "   8  1.2613865e-01 3.88e+00 2.33e+03  -1.7 9.23e+01  -1.3 2.16e-02 4.76e-02h  1\n",
      "   9  1.2816495e-01 3.87e+00 2.32e+03  -1.7 8.10e+02  -1.7 4.83e-03 2.83e-03h  1\n",
      "iter    objective    inf_pr   inf_du lg(mu)  ||d||  lg(rg) alpha_du alpha_pr  ls\n",
      "  10  1.2779860e-01 3.86e+00 2.32e+03  -1.7 4.63e+02  -1.3 3.74e-03 1.96e-03h  1\n",
      "  11  1.3581856e-01 3.69e+00 2.22e+03  -1.7 1.91e+01   0.0 3.13e-02 4.05e-02h  1\n",
      "  12  1.3846455e-01 3.64e+00 2.18e+03  -1.7 5.08e+01  -0.4 6.04e-03 1.44e-02h  1\n",
      "  13  1.4407741e-01 3.56e+00 2.13e+03  -1.7 1.76e+01  -0.0 6.44e-03 2.26e-02h  1\n",
      "  14  1.4205593e-01 3.55e+00 2.13e+03  -1.7 1.32e+03  -0.5 5.39e-04 4.96e-04f  1\n",
      "  15  1.4332688e-01 3.54e+00 2.12e+03  -1.7 1.72e+01  -0.1 8.81e-03 5.05e-03h  1\n",
      "  16  1.5090534e-01 3.42e+00 2.05e+03  -1.7 1.29e+01   0.4 2.66e-03 3.21e-02f  1\n",
      "  17  1.5517709e-01 3.37e+00 2.02e+03  -1.7 1.60e+01  -0.1 2.47e-02 1.60e-02h  1\n",
      "  18  1.6343018e-01 3.26e+00 1.95e+03  -1.7 1.25e+01   0.3 1.44e-02 3.28e-02f  1\n",
      "  19  1.7379014e-01 3.14e+00 1.86e+03  -1.7 1.45e+01  -0.2 2.66e-02 3.86e-02h  1\n",
      "iter    objective    inf_pr   inf_du lg(mu)  ||d||  lg(rg) alpha_du alpha_pr  ls\n",
      "  20  1.8381131e-01 3.02e+00 1.79e+03  -1.7 1.09e+01   0.2 1.60e-02 3.85e-02h  1\n",
      "  21  1.8396444e-01 3.02e+00 1.79e+03  -1.7 1.98e+01  -0.2 7.35e-02 7.09e-04h  1\n",
      "  22  1.8704438e-01 2.99e+00 1.77e+03  -1.7 2.66e+01  -0.7 3.96e-02 8.25e-03h  1\n",
      "  23  1.9950234e-01 2.88e+00 1.71e+03  -1.7 1.91e+01  -0.3 1.39e-02 4.07e-02f  1\n",
      "  24  2.0780366e-01 2.81e+00 1.67e+03  -1.7 1.93e+01  -0.8 1.76e-01 2.39e-02h  1\n",
      "  25  2.1253565e-01 2.80e+00 1.66e+03  -1.7 1.79e+02  -1.2 2.55e-03 5.23e-03h  1\n",
      "  26  2.3124257e-01 2.66e+00 1.57e+03  -1.7 1.63e+01  -0.8 3.72e-02 5.41e-02h  1\n",
      "  27  2.3401196e-01 2.66e+00 1.57e+03  -1.7 3.60e+02  -1.3 8.73e-04 1.48e-03h  1\n",
      "  28  2.4242936e-01 2.59e+00 1.53e+03  -1.7 1.20e+01  -0.9 3.27e-02 2.54e-02h  1\n",
      "  29  2.7346101e-01 2.37e+00 1.39e+03  -1.7 1.05e+01  -0.4 3.22e-02 1.05e-01h  1\n",
      "iter    objective    inf_pr   inf_du lg(mu)  ||d||  lg(rg) alpha_du alpha_pr  ls\n",
      "  30  2.9096818e-01 2.27e+00 1.32e+03  -1.7 1.20e+01  -0.9 4.41e-02 5.23e-02h  1\n",
      "  31  3.6909475e-01 1.95e+00 1.07e+03  -1.7 7.71e+00  -0.5 9.71e-02 2.62e-01h  1\n",
      "  32  4.1329563e-01 1.86e+00 8.77e+02  -1.7 1.33e+01  -1.0 1.36e-01 1.44e-01h  1\n",
      "  33  4.6510367e-01 1.48e+00 6.36e+02  -1.7 4.68e+00  -0.5 1.62e-01 2.47e-01h  1\n",
      "  34  4.9626265e-01 1.27e+00 4.61e+02  -1.7 1.58e+01  -1.0 3.10e-02 1.02e-01h  1\n",
      "  35  5.2004671e-01 9.83e-01 3.51e+02  -1.7 4.04e+00  -0.6 1.76e-01 2.23e-01h  1\n",
      "  36  5.2877977e-01 8.92e-01 3.08e+02  -1.7 7.42e+00  -1.1 8.01e-02 9.22e-02h  1\n",
      "  37  5.5084766e-01 6.29e-01 3.19e+02  -1.7 3.45e+00  -0.6 1.59e-01 2.96e-01h  1\n",
      "  38  5.5630330e-01 5.78e-01 2.63e+02  -1.7 5.90e+00  -1.1 1.26e-01 8.10e-02h  1\n",
      "  39  5.5684134e-01 5.72e-01 2.48e+02  -1.7 8.60e+01  -1.6 3.73e-03 8.26e-03f  1\n",
      "iter    objective    inf_pr   inf_du lg(mu)  ||d||  lg(rg) alpha_du alpha_pr  ls\n",
      "  40  5.7078941e-01 4.43e-01 2.11e+02  -1.7 5.44e+00  -1.2 1.87e-01 2.26e-01f  1\n",
      "  41  5.7191696e-01 4.37e-01 2.32e+02  -1.7 2.35e+02  -1.6 9.50e-03 7.06e-03f  1\n",
      "  42  5.9194592e-01 2.85e-01 1.82e+02  -1.7 5.11e+00  -1.2 1.94e-01 3.37e-01f  1\n",
      "  43  6.0152440e-01 2.73e-01 3.06e+02  -1.7 5.18e+01  -1.7 9.91e-02 3.83e-02f  1\n",
      "  44  6.7897580e-01 3.66e-01 5.48e+02  -1.7 4.60e+00  -1.3 4.80e-01 9.32e-01f  1\n",
      "  45  7.0320215e-01 7.02e-02 2.96e+02  -1.7 4.20e+00  -0.8 1.81e-02 1.00e+00f  1\n",
      "  46  7.1627677e-01 7.06e-02 3.30e+02  -1.7 1.22e+01  -1.3 1.11e-01 1.81e-01h  1\n",
      "  47  7.1392783e-01 5.16e-02 3.46e+01  -1.7 3.08e+00  -0.9 5.95e-01 2.58e-01f  1\n",
      "  48  6.9958228e-01 8.75e-02 1.17e+02  -1.7 4.31e+00  -1.4 5.77e-01 1.00e+00f  1\n",
      "  49  6.7047817e-01 1.00e-01 1.06e+02  -1.7 4.35e+00  -1.8 2.48e-01 4.48e-01f  1\n",
      "iter    objective    inf_pr   inf_du lg(mu)  ||d||  lg(rg) alpha_du alpha_pr  ls\n",
      "  50  6.5445687e-01 1.01e-01 1.33e+03  -1.7 2.13e+00  -1.4 3.11e-01 1.00e+00f  1\n",
      "  51  6.4102642e-01 2.29e-01 3.13e+03  -1.7 2.73e+00  -1.0 1.75e-01 9.16e-01f  1\n",
      "  52  6.2841309e-01 1.72e-02 5.30e+02  -1.7 2.56e+00  -1.5 6.88e-02 1.00e+00f  1\n",
      "  53  6.1867031e-01 2.58e-02 2.05e+01  -1.7 1.08e+00  -1.9 1.00e+00 1.00e+00f  1\n",
      "  54  6.0703124e-01 1.25e-01 5.48e+01  -1.7 6.06e+00  -2.4 1.00e+00 3.64e-01f  1\n",
      "  55  5.8419942e-01 4.78e-01 1.40e+02  -1.7 7.89e+00  -2.9 4.40e-01 1.00e+00f  1\n",
      "  56  5.4100232e-01 1.35e-01 3.88e+00  -1.7 4.92e+00  -2.5 1.00e+00 1.00e+00h  1\n",
      "  57  5.2891622e-01 8.71e-03 3.08e-01  -1.7 1.28e+00  -2.1 1.00e+00 1.00e+00h  1\n",
      "  58  5.2367789e-01 5.65e-02 5.47e+01  -1.7 1.30e+01  -2.5 3.09e-01 1.71e-01h  1\n",
      "  59  5.1149349e-01 1.12e-02 3.32e+02  -1.7 1.07e+00  -2.1 3.83e-01 1.00e+00f  1\n",
      "iter    objective    inf_pr   inf_du lg(mu)  ||d||  lg(rg) alpha_du alpha_pr  ls\n",
      "  60  4.9817991e-01 1.29e-01 2.18e+02  -1.7 7.48e+00  -2.6 3.29e-01 3.41e-01f  1\n",
      "  61  4.8424546e-01 8.36e-03 6.07e+02  -1.7 1.08e+00  -2.2 1.86e-01 1.00e+00f  1\n",
      "  62  4.5681978e-01 1.03e-01 8.04e+01  -1.7 3.52e+00  -2.6 5.99e-01 1.00e+00f  1\n",
      "  63  4.3569131e-01 4.88e-01 1.25e+02  -1.7 9.09e-01  -2.2 3.75e-01 1.00e+00h  1\n",
      "  64  3.9981859e-01 2.16e-01 5.67e+01  -1.7 1.09e+00  -2.7 3.96e-01 1.00e+00h  1\n",
      "  65  3.1638583e-01 3.15e+00 1.30e+01  -1.7 3.25e+00  -3.2 6.32e-01 1.00e+00f  1\n",
      "  66  2.0685299e-01 2.83e+01 7.24e+01  -1.7 2.11e+01  -3.6 1.86e-01 1.00e+00h  1\n",
      "  67  2.0158411e-01 1.16e+01 3.72e+01  -1.7 9.32e+00  -3.2 8.77e-01 5.20e-01h  1\n",
      "  68  4.8282943e-01 1.92e+00 2.27e+01  -1.7 1.48e+01  -3.7 4.25e-01 1.00e+00h  1\n",
      "  69  4.4954833e-01 2.82e+00 1.18e+01  -1.7 8.24e+00  -3.3 7.14e-01 1.00e+00h  1\n",
      "iter    objective    inf_pr   inf_du lg(mu)  ||d||  lg(rg) alpha_du alpha_pr  ls\n",
      "  70  4.5142465e-01 5.53e-01 1.42e+00  -1.7 7.31e+00  -3.7 1.00e+00 1.00e+00h  1\n",
      "  71  4.2116313e-01 1.37e-01 1.82e-01  -1.7 2.28e+00  -3.3 1.00e+00 1.00e+00h  1\n",
      "  72  3.9639048e-01 5.55e-03 6.88e-02  -2.5 1.04e+00  -2.9 1.00e+00 1.00e+00h  1\n",
      "  73  3.5284134e-01 2.55e-02 5.59e-02  -2.5 2.85e+00  -3.4 1.00e+00 8.18e-01h  1\n",
      "  74  2.9664904e-01 9.66e-02 5.24e-02  -2.5 4.56e+00  -3.8 1.00e+00 1.00e+00h  1\n",
      "  75  2.3347609e-01 7.88e-01 3.72e-02  -2.5 3.84e+00  -4.3 1.00e+00 1.00e+00h  1\n",
      "  76  1.9509726e-01 2.47e-01 7.70e-03  -2.5 5.45e+00  -4.8 1.00e+00 1.00e+00h  1\n",
      "  77  1.8674174e-01 2.76e-01 2.42e-03  -2.5 1.21e+01  -5.3 1.00e+00 1.00e+00h  1\n",
      "  78  1.9011381e-01 3.36e-01 1.65e-03  -2.5 2.50e+01  -5.7 1.00e+00 1.00e+00h  1\n",
      "  79  1.9392597e-01 3.97e-01 8.32e-04  -2.5 5.23e+01  -6.2 1.00e+00 1.00e+00h  1\n",
      "iter    objective    inf_pr   inf_du lg(mu)  ||d||  lg(rg) alpha_du alpha_pr  ls\n",
      "  80  1.9457283e-01 5.46e-02 1.12e-03  -2.5 2.22e+01  -5.8 1.00e+00 1.00e+00h  1\n",
      "  81  1.9448153e-01 1.52e-02 5.36e-04  -2.5 8.34e+00  -5.4 1.00e+00 1.00e+00h  1\n",
      "  82  1.1030786e-01 1.77e+00 2.21e-01  -3.8 1.01e+02  -5.9 6.96e-01 1.00e+00h  1\n",
      "  83  1.0602938e-01 2.73e+00 1.10e-01  -3.8 3.09e+01  -4.5 9.60e-01 5.00e-01h  2\n",
      "  84  7.8934448e-02 6.72e+00 3.02e-01  -3.8 2.77e+01  -5.0 1.00e+00 1.00e+00h  1\n",
      "  85  7.6169372e-02 9.02e+00 2.60e-01  -3.8 8.62e+01  -5.5 1.00e+00 3.14e-01h  2\n",
      "  86  7.0325166e-02 9.29e-01 1.64e-01  -3.8 2.32e+01  -4.1 9.01e-01 1.00e+00h  1\n",
      "  87  6.4174399e-02 3.48e+00 8.64e-02  -3.8 2.47e+00  -3.7 1.00e+00 1.00e+00h  1\n",
      "  88  6.0408945e-02 8.99e-02 4.60e-02  -3.8 2.32e+00  -4.2 1.00e+00 1.00e+00h  1\n",
      "  89  5.6284367e-02 4.15e-01 4.58e-03  -3.8 2.46e+00  -4.7 1.00e+00 1.00e+00h  1\n",
      "iter    objective    inf_pr   inf_du lg(mu)  ||d||  lg(rg) alpha_du alpha_pr  ls\n",
      "  90  5.2084619e-02 3.85e-01 4.04e-03  -3.8 4.01e+00  -5.2 1.00e+00 1.00e+00h  1\n",
      "  91  4.5298949e-02 7.67e-01 1.94e-02  -3.8 1.33e+01  -5.6 1.00e+00 1.00e+00h  1\n",
      "  92  4.2018428e-02 4.38e-02 8.62e-03  -3.8 3.91e+00  -5.2 1.00e+00 1.00e+00h  1\n",
      "  93  4.1372818e-02 9.87e-03 1.86e-04  -3.8 1.59e+00  -4.8 1.00e+00 1.00e+00h  1\n",
      "  94  3.9058645e-02 1.57e-01 1.99e-03  -3.8 1.00e+01  -5.3 1.00e+00 1.00e+00h  1\n",
      "  95  3.6987827e-02 1.20e-01 9.71e-03  -3.8 6.42e+00  -4.8 1.00e+00 1.00e+00h  1\n",
      "  96  3.5133067e-02 1.94e-01 1.94e-02  -3.8 1.66e+00  -4.4 1.00e+00 1.00e+00h  1\n",
      "  97  3.3235880e-02 7.34e-01 5.53e-02  -3.8 1.09e+02  -4.9 9.18e-02 5.22e-02h  3\n",
      "  98  3.0457376e-02 1.37e+01 6.62e-01  -3.8 2.08e+01  -4.5 1.47e-01 2.17e-01h  2\n",
      "  99  3.1320168e-02 1.03e+01 4.93e-01  -3.8 8.20e+00  -4.9 1.00e+00 2.50e-01h  3\n",
      "iter    objective    inf_pr   inf_du lg(mu)  ||d||  lg(rg) alpha_du alpha_pr  ls\n",
      " 100  3.0333375e-02 1.92e+00 2.99e-01  -3.8 9.24e+00  -5.4 1.00e+00 1.00e+00h  1\n",
      " 101  2.7058360e-02 3.38e+01 3.79e-01  -3.8 2.70e+02    -  3.47e-01 1.00e+00h  1\n",
      " 102  3.0979314e-02 2.85e+00 1.28e-01  -3.8 4.53e+00  -4.1 1.00e+00 9.29e-01h  1\n",
      " 103  2.6413267e-02 4.05e-01 1.71e-01  -3.8 3.07e+00  -4.6 1.00e+00 1.00e+00h  1\n",
      " 104  2.5350623e-02 1.62e+01 1.46e-01  -3.8 1.01e+03    -  9.90e-01 2.83e-01h  2\n",
      " 105  2.4515091e-02 5.30e+01 1.22e-01  -3.8 1.03e+03    -  5.81e-01 5.00e-01h  2\n",
      " 106  2.3764913e-02 4.64e+01 1.12e-01  -3.8 3.13e+02    -  1.00e+00 2.40e-01h  2\n",
      " 107  2.2390845e-02 2.31e+01 3.58e-02  -3.8 2.14e+02    -  1.00e+00 1.00e+00h  1\n",
      " 108  2.2099456e-02 7.00e+00 1.09e-02  -3.8 5.60e+01    -  1.00e+00 1.00e+00h  1\n",
      " 109  2.1662879e-02 2.87e-01 1.81e-03  -3.8 2.19e+01    -  1.00e+00 1.00e+00h  1\n",
      "iter    objective    inf_pr   inf_du lg(mu)  ||d||  lg(rg) alpha_du alpha_pr  ls\n",
      " 110  2.1664394e-02 1.55e-02 1.60e-04  -3.8 6.94e+00    -  1.00e+00 1.00e+00h  1\n",
      " 111  2.1664382e-02 1.16e-05 1.56e-08  -3.8 7.91e-02    -  1.00e+00 1.00e+00h  1\n",
      " 112  1.8891460e-02 1.61e+00 2.92e-02  -5.7 4.30e+01    -  8.90e-01 1.00e+00h  1\n",
      " 113  1.8332372e-02 1.21e+00 7.76e-03  -5.7 2.00e+01    -  1.00e+00 1.00e+00h  1\n",
      " 114  1.8269871e-02 2.83e-01 2.63e-04  -5.7 1.10e+01    -  1.00e+00 1.00e+00h  1\n",
      " 115  1.8262408e-02 8.05e-03 1.16e-05  -5.7 3.59e+00    -  1.00e+00 1.00e+00h  1\n",
      " 116  1.8261420e-02 1.83e-05 2.80e-08  -5.7 5.68e-01    -  1.00e+00 1.00e+00h  1\n",
      " 117  1.8249218e-02 2.72e-02 6.45e-05  -8.6 4.65e+00    -  9.51e-01 1.00e+00h  1\n",
      " 118  1.8247841e-02 9.76e-04 3.13e-06  -8.6 1.90e+00    -  9.93e-01 9.59e-01h  1\n",
      " 119  1.8247772e-02 1.89e-05 1.61e-07  -8.6 6.59e-01    -  1.00e+00 9.91e-01h  1\n",
      "iter    objective    inf_pr   inf_du lg(mu)  ||d||  lg(rg) alpha_du alpha_pr  ls\n",
      " 120  1.8247764e-02 1.59e-06 4.37e-09  -8.6 8.61e-02    -  1.00e+00 1.00e+00f  1\n",
      " 121  1.8247760e-02 1.95e-07 6.93e-10  -8.6 3.08e-02    -  1.00e+00 1.00e+00h  1\n",
      " 122  1.8247760e-02 9.06e-09 3.19e-11  -8.6 6.60e-03    -  1.00e+00 1.00e+00h  1\n",
      "\n",
      "Number of Iterations....: 122\n",
      "\n",
      "                                   (scaled)                 (unscaled)\n",
      "Objective...............:   1.8247759876448649e-02    1.8247759876448649e-02\n",
      "Dual infeasibility......:   3.1891250610922743e-11    3.1891250610922743e-11\n",
      "Constraint violation....:   9.0612106706799977e-09    9.0612106706799977e-09\n",
      "Variable bound violation:   0.0000000000000000e+00    0.0000000000000000e+00\n",
      "Complementarity.........:   2.5408911839825436e-09    2.5408911839825436e-09\n",
      "Overall NLP error.......:   9.0612106706799977e-09    9.0612106706799977e-09\n",
      "\n",
      "\n",
      "Number of objective function evaluations             = 150\n",
      "Number of objective gradient evaluations             = 123\n",
      "Number of equality constraint evaluations            = 150\n",
      "Number of inequality constraint evaluations          = 150\n",
      "Number of equality constraint Jacobian evaluations   = 123\n",
      "Number of inequality constraint Jacobian evaluations = 123\n",
      "Number of Lagrangian Hessian evaluations             = 122\n",
      "Total seconds in IPOPT                               = 13.395\n",
      "\n",
      "EXIT: Optimal Solution Found.\n",
      "      solver  :   t_proc      (avg)   t_wall      (avg)    n_eval\n",
      "       nlp_f  |   3.36ms ( 22.40us)   3.36ms ( 22.40us)       150\n",
      "       nlp_g  | 178.29ms (  1.19ms) 117.89ms (785.90us)       150\n",
      "  nlp_grad_f  |   4.21ms ( 33.97us)   4.21ms ( 33.99us)       124\n",
      "  nlp_hess_l  |   7.19 s ( 58.95ms)   6.78 s ( 55.59ms)       122\n",
      "   nlp_jac_g  |   5.75 s ( 46.37ms)   4.93 s ( 39.78ms)       124\n",
      "       total  |  14.80 s ( 14.80 s)  13.40 s ( 13.40 s)         1\n"
     ]
    },
    {
     "data": {
      "text/plain": [
       "OptiSol(Opti {\n",
       "  instance #0\n",
       "  #variables: 3 (nx = 2065)\n",
       "  #parameters: 0 (np = 0)\n",
       "  #constraints: 430 (ng = 2358)\n",
       "  CasADi solver allocated.\n",
       "  CasADi solver was called: Solve_Succeeded\n",
       "})"
      ]
     },
     "execution_count": 21,
     "metadata": {},
     "output_type": "execute_result"
    }
   ],
   "source": [
    "opti_problem.solve()"
   ]
  },
  {
   "cell_type": "code",
   "execution_count": 22,
   "metadata": {},
   "outputs": [],
   "source": [
    "q_solution = opti_problem.value(q)\n",
    "v_solution = opti_problem.value(v)\n",
    "u_solution = opti_problem.value(u)\n",
    "grw_solution = opti_problem.value(stance_grw)"
   ]
  },
  {
   "cell_type": "code",
   "execution_count": 23,
   "metadata": {},
   "outputs": [],
   "source": [
    "from time import sleep\n",
    "for i in range(ns+1):\n",
    "    vis.display(q_solution[:,i])\n",
    "    sleep(0.01)"
   ]
  },
  {
   "cell_type": "code",
   "execution_count": 24,
   "metadata": {},
   "outputs": [
    {
     "data": {
      "text/plain": [
       "array([-1.1111664 , -1.1117764 , -1.10618494, -1.09899475, -1.09140742,\n",
       "       -1.08376396, -1.07616062, -1.06862221, -1.06115285, -1.05375075,\n",
       "       -1.04641257, -1.0391346 , -1.03191314, -1.02474457, -1.01762535,\n",
       "       -1.01055208, -1.00352143, -0.99653018, -0.98957518, -0.98265338,\n",
       "       -0.97576179, -0.96889749, -0.96205764, -0.9552395 , -0.94844059,\n",
       "       -0.9416592 , -0.93489671, -0.92816726, -0.92153802, -0.91529877,\n",
       "       -0.91064069, -0.90680219, -0.90453548, -0.9026395 , -0.90081815,\n",
       "       -0.89899978, -0.89716582, -0.89531018, -0.89342966, -0.89152181,\n",
       "       -0.88958431, -0.88761494, -0.88561152, -0.88357188, -0.88149391,\n",
       "       -0.8793755 , -0.87721462, -0.87500926, -0.87275744, -0.87045725,\n",
       "       -0.86810683, -0.86570436, -0.86324813, -0.86073653, -0.85816832,\n",
       "       -0.8555437 , -0.85286925, -0.85018103, -0.84765238, -0.84608508,\n",
       "       -0.84285858])"
      ]
     },
     "execution_count": 24,
     "metadata": {},
     "output_type": "execute_result"
    }
   ],
   "source": [
    "q_solution[9]"
   ]
  },
  {
   "cell_type": "code",
   "execution_count": 25,
   "metadata": {},
   "outputs": [
    {
     "data": {
      "image/png": "[encoded data removed]",
      "text/plain": [
       "<Figure size 640x480 with 1 Axes>"
      ]
     },
     "metadata": {},
     "output_type": "display_data"
    }
   ],
   "source": [
    "\n",
    "import matplotlib.pyplot as plt\n",
    "\n",
    "plt.plot(grw_solution.T)\n",
    "plt.show()"
   ]
  },
  {
   "cell_type": "code",
   "execution_count": 26,
   "metadata": {},
   "outputs": [
    {
     "data": {
      "image/png": "[encoded data removed]",
      "text/plain": [
       "<Figure size 640x480 with 1 Axes>"
      ]
     },
     "metadata": {},
     "output_type": "display_data"
    }
   ],
   "source": [
    "plt.plot(u_solution.T)\n",
    "plt.show()"
   ]
  }
 ],
 "metadata": {
  "kernelspec": {
   "display_name": "Python 3 (ipykernel)",
   "language": "python",
   "name": "python3"
  },
  "language_info": {
   "codemirror_mode": {
    "name": "ipython",
    "version": 3
   },
   "file_extension": ".py",
   "mimetype": "text/x-python",
   "name": "python",
   "nbconvert_exporter": "python",
   "pygments_lexer": "ipython3",
   "version": "3.11.9"
  }
 },
 "nbformat": 4,
 "nbformat_minor": 4
}
