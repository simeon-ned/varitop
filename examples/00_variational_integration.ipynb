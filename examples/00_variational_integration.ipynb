{
 "cells": [
  {
   "cell_type": "code",
   "execution_count": 1,
   "metadata": {},
   "outputs": [],
   "source": [
    "\"\"\"Temporary fix for importing modules from parent directory\"\"\"\n",
    "import os\n",
    "import sys\n",
    "\n",
    "module_path = os.path.abspath(os.path.join(\"..\"))\n",
    "if module_path not in sys.path:\n",
    "    sys.path.append(module_path)"
   ]
  },
  {
   "cell_type": "markdown",
   "metadata": {},
   "source": [
    "# Example 00: Two-link\n",
    "\n",
    "Integrating two-link, using variational integrator based on Discrete Euler-Lagrange\n"
   ]
  },
  {
   "cell_type": "code",
   "execution_count": 2,
   "metadata": {},
   "outputs": [],
   "source": [
    "from varitop.problem import VaritopProblem\n",
    "from varitop.misc import euler_quadrature\n",
    "import casadi as cs\n",
    "import numpy as np"
   ]
  },
  {
   "cell_type": "code",
   "execution_count": 3,
   "metadata": {},
   "outputs": [],
   "source": [
    "nodes = 50\n",
    "problem = VaritopProblem()\n",
    "problem.set_nodes(nodes)\n",
    "problem.set_quadrature(euler_quadrature)"
   ]
  },
  {
   "cell_type": "code",
   "execution_count": 4,
   "metadata": {},
   "outputs": [],
   "source": [
    "qs = problem.create_state(\"q\", 6)\n",
    "vs = problem.create_velocity(\"v\", 6)"
   ]
  },
  {
   "cell_type": "code",
   "execution_count": 5,
   "metadata": {},
   "outputs": [
    {
     "data": {
      "text/plain": [
       "(SX([q_0, q_1, q_2, q_3, q_4, q_5]), SX([v_0, v_1, v_2, v_3, v_4, v_5]))"
      ]
     },
     "execution_count": 5,
     "metadata": {},
     "output_type": "execute_result"
    }
   ],
   "source": [
    "q, v = qs[0], vs[0]\n",
    "q, v"
   ]
  },
  {
   "cell_type": "markdown",
   "metadata": {},
   "source": [
    "Here we are assuming all masses and lengths are equal to 1 for simplicity\n"
   ]
  },
  {
   "cell_type": "code",
   "execution_count": 6,
   "metadata": {},
   "outputs": [],
   "source": [
    "kinetic_energy = cs.Function(\"E\", [v], [0.5 * v.T @ v])\n",
    "potential_energy = cs.Function(\"U\", [q], [9.81 * (q[1] + q[3] + q[5])])\n",
    "total_energy = cs.Function(\"H\", [q, v], [kinetic_energy(v) + potential_energy(q)])\n",
    "lagrangian = cs.Function(\"L\", [q, v], [kinetic_energy(v) - potential_energy(q)])"
   ]
  },
  {
   "cell_type": "code",
   "execution_count": 7,
   "metadata": {},
   "outputs": [],
   "source": [
    "phi0 = cs.Function(\"phi0\", [q], [q[0]])\n",
    "phi1 = cs.Function(\"phi1\", [q], [(q[0] - q[2]) ** 2 + (q[1] - q[3]) ** 2 - 1])\n",
    "phi2 = cs.Function(\"phi2\", [q], [(q[2] - q[4]) ** 2 + (q[3] - q[5]) ** 2 - 1])"
   ]
  },
  {
   "cell_type": "code",
   "execution_count": 8,
   "metadata": {},
   "outputs": [],
   "source": [
    "problem.add_constraint(\"=\", phi0)\n",
    "problem.add_constraint(\"=\", phi1)\n",
    "problem.add_constraint(\"=\", phi2)"
   ]
  },
  {
   "cell_type": "code",
   "execution_count": 9,
   "metadata": {},
   "outputs": [
    {
     "data": {
      "text/plain": [
       "Function(DEL:(q-1[6],q[6],q+1[6],dt)->(DEL_residual[6]) SXFunction)"
      ]
     },
     "execution_count": 9,
     "metadata": {},
     "output_type": "execute_result"
    }
   ],
   "source": [
    "problem.set_continuous_lagrangian(lagrangian)\n",
    "discrete_lagrangian = problem.get_discrete_lagrangian()\n",
    "del_constraint = problem.get_del_residual()\n",
    "del_constraint"
   ]
  },
  {
   "cell_type": "code",
   "execution_count": null,
   "metadata": {},
   "outputs": [],
   "source": []
  }
 ],
 "metadata": {
  "kernelspec": {
   "display_name": "base",
   "language": "python",
   "name": "python3"
  },
  "language_info": {
   "codemirror_mode": {
    "name": "ipython",
    "version": 3
   },
   "file_extension": ".py",
   "mimetype": "text/x-python",
   "name": "python",
   "nbconvert_exporter": "python",
   "pygments_lexer": "ipython3",
   "version": "3.10.13"
  },
  "orig_nbformat": 4
 },
 "nbformat": 4,
 "nbformat_minor": 2
}
