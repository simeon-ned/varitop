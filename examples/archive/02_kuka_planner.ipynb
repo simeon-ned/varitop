{
 "cells": [
  {
   "cell_type": "code",
   "execution_count": 1,
   "metadata": {},
   "outputs": [
    {
     "name": "stderr",
     "output_type": "stream",
     "text": [
      "Matplotlib created a temporary cache directory at /tmp/matplotlib-dcq6w1t_ because the default path (/home/mambauser/.config/matplotlib) is not a writable directory; it is highly recommended to set the MPLCONFIGDIR environment variable to a writable directory, in particular to speed up the import of Matplotlib and to better support multiprocessing.\n"
     ]
    }
   ],
   "source": [
    "from darli.modeling.robot import Robot as RobotModel\n",
    "from darli.backend import CasadiBackend\n",
    "import matplotlib.pyplot as plt\n",
    "import casadi as cs\n",
    "import numpy as np"
   ]
  },
  {
   "cell_type": "code",
   "execution_count": 2,
   "metadata": {},
   "outputs": [],
   "source": [
    "# from robot_descriptions.loaders.yourdfpy import load_robot_description\n"
   ]
  },
  {
   "cell_type": "code",
   "execution_count": 3,
   "metadata": {},
   "outputs": [],
   "source": [
    "from robot_descriptions import z1_description\n",
    "darli_model = RobotModel(CasadiBackend(z1_description.URDF_PATH))\n",
    "darli_model.add_body(bodies_names={'ee': 'link06'})"
   ]
  },
  {
   "cell_type": "code",
   "execution_count": 4,
   "metadata": {},
   "outputs": [],
   "source": [
    "nq = darli_model.nq\n",
    "nv = darli_model.nv\n",
    "nu = darli_model.nu"
   ]
  },
  {
   "cell_type": "markdown",
   "metadata": {},
   "source": [
    "### Variational Integrator"
   ]
  },
  {
   "cell_type": "code",
   "execution_count": 5,
   "metadata": {},
   "outputs": [],
   "source": [
    "# Variables used in variational integrator \n",
    "q1 = cs.SX.sym('q1', darli_model.nq) # q_k-1\n",
    "q2 = cs.SX.sym('q2', darli_model.nq) # q_k\n",
    "q3 = cs.SX.sym('q3', darli_model.nq) # q_k+1\n",
    "dT = cs.SX.sym('dt') # sampling time\n",
    "\n",
    "# approximation of discrete Lagrangian\n",
    "discrete_lagrangian =  cs.Function(f'discrete_lagrangian', [q1, q2, dT], \n",
    "                                   [darli_model.lagrangian((q1+q2)/2, (q2-q1)/dT)*dT], ['q1', 'q2', 'dt'], ['dL'])\n",
    "# Slot derivatives wrt q1, q2\n",
    "D1L = cs.Function(f'D1L', [q1, q2, dT], \n",
    "                  [cs.jacobian(discrete_lagrangian(q1, q2, dT), q1)], ['q1', 'q2', 'dt'], ['D1L']) \n",
    "D2L = cs.Function(f'D2L', [q1, q2, dT], \n",
    "                  [cs.jacobian(discrete_lagrangian(q1, q2, dT), q2)], ['q1', 'q2', 'dt'], ['D2L']) \n",
    "\n",
    "# Discrete Euler Lagrange residual (should be zero without inputs and auxiliary forces)\n",
    "DEL_constraint = cs.Function(f'DEL',  [q1, q2, q3, dT],\n",
    "                             [ D2L(q1, q2, dT).T + D1L(q2, q3, dT).T], \n",
    "                             ['q-1', 'q', 'q+1', 'dt'], ['DEL_residual']) "
   ]
  },
  {
   "cell_type": "code",
   "execution_count": 31,
   "metadata": {},
   "outputs": [],
   "source": [
    "np.random.seed(42)\n",
    "q1 = np.random.random(nq)\n",
    "q2 = np.random.random(nq)\n",
    "q3 = np.random.random(nq)\n",
    "dT = 0.01"
   ]
  },
  {
   "cell_type": "code",
   "execution_count": 32,
   "metadata": {},
   "outputs": [
    {
     "data": {
      "text/plain": [
       "DM([-9.67201, 4.42627, 7.62977, 2.34026, 0.0210064, 0.0379645])"
      ]
     },
     "execution_count": 32,
     "metadata": {},
     "output_type": "execute_result"
    }
   ],
   "source": [
    "DEL_constraint(q1, q2, q3, dT)"
   ]
  },
  {
   "cell_type": "markdown",
   "metadata": {},
   "source": [
    "Checkout the function:"
   ]
  },
  {
   "cell_type": "code",
   "execution_count": 6,
   "metadata": {},
   "outputs": [
    {
     "data": {
      "text/plain": [
       "Function(DEL:(q-1[6],q[6],q+1[6],dt)->(DEL_residual[6]) SXFunction)"
      ]
     },
     "execution_count": 6,
     "metadata": {},
     "output_type": "execute_result"
    }
   ],
   "source": [
    "DEL_constraint"
   ]
  },
  {
   "cell_type": "markdown",
   "metadata": {},
   "source": [
    "### Optimal Control Problem  "
   ]
  },
  {
   "cell_type": "markdown",
   "metadata": {},
   "source": [
    "Time intervals (nodes):"
   ]
  },
  {
   "cell_type": "code",
   "execution_count": 7,
   "metadata": {},
   "outputs": [],
   "source": [
    "ns = 150  # number of shooting nodes\n",
    "tf = 1.5  # [s]\n",
    "dt = tf/ns"
   ]
  },
  {
   "cell_type": "markdown",
   "metadata": {},
   "source": [
    "Create problem instance, configuration and control variables:"
   ]
  },
  {
   "cell_type": "code",
   "execution_count": 8,
   "metadata": {},
   "outputs": [],
   "source": [
    "opti_problem = cs.Opti()\n",
    "q = opti_problem.variable(ns, nq)\n",
    "u = opti_problem.variable(ns-1, nv)"
   ]
  },
  {
   "cell_type": "code",
   "execution_count": 9,
   "metadata": {},
   "outputs": [
    {
     "data": {
      "text/plain": [
       "MX(opti0_x_1)"
      ]
     },
     "execution_count": 9,
     "metadata": {},
     "output_type": "execute_result"
    }
   ],
   "source": [
    "q"
   ]
  },
  {
   "cell_type": "markdown",
   "metadata": {},
   "source": [
    "Introduce integrator constraints (Discrete EL and trapezoidal approximation for the control):"
   ]
  },
  {
   "cell_type": "code",
   "execution_count": 10,
   "metadata": {},
   "outputs": [],
   "source": [
    "# Integrator constraints \n",
    "for i in range(1, ns-1):\n",
    "    del_residual = DEL_constraint(q[i-1,:].T, q[i,:].T, q[i+1,:].T, dt)  \n",
    "    del_control = (u[i-1,:].T + u[i,:].T)*dt/2\n",
    "    opti_problem.subject_to(del_residual + del_control == 0)\n"
   ]
  },
  {
   "cell_type": "markdown",
   "metadata": {},
   "source": [
    "Create parametric initial and final points (joint and cartesian spaces):"
   ]
  },
  {
   "cell_type": "code",
   "execution_count": 11,
   "metadata": {},
   "outputs": [],
   "source": [
    "initial_configuration = opti_problem.parameter(6)\n",
    "desired_pos = opti_problem.parameter(3)"
   ]
  },
  {
   "cell_type": "markdown",
   "metadata": {},
   "source": [
    "Setup the boundary conditions:"
   ]
  },
  {
   "cell_type": "code",
   "execution_count": 12,
   "metadata": {},
   "outputs": [],
   "source": [
    "darli_model.body('ee').position\n",
    "pos = cs.Function('pos', [darli_model.q], [darli_model.body('ee').position], ['q'], ['pos'])"
   ]
  },
  {
   "cell_type": "code",
   "execution_count": 13,
   "metadata": {},
   "outputs": [],
   "source": [
    "# initial point (joint space)\n",
    "opti_problem.subject_to(q[0,:].T == initial_configuration)\n",
    "opti_problem.subject_to(q[0,:].T == q[1,:].T)\n",
    "# Terminal point (cartesian space)\n",
    "opti_problem.subject_to(pos(q[-1,:]) == desired_pos)\n",
    "opti_problem.subject_to(q[-1,:].T == q[-2,:].T)"
   ]
  },
  {
   "cell_type": "markdown",
   "metadata": {},
   "source": [
    "Cost quadrature approximation:"
   ]
  },
  {
   "cell_type": "code",
   "execution_count": 14,
   "metadata": {},
   "outputs": [],
   "source": [
    "# cost\n",
    "cost = 0 \n",
    "\n",
    "# stage cost \n",
    "for i in range(ns-1):\n",
    "    cost += 1e-2*cs.sumsqr(q[i,:])*dt\n",
    "    cost += 5e-2*cs.sumsqr((q[i+1,:] - q[i,:])/dt)*dt\n",
    "    cost += 0.005*cs.sumsqr(u[i,:])*dt\n",
    "    \n",
    "# Terminal cost \n",
    "cost += 5e-2*cs.sumsqr(q[-1,:])\n",
    "cost += 10e-2*cs.sumsqr((q[-1,:] - q[-2,:])/dt)\n"
   ]
  },
  {
   "cell_type": "markdown",
   "metadata": {},
   "source": [
    "Setup the limits:"
   ]
  },
  {
   "cell_type": "code",
   "execution_count": 15,
   "metadata": {},
   "outputs": [],
   "source": [
    "# Limits \n",
    "# joint limits \n",
    "opti_problem.subject_to(opti_problem.bounded(darli_model.q_min, q.T, darli_model.q_max))\n",
    "# velocity limits\n",
    "v_max = 1.5\n",
    "qdot_lims = np.full((nv), v_max)\n",
    "opti_problem.subject_to(opti_problem.bounded(-qdot_lims,(q[1:,:] - q[:-1,:]).T/dt,  qdot_lims))\n",
    "# torque limits\n",
    "u_max = 5\n",
    "u_lims = np.full((nu), u_max) \n",
    "opti_problem.subject_to(opti_problem.bounded(-u_max, u.T,  u_max))"
   ]
  },
  {
   "cell_type": "code",
   "execution_count": 16,
   "metadata": {},
   "outputs": [
    {
     "name": "stdout",
     "output_type": "stream",
     "text": [
      "(149, 6)\n"
     ]
    }
   ],
   "source": [
    "print(u.shape)"
   ]
  },
  {
   "cell_type": "markdown",
   "metadata": {},
   "source": [
    "Define numerical values for the parameters and solve:"
   ]
  },
  {
   "cell_type": "code",
   "execution_count": 17,
   "metadata": {},
   "outputs": [],
   "source": [
    "opti_problem.set_value(initial_configuration,np.zeros(6))\n",
    "opti_problem.set_value(desired_pos,[0.2, 0.2, 0.36])"
   ]
  },
  {
   "cell_type": "code",
   "execution_count": 18,
   "metadata": {},
   "outputs": [],
   "source": [
    "opti_problem.minimize(cost)\n",
    "# opti_problem.solver('sqpmethod')\n",
    "opti_problem.solver('ipopt')"
   ]
  },
  {
   "cell_type": "code",
   "execution_count": 19,
   "metadata": {},
   "outputs": [
    {
     "name": "stdout",
     "output_type": "stream",
     "text": [
      "\n",
      "******************************************************************************\n",
      "This program contains Ipopt, a library for large-scale nonlinear optimization.\n",
      " Ipopt is released as open source code under the Eclipse Public License (EPL).\n",
      "         For more information visit https://github.com/coin-or/Ipopt\n",
      "******************************************************************************\n",
      "\n",
      "This is Ipopt version 3.14.11, running with linear solver MUMPS 5.4.1.\n",
      "\n",
      "Number of nonzeros in equality constraint Jacobian...:    17804\n",
      "Number of nonzeros in inequality constraint Jacobian.:     3582\n",
      "Number of nonzeros in Lagrangian Hessian.............:     9408\n",
      "\n",
      "Total number of variables............................:     1794\n",
      "                     variables with only lower bounds:        0\n",
      "                variables with lower and upper bounds:        0\n",
      "                     variables with only upper bounds:        0\n",
      "Total number of equality constraints.................:      909\n",
      "Total number of inequality constraints...............:     2688\n",
      "        inequality constraints with only lower bounds:        0\n",
      "   inequality constraints with lower and upper bounds:     2688\n",
      "        inequality constraints with only upper bounds:        0\n",
      "\n",
      "iter    objective    inf_pr   inf_du lg(mu)  ||d||  lg(rg) alpha_du alpha_pr  ls\n",
      "   0  0.0000000e+00 2.13e-01 0.00e+00  -1.0 0.00e+00    -  0.00e+00 0.00e+00   0\n",
      "   1  3.7310506e-04 2.11e-01 3.12e+00  -1.0 3.12e+01    -  4.07e-03 8.17e-03f  1\n",
      "   2  7.2656426e-02 1.84e-01 5.49e+02  -1.0 2.53e+01    -  8.81e-03 1.22e-01f  1\n",
      "   3  1.9302077e-01 1.61e-01 7.15e+02  -1.0 7.52e+00    -  1.41e-02 1.25e-01f  1\n",
      "   4  3.2495560e-01 1.68e-01 1.11e+03  -1.0 9.59e+00    -  6.35e-02 1.94e-01f  1\n",
      "   5  4.8123641e-01 1.01e-01 1.60e+03  -1.0 3.49e+00   0.0 7.17e-02 7.13e-01h  1\n",
      "   6  4.9463605e-01 8.92e-02 1.30e+03  -1.0 1.67e+00   0.4 4.66e-01 1.15e-01h  1\n",
      "   7  5.0997469e-01 7.50e-02 6.32e+02  -1.0 1.70e+00   0.9 7.00e-01 1.55e-01h  1\n",
      "   8  5.2621109e-01 6.21e-02 6.42e+02  -1.0 2.22e+00   0.4 2.78e-01 1.69e-01h  1\n",
      "   9  5.5340961e-01 3.96e-02 1.23e+03  -1.0 1.32e+00   0.8 1.00e+00 3.52e-01h  1\n",
      "iter    objective    inf_pr   inf_du lg(mu)  ||d||  lg(rg) alpha_du alpha_pr  ls\n",
      "  10  5.9047351e-01 1.28e-02 3.23e+02  -1.0 1.00e+00   0.3 5.51e-01 6.61e-01h  1\n",
      "  11  6.0810400e-01 4.22e-04 1.21e+03  -1.0 5.78e-01  -0.2 5.52e-01 9.90e-01f  1\n",
      "  12  5.9736358e-01 3.47e-04 1.83e+03  -1.0 3.19e+00    -  4.29e-01 3.82e-01f  1\n",
      "  13  5.7816298e-01 1.20e-03 3.00e+04  -1.0 8.23e-01    -  5.49e-01 9.97e-01f  1\n",
      "  14  5.6183500e-01 2.96e-03 3.50e+06  -1.0 5.67e-01    -  4.75e-01 1.00e+00f  1\n",
      "  15  5.7110658e-01 8.67e-04 5.66e+05  -1.0 8.13e-01    -  9.17e-01 1.00e+00f  1\n",
      "  16  5.7632975e-01 4.14e-04 4.41e-01  -1.0 8.96e-01    -  1.00e+00 1.00e+00f  1\n",
      "  17  5.7525854e-01 1.21e-06 2.71e+05  -3.8 3.95e-02    -  9.73e-01 1.00e+00h  1\n",
      "  18  5.6695462e-01 1.48e-04 2.59e+04  -3.8 1.50e-01    -  9.05e-01 1.00e+00f  1\n",
      "  19  5.4966799e-01 6.13e-04 4.44e-03  -3.8 5.96e-01    -  1.00e+00 1.00e+00h  1\n",
      "iter    objective    inf_pr   inf_du lg(mu)  ||d||  lg(rg) alpha_du alpha_pr  ls\n",
      "  20  5.4717658e-01 4.41e-05 2.44e-04  -3.8 2.77e-01    -  1.00e+00 1.00e+00h  1\n",
      "  21  5.4474640e-01 3.97e-05 3.35e+03  -5.7 2.88e-01    -  7.74e-01 1.00e+00h  1\n",
      "  22  5.4375083e-01 3.10e-05 4.42e+02  -5.7 2.04e-01    -  8.68e-01 1.00e+00h  1\n",
      "  23  5.4331499e-01 1.33e-05 2.93e+02  -5.7 2.65e-01    -  3.37e-01 1.00e+00h  1\n",
      "  24  5.4316739e-01 1.58e-06 1.45e-06  -5.7 5.34e-01    -  1.00e+00 1.00e+00h  1\n",
      "  25  5.4309556e-01 1.17e-06 2.13e+01  -8.6 2.58e-01    -  7.79e-01 6.63e-01h  1\n",
      "  26  5.4306094e-01 4.91e-07 1.11e+01  -8.6 1.30e-01    -  8.80e-01 7.42e-01h  1\n",
      "  27  5.4304706e-01 8.43e-08 1.27e+00  -8.6 4.86e-02    -  9.65e-01 9.10e-01h  1\n",
      "  28  5.4304509e-01 7.84e-09 6.17e-02  -8.6 1.08e-02    -  1.00e+00 9.57e-01f  1\n",
      "  29  5.4304496e-01 5.98e-10 1.85e-08  -8.6 6.37e-03    -  1.00e+00 1.00e+00f  1\n",
      "iter    objective    inf_pr   inf_du lg(mu)  ||d||  lg(rg) alpha_du alpha_pr  ls\n",
      "  30  5.4304487e-01 6.34e-11 4.16e-09  -9.0 3.57e-03    -  1.00e+00 1.00e+00h  1\n",
      "\n",
      "Number of Iterations....: 30\n",
      "\n",
      "                                   (scaled)                 (unscaled)\n",
      "Objective...............:   5.4304487285833414e-01    5.4304487285833414e-01\n",
      "Dual infeasibility......:   4.1585941851565722e-09    4.1585941851565722e-09\n",
      "Constraint violation....:   6.3428574892387957e-11    6.3428574892387957e-11\n",
      "Variable bound violation:   0.0000000000000000e+00    0.0000000000000000e+00\n",
      "Complementarity.........:   2.2397276872617012e-09    2.2397276872617012e-09\n",
      "Overall NLP error.......:   4.1585941851565722e-09    4.1585941851565722e-09\n",
      "\n",
      "\n",
      "Number of objective function evaluations             = 31\n",
      "Number of objective gradient evaluations             = 31\n",
      "Number of equality constraint evaluations            = 31\n",
      "Number of inequality constraint evaluations          = 31\n",
      "Number of equality constraint Jacobian evaluations   = 31\n",
      "Number of inequality constraint Jacobian evaluations = 31\n",
      "Number of Lagrangian Hessian evaluations             = 30\n",
      "Total seconds in IPOPT                               = 4.872\n",
      "\n",
      "EXIT: Optimal Solution Found.\n",
      "      solver  :   t_proc      (avg)   t_wall      (avg)    n_eval\n",
      "       nlp_f  |   3.62ms (116.87us)   3.62ms (116.63us)        31\n",
      "       nlp_g  |  36.46ms (  1.18ms)  39.96ms (  1.29ms)        31\n",
      "  nlp_grad_f  |   6.57ms (205.41us)   7.26ms (226.92us)        32\n",
      "  nlp_hess_l  |   2.96 s ( 98.50ms)   3.11 s (103.83ms)        30\n",
      "   nlp_jac_g  | 998.14ms ( 31.19ms)   1.03 s ( 32.29ms)        32\n",
      "       total  |   4.61 s (  4.61 s)   4.89 s (  4.89 s)         1\n"
     ]
    }
   ],
   "source": [
    "sol = opti_problem.solve()"
   ]
  },
  {
   "cell_type": "code",
   "execution_count": 20,
   "metadata": {},
   "outputs": [],
   "source": [
    "# plt.spy(sol.value(cs.jacobian(opti_problem.g,opti_problem.x)))\n",
    "# plt.show()"
   ]
  },
  {
   "cell_type": "code",
   "execution_count": 21,
   "metadata": {},
   "outputs": [],
   "source": [
    "q_opt = opti_problem.value(q)\n",
    "u_opt = opti_problem.value(u)\n",
    "# q_opt"
   ]
  },
  {
   "cell_type": "code",
   "execution_count": 22,
   "metadata": {},
   "outputs": [
    {
     "data": {
      "text/plain": [
       "(DM([0.2, 0.2, 0.36]), array([0.2 , 0.2 , 0.36]))"
      ]
     },
     "execution_count": 22,
     "metadata": {},
     "output_type": "execute_result"
    }
   ],
   "source": [
    "pos(q_opt[-1]), opti_problem.value(desired_pos)"
   ]
  },
  {
   "cell_type": "code",
   "execution_count": 23,
   "metadata": {},
   "outputs": [
    {
     "data": {
      "image/png": "[encoded data removed]",
      "text/plain": [
       "<Figure size 640x480 with 1 Axes>"
      ]
     },
     "metadata": {},
     "output_type": "display_data"
    }
   ],
   "source": [
    "t = np.linspace(0, tf, ns)\n",
    "\n",
    "plt.title(r'Angles in joints')\n",
    "plt.plot(t, q_opt)\n",
    "plt.grid(True)\n",
    "plt.ylabel(r'Angles $q(t)$ (rad)')\n",
    "plt.xlabel(r'Time $t$ (s)')\n",
    "plt.show()"
   ]
  },
  {
   "cell_type": "code",
   "execution_count": 24,
   "metadata": {},
   "outputs": [
    {
     "data": {
      "image/png": "[encoded data removed]",
      "text/plain": [
       "<Figure size 640x480 with 1 Axes>"
      ]
     },
     "metadata": {},
     "output_type": "display_data"
    }
   ],
   "source": [
    "\n",
    "plt.title(r'Torque in joints')\n",
    "plt.hlines(-u_max, 0, tf-dt, color = 'black', linestyle = '--', alpha = 0.8)\n",
    "plt.hlines(u_max, 0, tf-dt, color = 'black', linestyle = '--', alpha = 0.8)\n",
    "plt.plot(t[:-1], u_opt)\n",
    "plt.grid(True)\n",
    "plt.ylabel(r'Speed $\\dot{q}(t)$ (rad)')\n",
    "plt.xlabel(r'Time $t$ (s)')\n",
    "plt.show()"
   ]
  },
  {
   "cell_type": "code",
   "execution_count": null,
   "metadata": {},
   "outputs": [],
   "source": []
  }
 ],
 "metadata": {
  "kernelspec": {
   "display_name": "base",
   "language": "python",
   "name": "python3"
  },
  "language_info": {
   "codemirror_mode": {
    "name": "ipython",
    "version": 3
   },
   "file_extension": ".py",
   "mimetype": "text/x-python",
   "name": "python",
   "nbconvert_exporter": "python",
   "pygments_lexer": "ipython3",
   "version": "3.10.13"
  },
  "orig_nbformat": 4
 },
 "nbformat": 4,
 "nbformat_minor": 2
}
