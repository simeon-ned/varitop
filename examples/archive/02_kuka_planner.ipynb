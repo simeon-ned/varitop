{
 "cells": [
  {
   "cell_type": "code",
   "execution_count": 1,
   "metadata": {},
   "outputs": [],
   "source": [
    "\"\"\"Temporary fix for importing modules from parent directory\"\"\"\n",
    "\n",
    "import os\n",
    "import sys\n",
    "\n",
    "module_path = os.path.abspath(os.path.join(\"..\"))\n",
    "if module_path not in sys.path:\n",
    "    sys.path.append(module_path)"
   ]
  },
  {
   "cell_type": "code",
   "execution_count": 2,
   "metadata": {},
   "outputs": [],
   "source": [
    "from varitop.misc import euler_rule, qconj, q2rm, quat_prod\n",
    "from varitop.integrator import DelIntegrator as DI"
   ]
  },
  {
   "cell_type": "code",
   "execution_count": 3,
   "metadata": {},
   "outputs": [],
   "source": [
    "import matplotlib.pyplot as plt\n",
    "import casadi as cs\n",
    "import numpy as np"
   ]
  },
  {
   "cell_type": "code",
   "execution_count": 4,
   "metadata": {},
   "outputs": [],
   "source": [
    "from darli.model import Functional\n",
    "from darli.backend import CasadiBackend"
   ]
  },
  {
   "cell_type": "code",
   "execution_count": 5,
   "metadata": {},
   "outputs": [],
   "source": [
    "from robot_descriptions import z1_description\n",
    "darli_model = Functional(CasadiBackend(z1_description.URDF_PATH))\n",
    "darli_model.add_body({'ee': 'link06'})"
   ]
  },
  {
   "cell_type": "code",
   "execution_count": 6,
   "metadata": {},
   "outputs": [],
   "source": [
    "nq = darli_model.nq\n",
    "nv = darli_model.nv\n",
    "nu = darli_model.nu"
   ]
  },
  {
   "cell_type": "markdown",
   "metadata": {},
   "source": [
    "### Variational Integrator"
   ]
  },
  {
   "cell_type": "code",
   "execution_count": 7,
   "metadata": {},
   "outputs": [],
   "source": [
    "di = DI(nq=nq, nu=nu, lagrangian=darli_model.lagrangian)"
   ]
  },
  {
   "cell_type": "code",
   "execution_count": 8,
   "metadata": {},
   "outputs": [],
   "source": [
    "di.add_force(di.u)"
   ]
  },
  {
   "cell_type": "code",
   "execution_count": 9,
   "metadata": {},
   "outputs": [],
   "source": [
    "# Discrete Euler Lagrange residual (should be zero without inputs and auxiliary forces)\n",
    "DEL_constraint = di.get_residual()"
   ]
  },
  {
   "cell_type": "markdown",
   "metadata": {},
   "source": [
    "Checkout the function:"
   ]
  },
  {
   "cell_type": "code",
   "execution_count": 10,
   "metadata": {},
   "outputs": [
    {
     "data": {
      "text/plain": [
       "Function(del:(q-1[6],q[6],q+1[6],dt,u[6])->(DEL Residual[6]) SXFunction)"
      ]
     },
     "execution_count": 10,
     "metadata": {},
     "output_type": "execute_result"
    }
   ],
   "source": [
    "DEL_constraint"
   ]
  },
  {
   "cell_type": "markdown",
   "metadata": {},
   "source": [
    "### Optimal Control Problem  "
   ]
  },
  {
   "cell_type": "markdown",
   "metadata": {},
   "source": [
    "Time intervals (nodes):"
   ]
  },
  {
   "cell_type": "code",
   "execution_count": 11,
   "metadata": {},
   "outputs": [],
   "source": [
    "ns = 150  # number of shooting nodes\n",
    "tf = 1.5  # [s]\n",
    "dt = tf/ns"
   ]
  },
  {
   "cell_type": "markdown",
   "metadata": {},
   "source": [
    "Create problem instance, configuration and control variables:"
   ]
  },
  {
   "cell_type": "code",
   "execution_count": 12,
   "metadata": {},
   "outputs": [],
   "source": [
    "opti_problem = cs.Opti()\n",
    "q = opti_problem.variable(ns, nq)\n",
    "u = opti_problem.variable(ns-1, nv)"
   ]
  },
  {
   "cell_type": "markdown",
   "metadata": {},
   "source": [
    "Introduce integrator constraints (Discrete EL and trapezoidal approximation for the control):"
   ]
  },
  {
   "cell_type": "code",
   "execution_count": 13,
   "metadata": {},
   "outputs": [],
   "source": [
    "# Integrator constraints \n",
    "for i in range(1, ns-1):\n",
    "    del_residual = DEL_constraint(q[i-1,:].T, q[i,:].T, q[i+1,:].T, dt, u[i, :])\n",
    "    del_control = (u[i-1,:].T + u[i,:].T)*dt/2\n",
    "    opti_problem.subject_to(del_residual == 0)\n"
   ]
  },
  {
   "cell_type": "markdown",
   "metadata": {},
   "source": [
    "Create parametric initial and final points (joint and cartesian spaces):"
   ]
  },
  {
   "cell_type": "code",
   "execution_count": 14,
   "metadata": {},
   "outputs": [],
   "source": [
    "initial_configuration = opti_problem.parameter(6)\n",
    "desired_pos = opti_problem.parameter(3)"
   ]
  },
  {
   "cell_type": "markdown",
   "metadata": {},
   "source": [
    "Setup the boundary conditions:"
   ]
  },
  {
   "cell_type": "code",
   "execution_count": 15,
   "metadata": {},
   "outputs": [
    {
     "data": {
      "text/plain": [
       "MX(position(opti0_x_1[149:1049:150]'){0})"
      ]
     },
     "execution_count": 15,
     "metadata": {},
     "output_type": "execute_result"
    }
   ],
   "source": [
    "darli_model.body('ee').position(q[-1,:])"
   ]
  },
  {
   "cell_type": "code",
   "execution_count": 16,
   "metadata": {},
   "outputs": [
    {
     "data": {
      "text/plain": [
       "MX(opti0_x_1[149:1049:150])"
      ]
     },
     "execution_count": 16,
     "metadata": {},
     "output_type": "execute_result"
    }
   ],
   "source": [
    "q[-1, :]"
   ]
  },
  {
   "cell_type": "code",
   "execution_count": 17,
   "metadata": {},
   "outputs": [],
   "source": [
    "# initial point (joint space)\n",
    "opti_problem.subject_to(q[0,:].T == initial_configuration)\n",
    "opti_problem.subject_to(q[0,:].T == q[1,:].T)\n",
    "# Terminal point (cartesian space)\n",
    "opti_problem.subject_to(darli_model.body('ee').position(q[-1,:]) == desired_pos)\n",
    "opti_problem.subject_to(q[-1,:].T == q[-2,:].T)"
   ]
  },
  {
   "cell_type": "markdown",
   "metadata": {},
   "source": [
    "Cost quadrature approximation:"
   ]
  },
  {
   "cell_type": "code",
   "execution_count": 18,
   "metadata": {},
   "outputs": [],
   "source": [
    "# cost\n",
    "cost = 0 \n",
    "\n",
    "# stage cost \n",
    "for i in range(ns-1):\n",
    "    cost += 1e-2*cs.sumsqr(q[i,:])*dt\n",
    "    cost += 5e-2*cs.sumsqr((q[i+1,:] - q[i,:])/dt)*dt\n",
    "    cost += 0.005*cs.sumsqr(u[i,:])*dt\n",
    "    \n",
    "# Terminal cost \n",
    "cost += 5e-2*cs.sumsqr(q[-1,:])\n",
    "cost += 10e-2*cs.sumsqr((q[-1,:] - q[-2,:])/dt)\n"
   ]
  },
  {
   "cell_type": "markdown",
   "metadata": {},
   "source": [
    "Setup the limits:"
   ]
  },
  {
   "cell_type": "code",
   "execution_count": 19,
   "metadata": {},
   "outputs": [],
   "source": [
    "# Limits \n",
    "# joint limits \n",
    "opti_problem.subject_to(opti_problem.bounded(darli_model.q_min, q.T, darli_model.q_max))\n",
    "# velocity limits\n",
    "v_max = 1.5\n",
    "qdot_lims = np.full((nv), v_max)\n",
    "opti_problem.subject_to(opti_problem.bounded(-qdot_lims,(q[1:,:] - q[:-1,:]).T/dt,  qdot_lims))\n",
    "# torque limits\n",
    "u_max = 5\n",
    "u_lims = np.full((nu), u_max) \n",
    "opti_problem.subject_to(opti_problem.bounded(-u_max, u.T,  u_max))"
   ]
  },
  {
   "cell_type": "markdown",
   "metadata": {},
   "source": [
    "Define numerical values for the parameters and solve:"
   ]
  },
  {
   "cell_type": "code",
   "execution_count": 20,
   "metadata": {},
   "outputs": [],
   "source": [
    "opti_problem.set_value(initial_configuration,np.zeros(6))\n",
    "opti_problem.set_value(desired_pos,[0.2, 0.2, 0.36])"
   ]
  },
  {
   "cell_type": "code",
   "execution_count": 21,
   "metadata": {},
   "outputs": [],
   "source": [
    "opti_problem.minimize(cost)\n",
    "# opti_problem.solver('sqpmethod')\n",
    "opti_problem.solver('ipopt')"
   ]
  },
  {
   "cell_type": "code",
   "execution_count": 22,
   "metadata": {},
   "outputs": [
    {
     "name": "stdout",
     "output_type": "stream",
     "text": [
      "\n",
      "******************************************************************************\n",
      "This program contains Ipopt, a library for large-scale nonlinear optimization.\n",
      " Ipopt is released as open source code under the Eclipse Public License (EPL).\n",
      "         For more information visit https://github.com/coin-or/Ipopt\n",
      "******************************************************************************\n",
      "\n",
      "This is Ipopt version 3.14.11, running with linear solver MUMPS 5.4.1.\n",
      "\n",
      "Number of nonzeros in equality constraint Jacobian...:    16916\n",
      "Number of nonzeros in inequality constraint Jacobian.:     3582\n",
      "Number of nonzeros in Lagrangian Hessian.............:     9408\n",
      "\n",
      "Total number of variables............................:     1794\n",
      "                     variables with only lower bounds:        0\n",
      "                variables with lower and upper bounds:        0\n",
      "                     variables with only upper bounds:        0\n",
      "Total number of equality constraints.................:      909\n",
      "Total number of inequality constraints...............:     2688\n",
      "        inequality constraints with only lower bounds:        0\n",
      "   inequality constraints with lower and upper bounds:     2688\n",
      "        inequality constraints with only upper bounds:        0\n",
      "\n",
      "iter    objective    inf_pr   inf_du lg(mu)  ||d||  lg(rg) alpha_du alpha_pr  ls\n",
      "   0  0.0000000e+00 2.13e-01 0.00e+00  -1.0 0.00e+00    -  0.00e+00 0.00e+00   0\n",
      "   1  3.7536266e-04 2.11e-01 3.12e+00  -1.0 3.33e+01    -  4.06e-03 8.20e-03f  1\n",
      "   2  7.2782133e-02 1.84e-01 5.49e+02  -1.0 2.63e+01    -  8.84e-03 1.22e-01f  1\n",
      "   3  1.9177127e-01 1.61e-01 7.20e+02  -1.0 7.58e+00    -  1.37e-02 1.24e-01f  1\n",
      "   4  3.1757178e-01 1.66e-01 1.04e+03  -1.0 9.60e+00    -  6.22e-02 1.90e-01f  1\n",
      "   5  4.7082591e-01 9.90e-02 1.15e+03  -1.0 3.46e+00   0.0 7.08e-02 7.36e-01f  1\n",
      "   6  4.8589411e-01 8.63e-02 9.23e+02  -1.0 1.52e+00   0.4 6.13e-01 1.26e-01h  1\n",
      "   7  5.0529224e-01 6.97e-02 5.47e+02  -1.0 1.61e+00   0.9 8.75e-01 1.86e-01h  1\n",
      "   8  5.2014313e-01 6.00e-02 3.89e+02  -1.0 2.69e+00   0.4 2.26e-01 1.37e-01h  1\n",
      "   9  5.4742807e-01 3.84e-02 1.40e+03  -1.0 1.33e+00   0.8 1.00e+00 3.51e-01h  1\n",
      "iter    objective    inf_pr   inf_du lg(mu)  ||d||  lg(rg) alpha_du alpha_pr  ls\n",
      "  10  5.8927412e-01 9.59e-03 5.21e+02  -1.0 1.02e+00   0.3 6.07e-01 7.29e-01h  1\n",
      "  11  6.0168203e-01 2.67e-04 9.60e+02  -1.0 3.46e-01  -0.2 5.49e-01 9.90e-01f  1\n",
      "  12  5.8128276e-01 8.50e-04 2.44e+04  -1.0 7.74e-01    -  5.66e-01 9.96e-01f  1\n",
      "  13  5.6346780e-01 2.80e-03 3.24e+06  -1.0 7.55e-01    -  4.29e-01 1.00e+00f  1\n",
      "  14  5.6531796e-01 9.81e-04 2.19e+06  -1.0 9.53e-01    -  7.09e-01 1.00e+00f  1\n",
      "  15  5.7430125e-01 4.87e-04 2.02e+00  -1.0 8.43e-01    -  1.00e+00 1.00e+00f  1\n",
      "  16  5.7319343e-01 2.68e-06 3.59e+05  -3.8 4.93e-02    -  9.64e-01 1.00e+00h  1\n",
      "  17  5.6559967e-01 1.43e-04 2.69e+04  -3.8 1.19e-01    -  9.25e-01 1.00e+00h  1\n",
      "  18  5.4704929e-01 9.43e-04 8.81e-03  -3.8 5.93e-01    -  1.00e+00 1.00e+00h  1\n",
      "  19  5.4528861e-01 4.41e-05 2.66e-04  -3.8 2.85e-01    -  1.00e+00 1.00e+00h  1\n",
      "iter    objective    inf_pr   inf_du lg(mu)  ||d||  lg(rg) alpha_du alpha_pr  ls\n",
      "  20  5.4289090e-01 3.92e-05 3.40e+03  -5.7 2.79e-01    -  7.71e-01 1.00e+00h  1\n",
      "  21  5.4190934e-01 2.93e-05 4.46e+02  -5.7 2.14e-01    -  8.69e-01 1.00e+00h  1\n",
      "  22  5.4152311e-01 1.08e-05 1.88e-05  -5.7 1.11e-01    -  1.00e+00 1.00e+00h  1\n",
      "  23  5.4142381e-01 4.91e-07 1.97e-06  -5.7 5.46e-02    -  1.00e+00 1.00e+00h  1\n",
      "  24  5.4135528e-01 6.35e-07 2.55e+01  -8.6 5.35e-02    -  8.62e-01 1.00e+00h  1\n",
      "  25  5.4134144e-01 1.21e-07 3.90e+00  -8.6 3.38e-02    -  8.47e-01 9.53e-01h  1\n",
      "  26  5.4133879e-01 2.07e-08 2.73e-01  -8.6 1.73e-02    -  9.30e-01 9.83e-01f  1\n",
      "  27  5.4133848e-01 3.72e-09 3.48e-08  -8.6 8.77e-03    -  1.00e+00 1.00e+00f  1\n",
      "  28  5.4133846e-01 3.61e-10 6.18e-09  -8.6 3.48e-03    -  1.00e+00 1.00e+00h  1\n",
      "\n",
      "Number of Iterations....: 28\n",
      "\n",
      "                                   (scaled)                 (unscaled)\n",
      "Objective...............:   5.4133846101723704e-01    5.4133846101723704e-01\n",
      "Dual infeasibility......:   6.1780457217067153e-09    6.1780457217067153e-09\n",
      "Constraint violation....:   3.6111732354404680e-10    3.6111732354404680e-10\n",
      "Variable bound violation:   0.0000000000000000e+00    0.0000000000000000e+00\n",
      "Complementarity.........:   4.4683958071738135e-09    4.4683958071738135e-09\n",
      "Overall NLP error.......:   6.1780457217067153e-09    6.1780457217067153e-09\n",
      "\n",
      "\n",
      "Number of objective function evaluations             = 29\n",
      "Number of objective gradient evaluations             = 29\n",
      "Number of equality constraint evaluations            = 29\n",
      "Number of inequality constraint evaluations          = 29\n",
      "Number of equality constraint Jacobian evaluations   = 29\n",
      "Number of inequality constraint Jacobian evaluations = 29\n",
      "Number of Lagrangian Hessian evaluations             = 28\n",
      "Total seconds in IPOPT                               = 3.195\n",
      "\n",
      "EXIT: Optimal Solution Found.\n",
      "      solver  :   t_proc      (avg)   t_wall      (avg)    n_eval\n",
      "       nlp_f  |   1.47ms ( 50.69us)   1.48ms ( 51.16us)        29\n",
      "       nlp_g  |  19.18ms (661.52us)  19.13ms (659.64us)        29\n",
      "  nlp_grad_f  |   2.44ms ( 81.17us)   2.44ms ( 81.44us)        30\n",
      "  nlp_hess_l  |   2.03 s ( 72.34ms)   2.03 s ( 72.33ms)        28\n",
      "   nlp_jac_g  | 763.40ms ( 25.45ms) 763.33ms ( 25.44ms)        30\n",
      "       total  |   3.20 s (  3.20 s)   3.20 s (  3.20 s)         1\n"
     ]
    }
   ],
   "source": [
    "sol = opti_problem.solve()"
   ]
  },
  {
   "cell_type": "code",
   "execution_count": 23,
   "metadata": {},
   "outputs": [],
   "source": [
    "# plt.spy(sol.value(cs.jacobian(opti_problem.g,opti_problem.x)))\n",
    "# plt.show()"
   ]
  },
  {
   "cell_type": "code",
   "execution_count": 24,
   "metadata": {},
   "outputs": [],
   "source": [
    "q_opt = opti_problem.value(q)\n",
    "u_opt = opti_problem.value(u)\n",
    "# q_opt"
   ]
  },
  {
   "cell_type": "code",
   "execution_count": 25,
   "metadata": {},
   "outputs": [
    {
     "data": {
      "text/plain": [
       "(DM([0.2, 0.2, 0.36]), array([0.2 , 0.2 , 0.36]))"
      ]
     },
     "execution_count": 25,
     "metadata": {},
     "output_type": "execute_result"
    }
   ],
   "source": [
    "darli_model.body('ee').position(q_opt[-1]), opti_problem.value(desired_pos)"
   ]
  },
  {
   "cell_type": "code",
   "execution_count": 26,
   "metadata": {},
   "outputs": [
    {
     "data": {
      "image/png": "[encoded data removed]",
      "text/plain": [
       "<Figure size 640x480 with 1 Axes>"
      ]
     },
     "metadata": {},
     "output_type": "display_data"
    }
   ],
   "source": [
    "t = np.linspace(0, tf, ns)\n",
    "\n",
    "plt.title(r'Angles in joints')\n",
    "plt.plot(t, q_opt)\n",
    "plt.grid(True)\n",
    "plt.ylabel(r'Angles $q(t)$ (rad)')\n",
    "plt.xlabel(r'Time $t$ (s)')\n",
    "plt.show()"
   ]
  },
  {
   "cell_type": "code",
   "execution_count": 27,
   "metadata": {},
   "outputs": [
    {
     "data": {
      "image/png": "[encoded data removed]",
      "text/plain": [
       "<Figure size 640x480 with 1 Axes>"
      ]
     },
     "metadata": {},
     "output_type": "display_data"
    }
   ],
   "source": [
    "\n",
    "plt.title(r'Torque in joints')\n",
    "plt.hlines(-u_max, 0, tf-dt, color = 'black', linestyle = '--', alpha = 0.8)\n",
    "plt.hlines(u_max, 0, tf-dt, color = 'black', linestyle = '--', alpha = 0.8)\n",
    "plt.plot(t[:-1], u_opt)\n",
    "plt.grid(True)\n",
    "plt.ylabel(r'Speed $\\dot{q}(t)$ (rad)')\n",
    "plt.xlabel(r'Time $t$ (s)')\n",
    "plt.show()"
   ]
  }
 ],
 "metadata": {
  "kernelspec": {
   "display_name": "base",
   "language": "python",
   "name": "python3"
  },
  "language_info": {
   "codemirror_mode": {
    "name": "ipython",
    "version": 3
   },
   "file_extension": ".py",
   "mimetype": "text/x-python",
   "name": "python",
   "nbconvert_exporter": "python",
   "pygments_lexer": "ipython3",
   "version": "3.10.0"
  },
  "orig_nbformat": 4
 },
 "nbformat": 4,
 "nbformat_minor": 2
}
