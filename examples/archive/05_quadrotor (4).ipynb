{
 "cells": [
  {
   "cell_type": "code",
   "execution_count": 1,
   "metadata": {},
   "outputs": [],
   "source": [
    "import numpy as np\n",
    "from time import sleep"
   ]
  },
  {
   "cell_type": "code",
   "execution_count": 2,
   "metadata": {},
   "outputs": [],
   "source": [
    "%%capture\n",
    "!pip3 install robot_descriptions\n",
    "from robot_descriptions.skydio_x2_mj_description import MJCF_PATH\n",
    "from robot_descriptions.skydio_x2_description import URDF_PATH"
   ]
  },
  {
   "cell_type": "code",
   "execution_count": 3,
   "metadata": {},
   "outputs": [
    {
     "name": "stdout",
     "output_type": "stream",
     "text": [
      "Process render is starting!\n"
     ]
    }
   ],
   "source": [
    "from mujoco_simulator.model_builder import ModelBuilder\n",
    "from mujoco_simulator.simulator import MujocoRender\n",
    "model_wrapper = ModelBuilder(MJCF_PATH)\n",
    "model_wrapper.add_arena()\n",
    "model_wrapper.build()\n",
    "ren = MujocoRender(model=model_wrapper, \n",
    "                   start=True, \n",
    "                   convention='pin')\n",
    "Q_INIT = np.array([0, 0, 1.0, 0, 0, 0,1])\n",
    "ren.set_state(Q_INIT)"
   ]
  },
  {
   "cell_type": "code",
   "execution_count": 4,
   "metadata": {},
   "outputs": [],
   "source": [
    "from darli.model import Functional\n",
    "from darli.backend import CasadiBackend, JointType\n",
    "from darli.backend.liecasadi.so3 import SO3\n",
    "from darli.state_space import StateSpace\n",
    "import casadi as cs\n",
    "\n",
    "model = Functional(CasadiBackend(URDF_PATH))\n",
    "# TODO: add selector\n",
    "selector = np.array([[0.0, 0.0, 0.0, 0.0],\n",
    "                     [0.0, 0.0, 0.0, 0.0],\n",
    "                     [1.0, 1.0, 1.0, 1.0],\n",
    "                     [-0.18, 0.18, 0.18, -0.18],\n",
    "                     [0.14, 0.14, -0.14, -0.14],\n",
    "                     [-0.0201, 0.0201, 0.0201, -0.0201]])\n",
    "\n",
    "model.update_selector(selector)"
   ]
  },
  {
   "cell_type": "markdown",
   "metadata": {},
   "source": [
    "Define the variables in tangent space and get the configuration via exponential:"
   ]
  },
  {
   "cell_type": "code",
   "execution_count": 5,
   "metadata": {},
   "outputs": [],
   "source": [
    "\n",
    "ns = 40\n",
    "\n",
    "opti_problem = cs.Opti()\n",
    "tf = opti_problem.parameter(1)\n",
    "dt = tf / ns\n",
    "\n",
    "state = opti_problem.variable(model.nq + model.nv, ns+1)\n",
    "q = state[:model.nq, :]\n",
    "v = state[model.nq:, :]\n",
    "u = opti_problem.variable(model.nu, ns)\n",
    "\n",
    "q0 = opti_problem.parameter(model.nq)\n",
    "qf = opti_problem.parameter(model.nq)"
   ]
  },
  {
   "cell_type": "code",
   "execution_count": 6,
   "metadata": {},
   "outputs": [],
   "source": [
    "\n",
    "position_weight = opti_problem.parameter(1)\n",
    "# orientation_weight = opti_problem.parameter(1)\n",
    "acceleration_weight = opti_problem.parameter(1)\n",
    "velocity_weight = opti_problem.parameter(1)\n",
    "control_weight = opti_problem.parameter(1)\n",
    "control_max = opti_problem.parameter(model.nu)\n",
    "\n",
    "fd = model.forward_dynamics\n",
    "\n",
    "cost = 0 \n",
    "for i in range(ns):\n",
    "    \n",
    "    dv_i = fd(q[:,i], v[:,i], u[:, i])\n",
    "    opti_problem.subject_to(v[:, i+1] == v[:,i] + dt*dv_i)\n",
    "    opti_problem.subject_to(q[:,i+1] == model.backend.integrate_configuration(q[:,i], v[:,i]*dt))\n",
    "    \n",
    "    cost += position_weight*cs.sumsqr(q[:3,i] - qf[:3])*dt\n",
    "    # so3_error = SO3(xyzw=q[3:,i]).distance(SO3(xyzw = qf[3:]))**2\n",
    "    # cost += orientation_weight*so3_error*dt\n",
    "    cost += control_weight*cs.sumsqr(u[:,i])*dt\n",
    "    cost += velocity_weight*cs.sumsqr(v[:,i])*dt\n",
    "    # cost += acceleration_weight*cs.sumsqr(dv_i)*dt\n",
    "    opti_problem.subject_to(opti_problem.bounded(np.zeros(model.nu), u[:, i], control_max))\n",
    "    opti_problem.subject_to(q[2, i] >= 0.4)\n",
    "    \n",
    "opti_problem.subject_to(v[:,0] == np.zeros(model.nv))\n",
    "opti_problem.subject_to(v[:, -1] == np.zeros(model.nv))\n",
    "opti_problem.subject_to(q[:, 0] == q0)\n",
    "opti_problem.subject_to(q[:, -1] == qf)\n",
    "\n",
    "opti_problem.minimize(cost)\n",
    "opti_problem.solver('ipopt')"
   ]
  },
  {
   "cell_type": "code",
   "execution_count": 7,
   "metadata": {},
   "outputs": [],
   "source": [
    "np.random.seed(42)"
   ]
  },
  {
   "cell_type": "code",
   "execution_count": 8,
   "metadata": {},
   "outputs": [],
   "source": [
    "Q_INIT = np.array([0, 0, 1.5, 0,0,0, 1])\n",
    "quat_random = np.random.rand(4)\n",
    "quat_random /= np.linalg.norm(quat_random)\n",
    "Q_INIT[3:] = quat_random\n",
    "Q_FINAL = np.array([0, 0., 2.5, 0, 0, 0, 1])\n",
    "Q_FINAL[:3] += np.random.randn(3)\n",
    "\n",
    "t_final = 3\n",
    "\n",
    "\n",
    "opti_problem.set_value(control_max, 50*np.ones(model.nu) )\n",
    "opti_problem.set_value(q0, Q_INIT)\n",
    "opti_problem.set_value(qf, Q_FINAL)\n",
    "opti_problem.set_value(tf[0], t_final)\n",
    "\n",
    "opti_problem.set_value(position_weight[0], 5)\n",
    "# opti_problem.set_value(orientation_weight[0], 0)\n",
    "opti_problem.set_value(velocity_weight[0], 10)\n",
    "opti_problem.set_value(acceleration_weight[0], 5)\n",
    "opti_problem.set_value(control_weight[0], 5)\n",
    "opti_problem.set_initial(q[3:,:], np.array([Q_INIT[3:]]*(ns+1)).T)\n",
    "opti_problem.set_initial(q[:3,:], np.linspace(Q_INIT[:3], Q_FINAL[:3], ns+1).T)\n",
    "\n",
    "ren.set_state(Q_INIT)\n",
    "ren.markers[ns+1](position=Q_FINAL[:3],\n",
    "                color=[1, 0, 0, 0.5],\n",
    "                size=0.04)\n",
    "ren.markers[ns+2](position=Q_INIT[:3],\n",
    "                color=[0, 1, 0, 0.5],\n",
    "                size=0.04)\n"
   ]
  },
  {
   "cell_type": "code",
   "execution_count": 9,
   "metadata": {},
   "outputs": [
    {
     "name": "stderr",
     "output_type": "stream",
     "text": [
      "CasADi - 2024-06-13 16:13:35 WARNING(\".../casadi/core/casadi_os.cpp:166: Assertion \"handle!=nullptr\" failed:\n",
      "PluginInterface::load_plugin: Cannot load shared library 'libcasadi_nlpsol_ipopt.so': \n",
      "   (\n",
      "    Searched directories: 1. casadipath from GlobalOptions\n",
      "                          2. CASADIPATH env var\n",
      "                          3. PATH env var (Windows)\n",
      "                          4. LD_LIBRARY_PATH env var (Linux)\n",
      "                          5. DYLD_LIBRARY_PATH env var (osx)\n",
      "    A library may be 'not found' even if the file exists:\n",
      "          * library is not compatible (different compiler/bitness)\n",
      "          * the dependencies are not found\n",
      "   )\n",
      "  Tried '/home/m8/miniforge3/envs/var2/lib/python3.10/site-packages/cmeel.prefix/lib/python3.10/site-packages/casadi' :\n",
      "    Error code: /home/m8/miniforge3/envs/var2/lib/python3.10/site-packages/cmeel.prefix/lib/python3.10/site-packages/casadi/libcasadi_nlpsol_ipopt.so: cannot open shared object file: No such file or directory\n",
      "  Tried '' :\n",
      "    Error code: libcoinmumps.so.3: cannot open shared object file: No such file or directory\n",
      "  Tried '.' :\n",
      "    Error code: ./libcasadi_nlpsol_ipopt.so: cannot open shared object file: No such file or directory\") [.../casadi/core/plugin_interface.hpp:142]\n"
     ]
    },
    {
     "ename": "RuntimeError",
     "evalue": "Error in Opti::value [OptiNode] at .../casadi/core/optistack.cpp:173:\n.../casadi/core/optistack_internal.cpp:871: Assertion \"solved()\" failed:\nThis action is forbidden since you have not solved the Opti stack yet (with calling 'solve').",
     "output_type": "error",
     "traceback": [
      "\u001b[0;31m---------------------------------------------------------------------------\u001b[0m",
      "\u001b[0;31mRuntimeError\u001b[0m                              Traceback (most recent call last)",
      "\u001b[0;32m/tmp/ipykernel_19204/1386977051.py\u001b[0m in \u001b[0;36m?\u001b[0;34m()\u001b[0m\n\u001b[1;32m      5\u001b[0m     \u001b[0mu_opt\u001b[0m \u001b[0;34m=\u001b[0m \u001b[0mopti_problem\u001b[0m\u001b[0;34m.\u001b[0m\u001b[0mvalue\u001b[0m\u001b[0;34m(\u001b[0m\u001b[0mu\u001b[0m\u001b[0;34m)\u001b[0m\u001b[0;34m\u001b[0m\u001b[0;34m\u001b[0m\u001b[0m\n\u001b[1;32m      6\u001b[0m \u001b[0;32mexcept\u001b[0m \u001b[0mException\u001b[0m \u001b[0;32mas\u001b[0m \u001b[0me\u001b[0m\u001b[0;34m:\u001b[0m\u001b[0;34m\u001b[0m\u001b[0;34m\u001b[0m\u001b[0m\n\u001b[0;32m----> 7\u001b[0;31m     \u001b[0mq_opt\u001b[0m \u001b[0;34m=\u001b[0m \u001b[0mopti_problem\u001b[0m\u001b[0;34m.\u001b[0m\u001b[0mdebug\u001b[0m\u001b[0;34m.\u001b[0m\u001b[0mvalue\u001b[0m\u001b[0;34m(\u001b[0m\u001b[0mq\u001b[0m\u001b[0;34m)\u001b[0m\u001b[0;34m\u001b[0m\u001b[0;34m\u001b[0m\u001b[0m\n\u001b[0m\u001b[1;32m      8\u001b[0m     \u001b[0mv_opt\u001b[0m \u001b[0;34m=\u001b[0m \u001b[0mopti_problem\u001b[0m\u001b[0;34m.\u001b[0m\u001b[0mdebug\u001b[0m\u001b[0;34m.\u001b[0m\u001b[0mvalue\u001b[0m\u001b[0;34m(\u001b[0m\u001b[0mv\u001b[0m\u001b[0;34m)\u001b[0m\u001b[0;34m\u001b[0m\u001b[0;34m\u001b[0m\u001b[0m\n",
      "\u001b[0;32m~/miniforge3/envs/var2/lib/python3.10/site-packages/cmeel.prefix/lib/python3.10/site-packages/casadi/casadi.py\u001b[0m in \u001b[0;36m?\u001b[0;34m(self, *args)\u001b[0m\n\u001b[1;32m  22971\u001b[0m \u001b[0;34m\u001b[0m\u001b[0m\n\u001b[1;32m  22972\u001b[0m         \"\"\"\n\u001b[0;32m> 22973\u001b[0;31m         \u001b[0;32mreturn\u001b[0m \u001b[0m_casadi\u001b[0m\u001b[0;34m.\u001b[0m\u001b[0mOpti_solve\u001b[0m\u001b[0;34m(\u001b[0m\u001b[0mself\u001b[0m\u001b[0;34m,\u001b[0m \u001b[0;34m*\u001b[0m\u001b[0margs\u001b[0m\u001b[0;34m)\u001b[0m\u001b[0;34m\u001b[0m\u001b[0;34m\u001b[0m\u001b[0m\n\u001b[0m",
      "\u001b[0;31mRuntimeError\u001b[0m: Error in Opti::solve [OptiNode] at .../casadi/core/optistack.cpp:157:\n.../casadi/core/plugin_interface.hpp:292: Plugin 'ipopt' is not found.",
      "\nDuring handling of the above exception, another exception occurred:\n",
      "\u001b[0;31mRuntimeError\u001b[0m                              Traceback (most recent call last)",
      "\u001b[0;32m/tmp/ipykernel_19204/1386977051.py\u001b[0m in \u001b[0;36m?\u001b[0;34m()\u001b[0m\n\u001b[1;32m      3\u001b[0m     \u001b[0mq_opt\u001b[0m \u001b[0;34m=\u001b[0m \u001b[0mopti_problem\u001b[0m\u001b[0;34m.\u001b[0m\u001b[0mvalue\u001b[0m\u001b[0;34m(\u001b[0m\u001b[0mq\u001b[0m\u001b[0;34m)\u001b[0m\u001b[0;34m\u001b[0m\u001b[0;34m\u001b[0m\u001b[0m\n\u001b[1;32m      4\u001b[0m     \u001b[0mv_opt\u001b[0m \u001b[0;34m=\u001b[0m \u001b[0mopti_problem\u001b[0m\u001b[0;34m.\u001b[0m\u001b[0mvalue\u001b[0m\u001b[0;34m(\u001b[0m\u001b[0mv\u001b[0m\u001b[0;34m)\u001b[0m\u001b[0;34m\u001b[0m\u001b[0;34m\u001b[0m\u001b[0m\n\u001b[1;32m      5\u001b[0m     \u001b[0mu_opt\u001b[0m \u001b[0;34m=\u001b[0m \u001b[0mopti_problem\u001b[0m\u001b[0;34m.\u001b[0m\u001b[0mvalue\u001b[0m\u001b[0;34m(\u001b[0m\u001b[0mu\u001b[0m\u001b[0;34m)\u001b[0m\u001b[0;34m\u001b[0m\u001b[0;34m\u001b[0m\u001b[0m\n\u001b[1;32m      6\u001b[0m \u001b[0;32mexcept\u001b[0m \u001b[0mException\u001b[0m \u001b[0;32mas\u001b[0m \u001b[0me\u001b[0m\u001b[0;34m:\u001b[0m\u001b[0;34m\u001b[0m\u001b[0;34m\u001b[0m\u001b[0m\n\u001b[0;32m----> 7\u001b[0;31m     \u001b[0mq_opt\u001b[0m \u001b[0;34m=\u001b[0m \u001b[0mopti_problem\u001b[0m\u001b[0;34m.\u001b[0m\u001b[0mdebug\u001b[0m\u001b[0;34m.\u001b[0m\u001b[0mvalue\u001b[0m\u001b[0;34m(\u001b[0m\u001b[0mq\u001b[0m\u001b[0;34m)\u001b[0m\u001b[0;34m\u001b[0m\u001b[0;34m\u001b[0m\u001b[0m\n\u001b[0m\u001b[1;32m      8\u001b[0m     \u001b[0mv_opt\u001b[0m \u001b[0;34m=\u001b[0m \u001b[0mopti_problem\u001b[0m\u001b[0;34m.\u001b[0m\u001b[0mdebug\u001b[0m\u001b[0;34m.\u001b[0m\u001b[0mvalue\u001b[0m\u001b[0;34m(\u001b[0m\u001b[0mv\u001b[0m\u001b[0;34m)\u001b[0m\u001b[0;34m\u001b[0m\u001b[0;34m\u001b[0m\u001b[0m\n\u001b[1;32m      9\u001b[0m     \u001b[0mu_opt\u001b[0m \u001b[0;34m=\u001b[0m \u001b[0mopti_problem\u001b[0m\u001b[0;34m.\u001b[0m\u001b[0mdebug\u001b[0m\u001b[0;34m.\u001b[0m\u001b[0mvalue\u001b[0m\u001b[0;34m(\u001b[0m\u001b[0mu\u001b[0m\u001b[0;34m)\u001b[0m\u001b[0;34m\u001b[0m\u001b[0;34m\u001b[0m\u001b[0m\n\u001b[1;32m     10\u001b[0m     \u001b[0mprint\u001b[0m\u001b[0;34m(\u001b[0m\u001b[0me\u001b[0m\u001b[0;34m)\u001b[0m\u001b[0;34m\u001b[0m\u001b[0;34m\u001b[0m\u001b[0m\n",
      "\u001b[0;32m~/miniforge3/envs/var2/lib/python3.10/site-packages/cmeel.prefix/lib/python3.10/site-packages/casadi/casadi.py\u001b[0m in \u001b[0;36m?\u001b[0;34m(self, *args)\u001b[0m\n\u001b[1;32m  23025\u001b[0m         \u001b[0mhttps\u001b[0m\u001b[0;34m:\u001b[0m\u001b[0;34m//\u001b[0m\u001b[0mgithub\u001b[0m\u001b[0;34m.\u001b[0m\u001b[0mcom\u001b[0m\u001b[0;34m/\u001b[0m\u001b[0mcasadi\u001b[0m\u001b[0;34m/\u001b[0m\u001b[0mcasadi\u001b[0m\u001b[0;34m/\u001b[0m\u001b[0mblob\u001b[0m\u001b[0;34m/\u001b[0m\u001b[0mdevelop\u001b[0m\u001b[0;34m/\u001b[0m\u001b[0mcasadi\u001b[0m\u001b[0;34m/\u001b[0m\u001b[0mcore\u001b[0m\u001b[0;34m/\u001b[0m\u001b[0moptistack\u001b[0m\u001b[0;34m.\u001b[0m\u001b[0mcpp\u001b[0m\u001b[0;31m#L186-L192\u001b[0m\u001b[0;34m\u001b[0m\u001b[0;34m\u001b[0m\u001b[0m\n\u001b[1;32m  23026\u001b[0m \u001b[0;34m\u001b[0m\u001b[0m\n\u001b[1;32m  23027\u001b[0m \u001b[0;34m\u001b[0m\u001b[0m\n\u001b[1;32m  23028\u001b[0m         \"\"\"\n\u001b[0;32m> 23029\u001b[0;31m         \u001b[0;32mreturn\u001b[0m \u001b[0m_casadi\u001b[0m\u001b[0;34m.\u001b[0m\u001b[0mOpti_value\u001b[0m\u001b[0;34m(\u001b[0m\u001b[0mself\u001b[0m\u001b[0;34m,\u001b[0m \u001b[0;34m*\u001b[0m\u001b[0margs\u001b[0m\u001b[0;34m)\u001b[0m\u001b[0;34m\u001b[0m\u001b[0;34m\u001b[0m\u001b[0m\n\u001b[0m",
      "\u001b[0;31mRuntimeError\u001b[0m: Error in Opti::value [OptiNode] at .../casadi/core/optistack.cpp:173:\n.../casadi/core/optistack_internal.cpp:871: Assertion \"solved()\" failed:\nThis action is forbidden since you have not solved the Opti stack yet (with calling 'solve')."
     ]
    }
   ],
   "source": [
    "try:\n",
    "    sol = opti_problem.solve()\n",
    "    q_opt = opti_problem.value(q)\n",
    "    v_opt = opti_problem.value(v)\n",
    "    u_opt = opti_problem.value(u)\n",
    "except Exception as e:\n",
    "    q_opt = opti_problem.debug.value(q)\n",
    "    v_opt = opti_problem.debug.value(v)\n",
    "    u_opt = opti_problem.debug.value(u)\n",
    "    print(e)"
   ]
  },
  {
   "cell_type": "code",
   "execution_count": null,
   "metadata": {},
   "outputs": [],
   "source": [
    "ren.set_state(Q_INIT)"
   ]
  },
  {
   "cell_type": "code",
   "execution_count": null,
   "metadata": {},
   "outputs": [],
   "source": [
    "\n",
    "sleep(5)\n",
    "for i in range(ns+1):\n",
    "    ren.set_state(q_opt[:, i])\n",
    "\n",
    "    for j in range(i):\n",
    "        ren.markers[j](position=q_opt[:3, j],\n",
    "                       color=[0, 0, 1, 0.5],\n",
    "                       size=j*0.02/ns + 0.01)\n",
    "\n",
    "    ren.markers[ns+1](position=Q_FINAL[:3],\n",
    "                      color=[1, 0, 0, 0.5],\n",
    "                      size=0.04)\n",
    "    ren.markers[ns+2](position=Q_INIT[:3],\n",
    "                    color=[0, 1, 0, 0.5],\n",
    "                    size=0.04)\n",
    "    sleep(t_final/ns)"
   ]
  },
  {
   "cell_type": "code",
   "execution_count": null,
   "metadata": {},
   "outputs": [],
   "source": [
    "import matplotlib.pyplot as plt\n",
    "plt.plot(q_opt[:3,:].T)\n",
    "plt.show()\n",
    "\n",
    "plt.plot(q_opt[3:7,:].T)\n",
    "plt.show()\n"
   ]
  },
  {
   "cell_type": "code",
   "execution_count": null,
   "metadata": {},
   "outputs": [],
   "source": [
    "plt.plot(v_opt[:3,:].T)\n",
    "plt.show()\n",
    "\n",
    "plt.plot(v_opt[3:,:].T)\n",
    "plt.show()\n"
   ]
  },
  {
   "cell_type": "code",
   "execution_count": null,
   "metadata": {},
   "outputs": [],
   "source": [
    "\n",
    "plt.plot(u_opt.T)\n",
    "plt.show()"
   ]
  },
  {
   "cell_type": "code",
   "execution_count": null,
   "metadata": {},
   "outputs": [],
   "source": [
    "np.linalg.norm(q_opt[3:7,:].T, axis = 1)"
   ]
  }
 ],
 "metadata": {
  "kernelspec": {
   "display_name": "Python 3 (ipykernel)",
   "language": "python",
   "name": "python3"
  },
  "language_info": {
   "codemirror_mode": {
    "name": "ipython",
    "version": 3
   },
   "file_extension": ".py",
   "mimetype": "text/x-python",
   "name": "python",
   "nbconvert_exporter": "python",
   "pygments_lexer": "ipython3",
   "version": "3.10.14"
  }
 },
 "nbformat": 4,
 "nbformat_minor": 4
}
